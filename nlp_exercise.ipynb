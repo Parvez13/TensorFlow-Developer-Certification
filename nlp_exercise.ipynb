{
  "nbformat": 4,
  "nbformat_minor": 0,
  "metadata": {
    "colab": {
      "name": "nlp_exercise.ipynb",
      "provenance": [],
      "authorship_tag": "ABX9TyN2EHupYt08QMIQhxLSmPwT",
      "include_colab_link": true
    },
    "kernelspec": {
      "name": "python3",
      "display_name": "Python 3"
    },
    "language_info": {
      "name": "python"
    },
    "accelerator": "GPU"
  },
  "cells": [
    {
      "cell_type": "markdown",
      "metadata": {
        "id": "view-in-github",
        "colab_type": "text"
      },
      "source": [
        "<a href=\"https://colab.research.google.com/github/Parvez13/TensorFlow-Developer-Certification/blob/master/nlp_exercise.ipynb\" target=\"_parent\"><img src=\"https://colab.research.google.com/assets/colab-badge.svg\" alt=\"Open In Colab\"/></a>"
      ]
    },
    {
      "cell_type": "markdown",
      "metadata": {
        "id": "NI151pMbl6v8"
      },
      "source": [
        "# 08. Introduction to NLP (Natural Language Processing) in TensorFlow Exercises"
      ]
    },
    {
      "cell_type": "markdown",
      "metadata": {
        "id": "ie1fVMowitaH"
      },
      "source": [
        "### 1. Rebuild , compile and train `model_1`, `model_2` and `model_5` using the `Keras Sequential API` instead of the Functional API"
      ]
    },
    {
      "cell_type": "code",
      "metadata": {
        "id": "1JXvtV7KiqPS"
      },
      "source": [
        "# import tensorflow\n",
        "import tensorflow as tf\n",
        "\n",
        "# import required libraries\n",
        "import numpy as np\n",
        "import pandas as pd\n",
        "import matplotlib.pyplot as plt\n"
      ],
      "execution_count": 1,
      "outputs": []
    },
    {
      "cell_type": "code",
      "metadata": {
        "colab": {
          "base_uri": "https://localhost:8080/"
        },
        "id": "dAJ6nooMjgIR",
        "outputId": "125a622d-857d-43c5-8138-a4454904a9a8"
      },
      "source": [
        "# Get the dataset\n",
        "!wget !wget https://storage.googleapis.com/ztm_tf_course/nlp_getting_started.zip\n",
        "\n",
        "# Extract the zip file\n",
        "import zipfile\n",
        "\n",
        "zip_ref = zipfile.ZipFile(\"nlp_getting_started.zip\")\n",
        "zip_ref.extractall()\n",
        "zip_ref.close()"
      ],
      "execution_count": 2,
      "outputs": [
        {
          "output_type": "stream",
          "text": [
            "--2021-08-15 05:00:02--  http://!wget/\n",
            "Resolving !wget (!wget)... failed: Name or service not known.\n",
            "wget: unable to resolve host address ‘!wget’\n",
            "--2021-08-15 05:00:02--  https://storage.googleapis.com/ztm_tf_course/nlp_getting_started.zip\n",
            "Resolving storage.googleapis.com (storage.googleapis.com)... 142.251.2.128, 74.125.137.128, 142.250.141.128, ...\n",
            "Connecting to storage.googleapis.com (storage.googleapis.com)|142.251.2.128|:443... connected.\n",
            "HTTP request sent, awaiting response... 200 OK\n",
            "Length: 607343 (593K) [application/zip]\n",
            "Saving to: ‘nlp_getting_started.zip’\n",
            "\n",
            "\rnlp_getting_started   0%[                    ]       0  --.-KB/s               \rnlp_getting_started 100%[===================>] 593.11K  --.-KB/s    in 0.004s  \n",
            "\n",
            "2021-08-15 05:00:02 (134 MB/s) - ‘nlp_getting_started.zip’ saved [607343/607343]\n",
            "\n",
            "FINISHED --2021-08-15 05:00:02--\n",
            "Total wall clock time: 0.2s\n",
            "Downloaded: 1 files, 593K in 0.004s (134 MB/s)\n"
          ],
          "name": "stdout"
        }
      ]
    },
    {
      "cell_type": "code",
      "metadata": {
        "colab": {
          "base_uri": "https://localhost:8080/"
        },
        "id": "qI-ZGjQoj51e",
        "outputId": "a9808894-d391-4f4c-a729-9aaaf1524b8f"
      },
      "source": [
        "# Check train, test and sample_submission file\n",
        "\n",
        "# train csv\n",
        "print(\"Train csv.....\")\n",
        "train_df = pd.read_csv(\"train.csv\")\n",
        "print(train_df.head())\n",
        "print(\"-----\\n\")\n",
        "print(\"Test csv......\")\n",
        "test_df = pd.read_csv(\"test.csv\")\n",
        "print(test_df.head())\n",
        "print(\"-----\\n\")\n",
        "print(\"Sample Submission.....\")\n",
        "sample_submission = pd.read_csv(\"sample_submission.csv\")\n",
        "print(sample_submission.head())\n",
        "print(\"-----\\n\")"
      ],
      "execution_count": 3,
      "outputs": [
        {
          "output_type": "stream",
          "text": [
            "Train csv.....\n",
            "   id keyword  ...                                               text target\n",
            "0   1     NaN  ...  Our Deeds are the Reason of this #earthquake M...      1\n",
            "1   4     NaN  ...             Forest fire near La Ronge Sask. Canada      1\n",
            "2   5     NaN  ...  All residents asked to 'shelter in place' are ...      1\n",
            "3   6     NaN  ...  13,000 people receive #wildfires evacuation or...      1\n",
            "4   7     NaN  ...  Just got sent this photo from Ruby #Alaska as ...      1\n",
            "\n",
            "[5 rows x 5 columns]\n",
            "-----\n",
            "\n",
            "Test csv......\n",
            "   id keyword location                                               text\n",
            "0   0     NaN      NaN                 Just happened a terrible car crash\n",
            "1   2     NaN      NaN  Heard about #earthquake is different cities, s...\n",
            "2   3     NaN      NaN  there is a forest fire at spot pond, geese are...\n",
            "3   9     NaN      NaN           Apocalypse lighting. #Spokane #wildfires\n",
            "4  11     NaN      NaN      Typhoon Soudelor kills 28 in China and Taiwan\n",
            "-----\n",
            "\n",
            "Sample Submission.....\n",
            "   id  target\n",
            "0   0       0\n",
            "1   2       0\n",
            "2   3       0\n",
            "3   9       0\n",
            "4  11       0\n",
            "-----\n",
            "\n"
          ],
          "name": "stdout"
        }
      ]
    },
    {
      "cell_type": "code",
      "metadata": {
        "colab": {
          "base_uri": "https://localhost:8080/",
          "height": 406
        },
        "id": "fRhqE3w2kPXM",
        "outputId": "17766959-d2f9-4ca3-ea99-291b0a129744"
      },
      "source": [
        "# Check the value_counts\n",
        "print(\"Distribution....\")\n",
        "print(train_df['target'].value_counts())\n",
        "print(\"----\\n\")\n",
        "# import seaborn\n",
        "import seaborn as sns\n",
        "print(\"Visualize the distribution\")\n",
        "sns.countplot(x='target', data=train_df);"
      ],
      "execution_count": 4,
      "outputs": [
        {
          "output_type": "stream",
          "text": [
            "Distribution....\n",
            "0    4342\n",
            "1    3271\n",
            "Name: target, dtype: int64\n",
            "----\n",
            "\n",
            "Visualize the distribution\n"
          ],
          "name": "stdout"
        },
        {
          "output_type": "display_data",
          "data": {
            "image/png": "[encoded data removed]",
            "text/plain": [
              "<Figure size 432x288 with 1 Axes>"
            ]
          },
          "metadata": {
            "tags": [],
            "needs_background": "light"
          }
        }
      ]
    },
    {
      "cell_type": "code",
      "metadata": {
        "colab": {
          "base_uri": "https://localhost:8080/",
          "height": 206
        },
        "id": "fEOAtb87lNv1",
        "outputId": "22921337-dd42-40dd-aa59-c490b8be16fb"
      },
      "source": [
        "# Let's shuffle the data\n",
        "train_df_shuffled = train_df.sample(frac=1, random_state=42)\n",
        "train_df_shuffled.head()"
      ],
      "execution_count": 5,
      "outputs": [
        {
          "output_type": "execute_result",
          "data": {
            "text/html": [
              "<div>\n",
              "<style scoped>\n",
              "    .dataframe tbody tr th:only-of-type {\n",
              "        vertical-align: middle;\n",
              "    }\n",
              "\n",
              "    .dataframe tbody tr th {\n",
              "        vertical-align: top;\n",
              "    }\n",
              "\n",
              "    .dataframe thead th {\n",
              "        text-align: right;\n",
              "    }\n",
              "</style>\n",
              "<table border=\"1\" class=\"dataframe\">\n",
              "  <thead>\n",
              "    <tr style=\"text-align: right;\">\n",
              "      <th></th>\n",
              "      <th>id</th>\n",
              "      <th>keyword</th>\n",
              "      <th>location</th>\n",
              "      <th>text</th>\n",
              "      <th>target</th>\n",
              "    </tr>\n",
              "  </thead>\n",
              "  <tbody>\n",
              "    <tr>\n",
              "      <th>2644</th>\n",
              "      <td>3796</td>\n",
              "      <td>destruction</td>\n",
              "      <td>NaN</td>\n",
              "      <td>So you have a new weapon that can cause un-ima...</td>\n",
              "      <td>1</td>\n",
              "    </tr>\n",
              "    <tr>\n",
              "      <th>2227</th>\n",
              "      <td>3185</td>\n",
              "      <td>deluge</td>\n",
              "      <td>NaN</td>\n",
              "      <td>The f$&amp;amp;@ing things I do for #GISHWHES Just...</td>\n",
              "      <td>0</td>\n",
              "    </tr>\n",
              "    <tr>\n",
              "      <th>5448</th>\n",
              "      <td>7769</td>\n",
              "      <td>police</td>\n",
              "      <td>UK</td>\n",
              "      <td>DT @georgegalloway: RT @Galloway4Mayor: ÛÏThe...</td>\n",
              "      <td>1</td>\n",
              "    </tr>\n",
              "    <tr>\n",
              "      <th>132</th>\n",
              "      <td>191</td>\n",
              "      <td>aftershock</td>\n",
              "      <td>NaN</td>\n",
              "      <td>Aftershock back to school kick off was great. ...</td>\n",
              "      <td>0</td>\n",
              "    </tr>\n",
              "    <tr>\n",
              "      <th>6845</th>\n",
              "      <td>9810</td>\n",
              "      <td>trauma</td>\n",
              "      <td>Montgomery County, MD</td>\n",
              "      <td>in response to trauma Children of Addicts deve...</td>\n",
              "      <td>0</td>\n",
              "    </tr>\n",
              "  </tbody>\n",
              "</table>\n",
              "</div>"
            ],
            "text/plain": [
              "        id  ... target\n",
              "2644  3796  ...      1\n",
              "2227  3185  ...      0\n",
              "5448  7769  ...      1\n",
              "132    191  ...      0\n",
              "6845  9810  ...      0\n",
              "\n",
              "[5 rows x 5 columns]"
            ]
          },
          "metadata": {
            "tags": []
          },
          "execution_count": 5
        }
      ]
    },
    {
      "cell_type": "code",
      "metadata": {
        "colab": {
          "base_uri": "https://localhost:8080/"
        },
        "id": "xeIXt4vEnChL",
        "outputId": "a0ed060b-1c19-45d1-8326-0636065c1d20"
      },
      "source": [
        "# Split the dataset into training and validation sets\n",
        "from sklearn.model_selection import train_test_split\n",
        "\n",
        "train_sentences, val_sentences, train_labels, val_labels = train_test_split(train_df_shuffled['text'].to_numpy(),\n",
        "                                                                            train_df_shuffled['target'].to_numpy(),\n",
        "                                                                            test_size=0.2,\n",
        "                                                                            random_state=42)\n",
        "\n",
        "# Check length\n",
        "len(train_sentences), len(train_labels), len(val_sentences), len(val_labels)"
      ],
      "execution_count": 6,
      "outputs": [
        {
          "output_type": "execute_result",
          "data": {
            "text/plain": [
              "(6090, 6090, 1523, 1523)"
            ]
          },
          "metadata": {
            "tags": []
          },
          "execution_count": 6
        }
      ]
    },
    {
      "cell_type": "code",
      "metadata": {
        "colab": {
          "base_uri": "https://localhost:8080/"
        },
        "id": "1h1Wdth4nfsr",
        "outputId": "e9c95be3-e5e4-40fa-9a10-376aaa23e227"
      },
      "source": [
        "# Check the samples\n",
        "train_sentences[:10], train_labels[:10]"
      ],
      "execution_count": 7,
      "outputs": [
        {
          "output_type": "execute_result",
          "data": {
            "text/plain": [
              "(array(['Detonation fashionable mountaineering electronic watch water-resistant couples leisure tab\\x89Û_ http://t.co/E61x9Y65QD http://t.co/OVLET0gDqm',\n",
              "        \"Men escape car engulfed in flames in Parley's Canyon crews investigating cause - http://t.co/tFan6qq2Ys http://t.co/rAkwWritPo\",\n",
              "        'I-77 Mile Marker 31 to 40 South Mooresville  Iredell Vehicle Accident Congestion at 8/6 1:18 PM',\n",
              "        \"#Greece's tax revenues collapse as debt crisis continues via @guardian #bailout http://t.co/cJvbQXw83s ^mp\",\n",
              "        'Be not afraid of sudden fear neither of the desolation of the wicked when it cometh. For the Lord shall be thy... http://t.co/bP597YDs2b',\n",
              "        'Storm batters Auckland and Northland: A violent overnight storm has battered Auckland and Northland uprooting... http://t.co/enrPGRgtTs',\n",
              "        \"Benzema increasingly looks to be a casualty of Benitez's new look squad. Arsenal bound? 50-50 chance I think\",\n",
              "        'Acquire your postexistence straight a elevation in addition to upheaval ideas yet perquisite: bRZjc',\n",
              "        \"@NeanderRebel If you take the suit off him I wouldn't be surprised to hear this is the face that belonged to another democrat mass-murderer\",\n",
              "        'kc5kH mhtw4fnet\\n\\nCrews gaining on huge Northern California wildfire - CBS News'],\n",
              "       dtype=object), array([0, 1, 1, 1, 0, 1, 1, 0, 1, 1]))"
            ]
          },
          "metadata": {
            "tags": []
          },
          "execution_count": 7
        }
      ]
    },
    {
      "cell_type": "code",
      "metadata": {
        "colab": {
          "base_uri": "https://localhost:8080/"
        },
        "id": "5_W8pMeIrQg8",
        "outputId": "7c635c69-d571-4dd4-c2ff-b8046c1b8ce5"
      },
      "source": [
        "# Average tokens\n",
        "round(sum([len(i.split())for i in train_sentences])/len(train_sentences))"
      ],
      "execution_count": 8,
      "outputs": [
        {
          "output_type": "execute_result",
          "data": {
            "text/plain": [
              "15"
            ]
          },
          "metadata": {
            "tags": []
          },
          "execution_count": 8
        }
      ]
    },
    {
      "cell_type": "code",
      "metadata": {
        "id": "wrJrLkfyqhXp"
      },
      "source": [
        "# Converting Text Into Numbers\n",
        "from tensorflow.keras.layers.experimental.preprocessing import TextVectorization\n",
        "\n",
        "max_tokens = 10000\n",
        "max_sequence_length = 15\n",
        "\n",
        "text_vectorizer = TextVectorization(max_tokens=max_tokens,\n",
        "                                    output_mode='int',\n",
        "                                    output_sequence_length=max_sequence_length)\n"
      ],
      "execution_count": 9,
      "outputs": []
    },
    {
      "cell_type": "code",
      "metadata": {
        "id": "lhMcCmugr4aB"
      },
      "source": [
        "# Adapt the train_sentences to tokenization\n",
        "text_vectorizer.adapt(train_sentences)"
      ],
      "execution_count": 10,
      "outputs": []
    },
    {
      "cell_type": "code",
      "metadata": {
        "colab": {
          "base_uri": "https://localhost:8080/"
        },
        "id": "YVGoDLvfsEAE",
        "outputId": "8dfbbb52-b2d7-4111-91c9-a4ed21f3d5d1"
      },
      "source": [
        "# sample\n",
        "sample_sentences = \"Let me love you! It's been a hell of a ride, driving the edge of a knife.\"\n",
        "text_vectorizer([sample_sentences])"
      ],
      "execution_count": 11,
      "outputs": [
        {
          "output_type": "execute_result",
          "data": {
            "text/plain": [
              "<tf.Tensor: shape=(1, 15), dtype=int64, numpy=\n",
              "array([[ 176,   32,  110,   12,   37,   61,    3,  566,    6,    3, 2532,\n",
              "        1049,    2,    1,    6]])>"
            ]
          },
          "metadata": {
            "tags": []
          },
          "execution_count": 11
        }
      ]
    },
    {
      "cell_type": "code",
      "metadata": {
        "colab": {
          "base_uri": "https://localhost:8080/"
        },
        "id": "amy6KNIbsqco",
        "outputId": "79b2396a-2e14-41f8-a698-ba458795744e"
      },
      "source": [
        "# Check the train sentneces\n",
        "import random\n",
        "random_sentence = random.choice(train_sentences)\n",
        "print(f\"Original text:\\n {random_sentence}\\\n",
        "\\n\\n Vectorized Version:\")\n",
        "text_vectorizer([random_sentence])"
      ],
      "execution_count": 12,
      "outputs": [
        {
          "output_type": "stream",
          "text": [
            "Original text:\n",
            " Party for Bestival crash victim Michael Molloy on what would have been his 21st http://t.co/BIkR8zzbhA\n",
            "\n",
            " Vectorized Version:\n"
          ],
          "name": "stdout"
        },
        {
          "output_type": "execute_result",
          "data": {
            "text/plain": [
              "<tf.Tensor: shape=(1, 15), dtype=int64, numpy=\n",
              "array([[1157,   10,    1,   86, 1231, 1272, 9905,   11,   54,   80,   24,\n",
              "          61,   76,    1,    1]])>"
            ]
          },
          "metadata": {
            "tags": []
          },
          "execution_count": 12
        }
      ]
    },
    {
      "cell_type": "code",
      "metadata": {
        "colab": {
          "base_uri": "https://localhost:8080/"
        },
        "id": "1cjGIYgTs2IB",
        "outputId": "ea027d02-d0f4-45b0-eb08-6c49b73fdc98"
      },
      "source": [
        "# Get the unique words in vocabulary\n",
        "words_in_vocab = text_vectorizer.get_vocabulary()\n",
        "len(words_in_vocab)"
      ],
      "execution_count": 13,
      "outputs": [
        {
          "output_type": "execute_result",
          "data": {
            "text/plain": [
              "10000"
            ]
          },
          "metadata": {
            "tags": []
          },
          "execution_count": 13
        }
      ]
    },
    {
      "cell_type": "code",
      "metadata": {
        "id": "Yqu26vqFti_X"
      },
      "source": [
        "# Turn the numbers into vectors 'Word2Vec'\n",
        "from tensorflow.keras import layers\n",
        "\n",
        "embeddings = layers.Embedding(input_dim=max_tokens,\n",
        "                              output_dim=128,\n",
        "                              embeddings_initializer='uniform',\n",
        "                              input_length=max_sequence_length)"
      ],
      "execution_count": 14,
      "outputs": []
    },
    {
      "cell_type": "code",
      "metadata": {
        "colab": {
          "base_uri": "https://localhost:8080/"
        },
        "id": "jeMOrmjYuTCn",
        "outputId": "3d27d07c-d8c5-4cf5-a275-7e2a5e280560"
      },
      "source": [
        "# Get a  random sentence from the training set\n",
        "random_sentence = random.choice(train_sentences)\n",
        "print(f\"Original text:\\n {random_sentence}\\\n",
        "       \\n\\nEmbedded version: \")\n",
        "# Embed the random sentence (turn it into dense vectors of fixe size)\n",
        "sample_embed = embeddings(text_vectorizer([random_sentence]))\n",
        "sample_embed"
      ],
      "execution_count": 15,
      "outputs": [
        {
          "output_type": "stream",
          "text": [
            "Original text:\n",
            " Ford : Other Military VERY NICE M151A1 MUTT with matching M416 Trailer - Full read by eBay http://t.co/9rrYaYlgyY http://t.co/Nm83jOhLUu       \n",
            "\n",
            "Embedded version: \n"
          ],
          "name": "stdout"
        },
        {
          "output_type": "execute_result",
          "data": {
            "text/plain": [
              "<tf.Tensor: shape=(1, 15, 128), dtype=float32, numpy=\n",
              "array([[[ 0.01886543, -0.03940039,  0.00435781, ...,  0.03607829,\n",
              "         -0.02342892, -0.00440959],\n",
              "        [ 0.04684729, -0.04736873,  0.03702812, ...,  0.04104495,\n",
              "         -0.01132289,  0.03959056],\n",
              "        [-0.03081011,  0.0354659 , -0.04305562, ..., -0.02965742,\n",
              "          0.04114287,  0.04627284],\n",
              "        ...,\n",
              "        [ 0.02849576,  0.0433973 ,  0.01605649, ...,  0.0067045 ,\n",
              "         -0.04361096,  0.03455207],\n",
              "        [ 0.03336919, -0.04478925,  0.008271  , ..., -0.02931347,\n",
              "         -0.00490816, -0.00135543],\n",
              "        [ 0.02936027, -0.03590301, -0.03549463, ..., -0.00256609,\n",
              "          0.00109116,  0.00032694]]], dtype=float32)>"
            ]
          },
          "metadata": {
            "tags": []
          },
          "execution_count": 15
        }
      ]
    },
    {
      "cell_type": "code",
      "metadata": {
        "colab": {
          "base_uri": "https://localhost:8080/"
        },
        "id": "M8H-zM7Ru8LR",
        "outputId": "c5a9b9c9-9739-4ba6-fc0a-844544b54365"
      },
      "source": [
        "# Model 1 Dense layer\n",
        "\n",
        "model_1 = tf.keras.Sequential([\n",
        "      layers.Input(shape=(1,), dtype='string'),\n",
        "      text_vectorizer,\n",
        "      embeddings,\n",
        "      layers.GlobalAveragePooling1D(),\n",
        "      layers.Dense(1, activation='sigmoid')\n",
        "])\n",
        "\n",
        "# Compiling the model\n",
        "model_1.compile(loss=tf.keras.losses.BinaryCrossentropy(),\n",
        "                optimizer=tf.keras.optimizers.Adam(),\n",
        "                metrics=['accuracy'])\n",
        "\n",
        "# Fit\n",
        "model_1_history = model_1.fit(train_sentences,\n",
        "                              train_labels,\n",
        "                              epochs=5,\n",
        "                              validation_data=(val_sentences, val_labels))"
      ],
      "execution_count": 16,
      "outputs": [
        {
          "output_type": "stream",
          "text": [
            "WARNING:tensorflow:Please add `keras.layers.InputLayer` instead of `keras.Input` to Sequential model. `keras.Input` is intended to be used by Functional model.\n",
            "Epoch 1/5\n",
            "191/191 [==============================] - 6s 15ms/step - loss: 0.6219 - accuracy: 0.6882 - val_loss: 0.5476 - val_accuracy: 0.7485\n",
            "Epoch 2/5\n",
            "191/191 [==============================] - 3s 14ms/step - loss: 0.4545 - accuracy: 0.8138 - val_loss: 0.4778 - val_accuracy: 0.7794\n",
            "Epoch 3/5\n",
            "191/191 [==============================] - 3s 14ms/step - loss: 0.3536 - accuracy: 0.8575 - val_loss: 0.4594 - val_accuracy: 0.7925\n",
            "Epoch 4/5\n",
            "191/191 [==============================] - 3s 14ms/step - loss: 0.2867 - accuracy: 0.8885 - val_loss: 0.4614 - val_accuracy: 0.7853\n",
            "Epoch 5/5\n",
            "191/191 [==============================] - 3s 14ms/step - loss: 0.2373 - accuracy: 0.9128 - val_loss: 0.4733 - val_accuracy: 0.7879\n"
          ],
          "name": "stdout"
        }
      ]
    },
    {
      "cell_type": "code",
      "metadata": {
        "colab": {
          "base_uri": "https://localhost:8080/"
        },
        "id": "gmRAVn0p1hEr",
        "outputId": "6bf09f39-0118-4645-a743-345c9ad3abac"
      },
      "source": [
        "model_1.summary()"
      ],
      "execution_count": 17,
      "outputs": [
        {
          "output_type": "stream",
          "text": [
            "Model: \"sequential\"\n",
            "_________________________________________________________________\n",
            "Layer (type)                 Output Shape              Param #   \n",
            "=================================================================\n",
            "text_vectorization (TextVect (None, 15)                0         \n",
            "_________________________________________________________________\n",
            "embedding (Embedding)        (None, 15, 128)           1280000   \n",
            "_________________________________________________________________\n",
            "global_average_pooling1d (Gl (None, 128)               0         \n",
            "_________________________________________________________________\n",
            "dense (Dense)                (None, 1)                 129       \n",
            "=================================================================\n",
            "Total params: 1,280,129\n",
            "Trainable params: 1,280,129\n",
            "Non-trainable params: 0\n",
            "_________________________________________________________________\n"
          ],
          "name": "stdout"
        }
      ]
    },
    {
      "cell_type": "code",
      "metadata": {
        "id": "qIlzFhoAyOO0"
      },
      "source": [
        "# plot the loss_curves\n",
        "def plot_loss_curves(history):\n",
        "\n",
        "  loss = history.history['loss']\n",
        "  val_loss=history.history['val_loss']\n",
        "\n",
        "  epochs = range(len(history.history['loss']))\n",
        "\n",
        "  accuracy = history.history['accuracy']\n",
        "  val_accuracy = history.history['val_accuracy']\n",
        "\n",
        "  plt.plot(epochs, loss, label='loss')\n",
        "  plt.plot(epochs, val_loss, label='val_loss')\n",
        "  plt.legend()\n",
        "  plt.title(\"Loss\")\n",
        "  plt.xlabel(\"Epochs\")\n",
        "\n",
        "  plt.figure()\n",
        "  plt.plot(epochs, accuracy, label='accuracy')\n",
        "  plt.plot(epochs, val_accuracy, label='val_accuracy')\n",
        "  plt.legend()\n",
        "  plt.title(\"Accuracy\")\n",
        "  plt.xlabel(\"Epochs\")"
      ],
      "execution_count": 18,
      "outputs": []
    },
    {
      "cell_type": "code",
      "metadata": {
        "colab": {
          "base_uri": "https://localhost:8080/",
          "height": 573
        },
        "id": "QjTFwWCI09bb",
        "outputId": "0e16a316-a660-4920-91ff-ad77356a41ff"
      },
      "source": [
        "plot_loss_curves(model_1_history)"
      ],
      "execution_count": 19,
      "outputs": [
        {
          "output_type": "display_data",
          "data": {
            "image/png": "[encoded data removed]",
            "text/plain": [
              "<Figure size 432x288 with 1 Axes>"
            ]
          },
          "metadata": {
            "tags": [],
            "needs_background": "light"
          }
        },
        {
          "output_type": "display_data",
          "data": {
            "image/png": "[encoded data removed]",
            "text/plain": [
              "<Figure size 432x288 with 1 Axes>"
            ]
          },
          "metadata": {
            "tags": [],
            "needs_background": "light"
          }
        }
      ]
    },
    {
      "cell_type": "code",
      "metadata": {
        "colab": {
          "base_uri": "https://localhost:8080/"
        },
        "id": "OdBHZZFd0_Rz",
        "outputId": "ab683c98-3830-40a6-83fd-3ec736cbb028"
      },
      "source": [
        "# Model 2\n",
        "model_2 = tf.keras.Sequential([\n",
        "      layers.Input(shape=(1,), dtype='string', name='input_layer'),\n",
        "      text_vectorizer,\n",
        "      embeddings,\n",
        "      layers.LSTM(64),\n",
        "      layers.Dense(1, activation='sigmoid', name='output_layer')\n",
        "])\n"
      ],
      "execution_count": 20,
      "outputs": [
        {
          "output_type": "stream",
          "text": [
            "WARNING:tensorflow:Please add `keras.layers.InputLayer` instead of `keras.Input` to Sequential model. `keras.Input` is intended to be used by Functional model.\n"
          ],
          "name": "stdout"
        }
      ]
    },
    {
      "cell_type": "code",
      "metadata": {
        "colab": {
          "base_uri": "https://localhost:8080/"
        },
        "id": "W9t-utef13w5",
        "outputId": "64991c87-20b0-47e8-c121-de9c730856ab"
      },
      "source": [
        "# compile the model\n",
        "model_2.compile(loss='binary_crossentropy',\n",
        "                optimizer='adam',\n",
        "                metrics=['accuracy'])\n",
        "\n",
        "# Fit the model\n",
        "model_2_history  = model_2.fit(train_sentences, train_labels,\n",
        "            epochs=5,\n",
        "            validation_data=(val_sentences,val_labels))"
      ],
      "execution_count": 21,
      "outputs": [
        {
          "output_type": "stream",
          "text": [
            "Epoch 1/5\n",
            "191/191 [==============================] - 9s 19ms/step - loss: 0.2219 - accuracy: 0.9187 - val_loss: 0.5397 - val_accuracy: 0.7754\n",
            "Epoch 2/5\n",
            "191/191 [==============================] - 3s 16ms/step - loss: 0.1459 - accuracy: 0.9466 - val_loss: 0.6895 - val_accuracy: 0.7853\n",
            "Epoch 3/5\n",
            "191/191 [==============================] - 3s 16ms/step - loss: 0.1155 - accuracy: 0.9588 - val_loss: 0.7167 - val_accuracy: 0.7695\n",
            "Epoch 4/5\n",
            "191/191 [==============================] - 3s 16ms/step - loss: 0.0932 - accuracy: 0.9637 - val_loss: 0.9203 - val_accuracy: 0.7689\n",
            "Epoch 5/5\n",
            "191/191 [==============================] - 3s 16ms/step - loss: 0.0752 - accuracy: 0.9688 - val_loss: 0.9779 - val_accuracy: 0.7748\n"
          ],
          "name": "stdout"
        }
      ]
    },
    {
      "cell_type": "code",
      "metadata": {
        "colab": {
          "base_uri": "https://localhost:8080/",
          "height": 573
        },
        "id": "RLyfq2Qh2lPh",
        "outputId": "55f7b58a-f7d9-4ed9-a417-0edfaea19092"
      },
      "source": [
        "plot_loss_curves(model_2_history)"
      ],
      "execution_count": 22,
      "outputs": [
        {
          "output_type": "display_data",
          "data": {
            "image/png": "[encoded data removed]",
            "text/plain": [
              "<Figure size 432x288 with 1 Axes>"
            ]
          },
          "metadata": {
            "tags": [],
            "needs_background": "light"
          }
        },
        {
          "output_type": "display_data",
          "data": {
            "image/png": "[encoded data removed]",
            "text/plain": [
              "<Figure size 432x288 with 1 Axes>"
            ]
          },
          "metadata": {
            "tags": [],
            "needs_background": "light"
          }
        }
      ]
    },
    {
      "cell_type": "code",
      "metadata": {
        "colab": {
          "base_uri": "https://localhost:8080/"
        },
        "id": "suQe5URX3ATa",
        "outputId": "f5b35816-3576-4d74-88ae-d49c2ad9fd61"
      },
      "source": [
        "# model 5\n",
        "\n",
        "model_5 = tf.keras.Sequential([\n",
        "        layers.Input(shape=(1,), dtype='string', name='input_layer'),\n",
        "        text_vectorizer,\n",
        "        embeddings,\n",
        "        layers.Conv1D(64, 5, strides=2, padding='valid', activation='relu', name='Conv1D'),\n",
        "        layers.GlobalAveragePooling1D(name='global_average_pooling_1d'),\n",
        "        layers.Dense(1, activation='sigmoid', name='output_layer')\n",
        "])\n",
        "\n",
        "# summary\n",
        "model_5.summary()"
      ],
      "execution_count": 23,
      "outputs": [
        {
          "output_type": "stream",
          "text": [
            "WARNING:tensorflow:Please add `keras.layers.InputLayer` instead of `keras.Input` to Sequential model. `keras.Input` is intended to be used by Functional model.\n",
            "Model: \"sequential_2\"\n",
            "_________________________________________________________________\n",
            "Layer (type)                 Output Shape              Param #   \n",
            "=================================================================\n",
            "text_vectorization (TextVect (None, 15)                0         \n",
            "_________________________________________________________________\n",
            "embedding (Embedding)        (None, 15, 128)           1280000   \n",
            "_________________________________________________________________\n",
            "Conv1D (Conv1D)              (None, 6, 64)             41024     \n",
            "_________________________________________________________________\n",
            "global_average_pooling_1d (G (None, 64)                0         \n",
            "_________________________________________________________________\n",
            "output_layer (Dense)         (None, 1)                 65        \n",
            "=================================================================\n",
            "Total params: 1,321,089\n",
            "Trainable params: 1,321,089\n",
            "Non-trainable params: 0\n",
            "_________________________________________________________________\n"
          ],
          "name": "stdout"
        }
      ]
    },
    {
      "cell_type": "code",
      "metadata": {
        "colab": {
          "base_uri": "https://localhost:8080/"
        },
        "id": "kf4xx5b25OLP",
        "outputId": "7a16b127-f23d-4f39-c07e-c24b1c7c7049"
      },
      "source": [
        "model_5.compile(loss='binary_crossentropy',\n",
        "                optimizer='adam',\n",
        "                metrics=['accuracy'])\n",
        "\n",
        "# fit the model\n",
        "model_5_history = model_5.fit(train_sentences, train_labels,\n",
        "            epochs=5,\n",
        "            validation_data=(val_sentences, val_labels))"
      ],
      "execution_count": 24,
      "outputs": [
        {
          "output_type": "stream",
          "text": [
            "Epoch 1/5\n",
            "191/191 [==============================] - 29s 16ms/step - loss: 0.1732 - accuracy: 0.9476 - val_loss: 0.7275 - val_accuracy: 0.7735\n",
            "Epoch 2/5\n",
            "191/191 [==============================] - 3s 16ms/step - loss: 0.1007 - accuracy: 0.9614 - val_loss: 0.8387 - val_accuracy: 0.7663\n",
            "Epoch 3/5\n",
            "191/191 [==============================] - 3s 15ms/step - loss: 0.0810 - accuracy: 0.9677 - val_loss: 0.9529 - val_accuracy: 0.7708\n",
            "Epoch 4/5\n",
            "191/191 [==============================] - 3s 15ms/step - loss: 0.0697 - accuracy: 0.9732 - val_loss: 1.0193 - val_accuracy: 0.7649\n",
            "Epoch 5/5\n",
            "191/191 [==============================] - 3s 15ms/step - loss: 0.0587 - accuracy: 0.9759 - val_loss: 1.1151 - val_accuracy: 0.7617\n"
          ],
          "name": "stdout"
        }
      ]
    },
    {
      "cell_type": "code",
      "metadata": {
        "colab": {
          "base_uri": "https://localhost:8080/",
          "height": 573
        },
        "id": "O8Wbe37N6J_v",
        "outputId": "bb9bd3c2-c686-40f9-ff50-80534415d285"
      },
      "source": [
        "plot_loss_curves(model_5_history)"
      ],
      "execution_count": 25,
      "outputs": [
        {
          "output_type": "display_data",
          "data": {
            "image/png": "[encoded data removed]",
            "text/plain": [
              "<Figure size 432x288 with 1 Axes>"
            ]
          },
          "metadata": {
            "tags": [],
            "needs_background": "light"
          }
        },
        {
          "output_type": "display_data",
          "data": {
            "image/png": "[encoded data removed]",
            "text/plain": [
              "<Figure size 432x288 with 1 Axes>"
            ]
          },
          "metadata": {
            "tags": [],
            "needs_background": "light"
          }
        }
      ]
    },
    {
      "cell_type": "markdown",
      "metadata": {
        "id": "0wRjJMjZ63Jv"
      },
      "source": [
        "### Retrain the baseline model with 10% of the training data. How does perform compared to the Universal Sentence Encoder model with 10% of the trianing data?"
      ]
    },
    {
      "cell_type": "code",
      "metadata": {
        "colab": {
          "base_uri": "https://localhost:8080/"
        },
        "id": "ByyjDABi8x8_",
        "outputId": "19e4a15a-10e0-4a83-d6cf-09f4d3f73ce4"
      },
      "source": [
        "train_10_percent_split = int(0.1 * len(train_sentences))\n",
        "train_10_percent_split\n",
        "\n",
        "train_sentences_10_percent = train_sentences[:train_10_percent_split]\n",
        "len(train_sentences_10_percent)\n",
        "\n",
        "train_labels_10_percent = train_labels[:train_10_percent_split]\n",
        "len(train_labels_10_percent)"
      ],
      "execution_count": 26,
      "outputs": [
        {
          "output_type": "execute_result",
          "data": {
            "text/plain": [
              "609"
            ]
          },
          "metadata": {
            "tags": []
          },
          "execution_count": 26
        }
      ]
    },
    {
      "cell_type": "code",
      "metadata": {
        "colab": {
          "base_uri": "https://localhost:8080/"
        },
        "id": "40M8Orgc9Yts",
        "outputId": "fe3eb2b6-4e51-467c-a728-5755e0a68ef7"
      },
      "source": [
        "# Building a base line model\n",
        "from sklearn.feature_extraction.text import TfidfVectorizer\n",
        "from sklearn.naive_bayes import MultinomialNB\n",
        "from sklearn.pipeline import Pipeline\n",
        "\n",
        "baseline_model = Pipeline([\n",
        "                        (\"tfidf\", TfidfVectorizer()),\n",
        "                        (\"clf\", MultinomialNB())\n",
        "])\n",
        "\n",
        "# Fit the model\n",
        "baseline_model.fit(train_sentences_10_percent, train_labels_10_percent)\n",
        "\n",
        "# Evaluating our baseline model\n",
        "baseline_score = baseline_model.score(val_sentences, val_labels)\n",
        "baseline_score"
      ],
      "execution_count": 27,
      "outputs": [
        {
          "output_type": "execute_result",
          "data": {
            "text/plain": [
              "0.7603414313854235"
            ]
          },
          "metadata": {
            "tags": []
          },
          "execution_count": 27
        }
      ]
    },
    {
      "cell_type": "markdown",
      "metadata": {
        "id": "swyDZQmtBv8G"
      },
      "source": [
        "**Universal Sentences Encoder** model performed best when compared to **baseline_10_percent_model**"
      ]
    },
    {
      "cell_type": "markdown",
      "metadata": {
        "id": "LRvU6iRKCFCo"
      },
      "source": [
        "### 3. Try fine-tuning the TF Hub Universal Sentence Encoder model by setting `training=True` when instantiating it as a Keras layer"
      ]
    },
    {
      "cell_type": "code",
      "metadata": {
        "id": "pXuRsrhJ9zHM"
      },
      "source": [
        "# We can use this encoding layer in place of our text_vectorizer and embedding layer\n",
        "import tensorflow_hub as hub\n",
        "\n",
        "sentence_encoder_layer = hub.KerasLayer(\"https://tfhub.dev/google/universal-sentence-encoder/4\",\n",
        "                                        input_shape=[],\n",
        "                                        dtype=tf.string,\n",
        "                                        trainable=True) # turn training on to fine-tune the TensorFlow Hub model\n"
      ],
      "execution_count": 28,
      "outputs": []
    },
    {
      "cell_type": "code",
      "metadata": {
        "colab": {
          "base_uri": "https://localhost:8080/"
        },
        "id": "BInPc2zWDI8L",
        "outputId": "c13bc185-6557-42ba-bdce-f580adc43d83"
      },
      "source": [
        "model_6 = tf.keras.Sequential([\n",
        "      sentence_encoder_layer,\n",
        "      layers.Dense(128, activation='relu'),\n",
        "      layers.Dense(1, activation='sigmoid')\n",
        "])\n",
        "\n",
        "# Compile the model\n",
        "model_6.compile(loss='binary_crossentropy',\n",
        "                optimizer='adam',\n",
        "                metrics=['accuracy'])\n",
        "\n",
        "# fit the model\n",
        "model_6_history = model_6.fit(train_sentences_10_percent,\n",
        "                              train_labels_10_percent,\n",
        "                              epochs=5,\n",
        "                              validation_data=(val_sentences, val_labels))"
      ],
      "execution_count": 29,
      "outputs": [
        {
          "output_type": "stream",
          "text": [
            "Epoch 1/5\n",
            "20/20 [==============================] - 8s 191ms/step - loss: 0.6069 - accuracy: 0.6946 - val_loss: 0.5230 - val_accuracy: 0.7551\n",
            "Epoch 2/5\n",
            "20/20 [==============================] - 3s 170ms/step - loss: 0.3756 - accuracy: 0.8555 - val_loss: 0.4887 - val_accuracy: 0.7807\n",
            "Epoch 3/5\n",
            "20/20 [==============================] - 3s 170ms/step - loss: 0.1647 - accuracy: 0.9573 - val_loss: 0.5492 - val_accuracy: 0.7866\n",
            "Epoch 4/5\n",
            "20/20 [==============================] - 3s 169ms/step - loss: 0.0485 - accuracy: 0.9918 - val_loss: 0.7320 - val_accuracy: 0.7525\n",
            "Epoch 5/5\n",
            "20/20 [==============================] - 3s 170ms/step - loss: 0.0208 - accuracy: 0.9967 - val_loss: 0.7675 - val_accuracy: 0.7768\n"
          ],
          "name": "stdout"
        }
      ]
    },
    {
      "cell_type": "markdown",
      "metadata": {
        "id": "rpR-94wVHO2x"
      },
      "source": [
        "### Retrain the best model you've got so far on the whole training set (no validation split).\n",
        "\n",
        "Then use this trained model to make predictions on the test dataset and format the predictions into the same format as the sample_submission.csv file from Kaggle (see the Files tab in Colab for what the sample_submission.csv file looks like). Once you've done this, make a submission to the Kaggle competition, how did your model perform?"
      ]
    },
    {
      "cell_type": "code",
      "metadata": {
        "colab": {
          "base_uri": "https://localhost:8080/"
        },
        "id": "cLTgSCyhEFSI",
        "outputId": "08f51729-f321-49b0-dd86-11db65f4b14d"
      },
      "source": [
        "train_sentences = train_df_shuffled['text'].to_numpy()\n",
        "train_labels = train_df_shuffled['target'].to_numpy()\n",
        "\n",
        "len(train_sentences), len(train_labels)"
      ],
      "execution_count": 30,
      "outputs": [
        {
          "output_type": "execute_result",
          "data": {
            "text/plain": [
              "(7613, 7613)"
            ]
          },
          "metadata": {
            "tags": []
          },
          "execution_count": 30
        }
      ]
    },
    {
      "cell_type": "code",
      "metadata": {
        "colab": {
          "base_uri": "https://localhost:8080/"
        },
        "id": "V2IVOZAnH4CY",
        "outputId": "e2f8711d-6076-43da-c628-1f27f06fff43"
      },
      "source": [
        "# Create model using the sequential api\n",
        "model = tf.keras.Sequential([\n",
        "        sentence_encoder_layer,\n",
        "        layers.Dense(128, activation='relu'),\n",
        "        layers.Dense(1, activation='sigmoid')\n",
        "])\n",
        "\n",
        "# compile the model\n",
        "model.compile(loss='binary_crossentropy',\n",
        "              optimizer='adam',\n",
        "              metrics=['accuracy'])\n",
        "\n",
        "# fit the model\n",
        "model_history = model.fit(train_sentences,\n",
        "                          train_labels,\n",
        "                          epochs=5,\n",
        "                          validation_data=(val_sentences, val_labels))"
      ],
      "execution_count": 31,
      "outputs": [
        {
          "output_type": "stream",
          "text": [
            "Epoch 1/5\n",
            "238/238 [==============================] - 40s 154ms/step - loss: 0.4152 - accuracy: 0.8232 - val_loss: 0.2548 - val_accuracy: 0.9087\n",
            "Epoch 2/5\n",
            "238/238 [==============================] - 36s 152ms/step - loss: 0.2057 - accuracy: 0.9254 - val_loss: 0.1045 - val_accuracy: 0.9744\n",
            "Epoch 3/5\n",
            "238/238 [==============================] - 36s 152ms/step - loss: 0.0736 - accuracy: 0.9752 - val_loss: 0.0312 - val_accuracy: 0.9888\n",
            "Epoch 4/5\n",
            "238/238 [==============================] - 36s 151ms/step - loss: 0.0398 - accuracy: 0.9842 - val_loss: 0.0224 - val_accuracy: 0.9915\n",
            "Epoch 5/5\n",
            "238/238 [==============================] - 36s 152ms/step - loss: 0.0261 - accuracy: 0.9899 - val_loss: 0.0135 - val_accuracy: 0.9954\n"
          ],
          "name": "stdout"
        }
      ]
    },
    {
      "cell_type": "code",
      "metadata": {
        "colab": {
          "base_uri": "https://localhost:8080/",
          "height": 573
        },
        "id": "SLZuk_VwJZwk",
        "outputId": "1f032438-b685-4e08-ec96-4248b4b406e2"
      },
      "source": [
        "plot_loss_curves(model_history)"
      ],
      "execution_count": 32,
      "outputs": [
        {
          "output_type": "display_data",
          "data": {
            "image/png": "[encoded data removed]",
            "text/plain": [
              "<Figure size 432x288 with 1 Axes>"
            ]
          },
          "metadata": {
            "tags": [],
            "needs_background": "light"
          }
        },
        {
          "output_type": "display_data",
          "data": {
            "image/png": "[encoded data removed]",
            "text/plain": [
              "<Figure size 432x288 with 1 Axes>"
            ]
          },
          "metadata": {
            "tags": [],
            "needs_background": "light"
          }
        }
      ]
    },
    {
      "cell_type": "code",
      "metadata": {
        "colab": {
          "base_uri": "https://localhost:8080/"
        },
        "id": "YahoZkx1M3OM",
        "outputId": "0d399081-68ca-4f9a-f57b-b6b4c203dfd9"
      },
      "source": [
        "# make prediction on validation data\n",
        "model_pred_probs = model.predict(val_sentences)\n",
        "model_pred_probs\n",
        "\n",
        "model_preds = tf.squeeze(tf.round(model_pred_probs))\n",
        "model_preds = tf.cast(model_preds, dtype=tf.int32)\n",
        "model_preds"
      ],
      "execution_count": 36,
      "outputs": [
        {
          "output_type": "execute_result",
          "data": {
            "text/plain": [
              "<tf.Tensor: shape=(1523,), dtype=int32, numpy=array([0, 1, 1, ..., 0, 0, 1], dtype=int32)>"
            ]
          },
          "metadata": {
            "tags": []
          },
          "execution_count": 36
        }
      ]
    },
    {
      "cell_type": "code",
      "metadata": {
        "colab": {
          "base_uri": "https://localhost:8080/"
        },
        "id": "ESv17mYpNPb5",
        "outputId": "5298a533-827f-4dcf-e970-ac1a829b04a9"
      },
      "source": [
        "# Make prediction on full test data\n",
        "model_pred_probs = model.predict(test_df['text'])\n",
        "model_preds = tf.squeeze(tf.round(model_pred_probs))\n",
        "model_preds= tf.cast(model_preds, dtype=tf.int32)\n",
        "model_preds"
      ],
      "execution_count": 37,
      "outputs": [
        {
          "output_type": "execute_result",
          "data": {
            "text/plain": [
              "<tf.Tensor: shape=(3263,), dtype=int32, numpy=array([1, 1, 1, ..., 1, 1, 1], dtype=int32)>"
            ]
          },
          "metadata": {
            "tags": []
          },
          "execution_count": 37
        }
      ]
    },
    {
      "cell_type": "code",
      "metadata": {
        "colab": {
          "base_uri": "https://localhost:8080/",
          "height": 424
        },
        "id": "TXkzUJ42OfmD",
        "outputId": "89501982-c218-4aed-f189-3cea9d7f4341"
      },
      "source": [
        "test_df"
      ],
      "execution_count": 40,
      "outputs": [
        {
          "output_type": "execute_result",
          "data": {
            "text/html": [
              "<div>\n",
              "<style scoped>\n",
              "    .dataframe tbody tr th:only-of-type {\n",
              "        vertical-align: middle;\n",
              "    }\n",
              "\n",
              "    .dataframe tbody tr th {\n",
              "        vertical-align: top;\n",
              "    }\n",
              "\n",
              "    .dataframe thead th {\n",
              "        text-align: right;\n",
              "    }\n",
              "</style>\n",
              "<table border=\"1\" class=\"dataframe\">\n",
              "  <thead>\n",
              "    <tr style=\"text-align: right;\">\n",
              "      <th></th>\n",
              "      <th>id</th>\n",
              "      <th>keyword</th>\n",
              "      <th>location</th>\n",
              "      <th>text</th>\n",
              "    </tr>\n",
              "  </thead>\n",
              "  <tbody>\n",
              "    <tr>\n",
              "      <th>0</th>\n",
              "      <td>0</td>\n",
              "      <td>NaN</td>\n",
              "      <td>NaN</td>\n",
              "      <td>Just happened a terrible car crash</td>\n",
              "    </tr>\n",
              "    <tr>\n",
              "      <th>1</th>\n",
              "      <td>2</td>\n",
              "      <td>NaN</td>\n",
              "      <td>NaN</td>\n",
              "      <td>Heard about #earthquake is different cities, s...</td>\n",
              "    </tr>\n",
              "    <tr>\n",
              "      <th>2</th>\n",
              "      <td>3</td>\n",
              "      <td>NaN</td>\n",
              "      <td>NaN</td>\n",
              "      <td>there is a forest fire at spot pond, geese are...</td>\n",
              "    </tr>\n",
              "    <tr>\n",
              "      <th>3</th>\n",
              "      <td>9</td>\n",
              "      <td>NaN</td>\n",
              "      <td>NaN</td>\n",
              "      <td>Apocalypse lighting. #Spokane #wildfires</td>\n",
              "    </tr>\n",
              "    <tr>\n",
              "      <th>4</th>\n",
              "      <td>11</td>\n",
              "      <td>NaN</td>\n",
              "      <td>NaN</td>\n",
              "      <td>Typhoon Soudelor kills 28 in China and Taiwan</td>\n",
              "    </tr>\n",
              "    <tr>\n",
              "      <th>...</th>\n",
              "      <td>...</td>\n",
              "      <td>...</td>\n",
              "      <td>...</td>\n",
              "      <td>...</td>\n",
              "    </tr>\n",
              "    <tr>\n",
              "      <th>3258</th>\n",
              "      <td>10861</td>\n",
              "      <td>NaN</td>\n",
              "      <td>NaN</td>\n",
              "      <td>EARTHQUAKE SAFETY LOS ANGELES ÛÒ SAFETY FASTE...</td>\n",
              "    </tr>\n",
              "    <tr>\n",
              "      <th>3259</th>\n",
              "      <td>10865</td>\n",
              "      <td>NaN</td>\n",
              "      <td>NaN</td>\n",
              "      <td>Storm in RI worse than last hurricane. My city...</td>\n",
              "    </tr>\n",
              "    <tr>\n",
              "      <th>3260</th>\n",
              "      <td>10868</td>\n",
              "      <td>NaN</td>\n",
              "      <td>NaN</td>\n",
              "      <td>Green Line derailment in Chicago http://t.co/U...</td>\n",
              "    </tr>\n",
              "    <tr>\n",
              "      <th>3261</th>\n",
              "      <td>10874</td>\n",
              "      <td>NaN</td>\n",
              "      <td>NaN</td>\n",
              "      <td>MEG issues Hazardous Weather Outlook (HWO) htt...</td>\n",
              "    </tr>\n",
              "    <tr>\n",
              "      <th>3262</th>\n",
              "      <td>10875</td>\n",
              "      <td>NaN</td>\n",
              "      <td>NaN</td>\n",
              "      <td>#CityofCalgary has activated its Municipal Eme...</td>\n",
              "    </tr>\n",
              "  </tbody>\n",
              "</table>\n",
              "<p>3263 rows × 4 columns</p>\n",
              "</div>"
            ],
            "text/plain": [
              "         id keyword location                                               text\n",
              "0         0     NaN      NaN                 Just happened a terrible car crash\n",
              "1         2     NaN      NaN  Heard about #earthquake is different cities, s...\n",
              "2         3     NaN      NaN  there is a forest fire at spot pond, geese are...\n",
              "3         9     NaN      NaN           Apocalypse lighting. #Spokane #wildfires\n",
              "4        11     NaN      NaN      Typhoon Soudelor kills 28 in China and Taiwan\n",
              "...     ...     ...      ...                                                ...\n",
              "3258  10861     NaN      NaN  EARTHQUAKE SAFETY LOS ANGELES ÛÒ SAFETY FASTE...\n",
              "3259  10865     NaN      NaN  Storm in RI worse than last hurricane. My city...\n",
              "3260  10868     NaN      NaN  Green Line derailment in Chicago http://t.co/U...\n",
              "3261  10874     NaN      NaN  MEG issues Hazardous Weather Outlook (HWO) htt...\n",
              "3262  10875     NaN      NaN  #CityofCalgary has activated its Municipal Eme...\n",
              "\n",
              "[3263 rows x 4 columns]"
            ]
          },
          "metadata": {
            "tags": []
          },
          "execution_count": 40
        }
      ]
    },
    {
      "cell_type": "code",
      "metadata": {
        "id": "5AD839VDOFKB"
      },
      "source": [
        "submission = pd.DataFrame({'id':test_df['id'].values,\n",
        "                           'target':(model_preds.numpy())})"
      ],
      "execution_count": 41,
      "outputs": []
    },
    {
      "cell_type": "code",
      "metadata": {
        "colab": {
          "base_uri": "https://localhost:8080/",
          "height": 424
        },
        "id": "ch5K8JzjQSFO",
        "outputId": "6d9e3012-5175-47fd-c9b0-159e73528715"
      },
      "source": [
        "submission"
      ],
      "execution_count": 50,
      "outputs": [
        {
          "output_type": "execute_result",
          "data": {
            "text/html": [
              "<div>\n",
              "<style scoped>\n",
              "    .dataframe tbody tr th:only-of-type {\n",
              "        vertical-align: middle;\n",
              "    }\n",
              "\n",
              "    .dataframe tbody tr th {\n",
              "        vertical-align: top;\n",
              "    }\n",
              "\n",
              "    .dataframe thead th {\n",
              "        text-align: right;\n",
              "    }\n",
              "</style>\n",
              "<table border=\"1\" class=\"dataframe\">\n",
              "  <thead>\n",
              "    <tr style=\"text-align: right;\">\n",
              "      <th></th>\n",
              "      <th>id</th>\n",
              "      <th>target</th>\n",
              "    </tr>\n",
              "  </thead>\n",
              "  <tbody>\n",
              "    <tr>\n",
              "      <th>0</th>\n",
              "      <td>0</td>\n",
              "      <td>1</td>\n",
              "    </tr>\n",
              "    <tr>\n",
              "      <th>1</th>\n",
              "      <td>2</td>\n",
              "      <td>1</td>\n",
              "    </tr>\n",
              "    <tr>\n",
              "      <th>2</th>\n",
              "      <td>3</td>\n",
              "      <td>1</td>\n",
              "    </tr>\n",
              "    <tr>\n",
              "      <th>3</th>\n",
              "      <td>9</td>\n",
              "      <td>1</td>\n",
              "    </tr>\n",
              "    <tr>\n",
              "      <th>4</th>\n",
              "      <td>11</td>\n",
              "      <td>1</td>\n",
              "    </tr>\n",
              "    <tr>\n",
              "      <th>...</th>\n",
              "      <td>...</td>\n",
              "      <td>...</td>\n",
              "    </tr>\n",
              "    <tr>\n",
              "      <th>3258</th>\n",
              "      <td>10861</td>\n",
              "      <td>1</td>\n",
              "    </tr>\n",
              "    <tr>\n",
              "      <th>3259</th>\n",
              "      <td>10865</td>\n",
              "      <td>1</td>\n",
              "    </tr>\n",
              "    <tr>\n",
              "      <th>3260</th>\n",
              "      <td>10868</td>\n",
              "      <td>1</td>\n",
              "    </tr>\n",
              "    <tr>\n",
              "      <th>3261</th>\n",
              "      <td>10874</td>\n",
              "      <td>1</td>\n",
              "    </tr>\n",
              "    <tr>\n",
              "      <th>3262</th>\n",
              "      <td>10875</td>\n",
              "      <td>1</td>\n",
              "    </tr>\n",
              "  </tbody>\n",
              "</table>\n",
              "<p>3263 rows × 2 columns</p>\n",
              "</div>"
            ],
            "text/plain": [
              "         id  target\n",
              "0         0       1\n",
              "1         2       1\n",
              "2         3       1\n",
              "3         9       1\n",
              "4        11       1\n",
              "...     ...     ...\n",
              "3258  10861       1\n",
              "3259  10865       1\n",
              "3260  10868       1\n",
              "3261  10874       1\n",
              "3262  10875       1\n",
              "\n",
              "[3263 rows x 2 columns]"
            ]
          },
          "metadata": {
            "tags": []
          },
          "execution_count": 50
        }
      ]
    },
    {
      "cell_type": "code",
      "metadata": {
        "colab": {
          "base_uri": "https://localhost:8080/"
        },
        "id": "clafIfG_QaT5",
        "outputId": "420d6122-7521-4b76-d456-66ff949e0e3f"
      },
      "source": [
        "model_preds[:20]"
      ],
      "execution_count": 51,
      "outputs": [
        {
          "output_type": "execute_result",
          "data": {
            "text/plain": [
              "<tf.Tensor: shape=(20,), dtype=int32, numpy=\n",
              "array([1, 1, 1, 1, 1, 1, 0, 0, 0, 0, 0, 0, 0, 0, 0, 1, 0, 1, 0, 1],\n",
              "      dtype=int32)>"
            ]
          },
          "metadata": {
            "tags": []
          },
          "execution_count": 51
        }
      ]
    },
    {
      "cell_type": "code",
      "metadata": {
        "id": "bm1tFplaOWd_"
      },
      "source": [
        "submission.to_csv(\"preds_submission.csv\", index=False)"
      ],
      "execution_count": 53,
      "outputs": []
    },
    {
      "cell_type": "markdown",
      "metadata": {
        "id": "bXk7uDHoRJd6"
      },
      "source": [
        "### 5. Combine the ensemble predictions using the majority vote (mode), how does this perform compare to averaging the prediction probabilities of each model?\n",
        "\n",
        "* model_5 -> Conv1D Model\n",
        "* model_2 -> LSTM Model\n",
        "* model -> TFHub Model\n",
        "\n",
        "Now let's get the predictions for each model and perform majority model"
      ]
    },
    {
      "cell_type": "code",
      "metadata": {
        "id": "9sxQZDyuP3dX"
      },
      "source": [
        "# Getting the model predictions\n",
        "\n",
        "def give_preds(model, test_sentences):\n",
        "\n",
        "  pred_probs = model.predict(test_sentences)\n",
        "  preds = tf.squeeze(tf.round(pred_probs))\n",
        "  preds = tf.cast(preds , dtype = tf.int32)\n",
        "\n",
        "  return preds"
      ],
      "execution_count": 54,
      "outputs": []
    },
    {
      "cell_type": "code",
      "metadata": {
        "colab": {
          "base_uri": "https://localhost:8080/"
        },
        "id": "BXEamGEkSWhE",
        "outputId": "2741e419-bb80-414b-cbf9-14a7b37aa555"
      },
      "source": [
        "test_sentences = test_df['text'].to_numpy()\n",
        "\n",
        "# Checking the shapes \n",
        "test_sentences.shape"
      ],
      "execution_count": 56,
      "outputs": [
        {
          "output_type": "execute_result",
          "data": {
            "text/plain": [
              "(3263,)"
            ]
          },
          "metadata": {
            "tags": []
          },
          "execution_count": 56
        }
      ]
    },
    {
      "cell_type": "code",
      "metadata": {
        "colab": {
          "base_uri": "https://localhost:8080/"
        },
        "id": "R_RnXJWcSQi2",
        "outputId": "5bec5fbe-4d77-4ec3-abde-7b52edd5c420"
      },
      "source": [
        "# Getting the predictions for our 3 models \n",
        "model_preds = give_preds(model , test_sentences)\n",
        "model_2_preds = give_preds(model_2 ,test_sentences)\n",
        "model_5_preds = give_preds(model_5 , test_sentences)\n",
        "\n",
        "# Checking the shapes of our prediction \n",
        "model_preds.shape , model_2_preds.shape , model_5_preds.shape"
      ],
      "execution_count": 57,
      "outputs": [
        {
          "output_type": "execute_result",
          "data": {
            "text/plain": [
              "(TensorShape([3263]), TensorShape([3263]), TensorShape([3263]))"
            ]
          },
          "metadata": {
            "tags": []
          },
          "execution_count": 57
        }
      ]
    },
    {
      "cell_type": "code",
      "metadata": {
        "colab": {
          "base_uri": "https://localhost:8080/",
          "height": 206
        },
        "id": "jdB-PiZzSTfV",
        "outputId": "e2c16831-f0d4-4ca8-b98b-1ea022971bf3"
      },
      "source": [
        "\n",
        "# Creating a dataframe of our predictions \n",
        "\n",
        "preds_df = pd.DataFrame({'USE_model': model_preds , \n",
        "              'LSTM_model': model_2_preds , \n",
        "              'Conv1D_model': model_5_preds})\n",
        "preds_df.head()"
      ],
      "execution_count": 58,
      "outputs": [
        {
          "output_type": "execute_result",
          "data": {
            "text/html": [
              "<div>\n",
              "<style scoped>\n",
              "    .dataframe tbody tr th:only-of-type {\n",
              "        vertical-align: middle;\n",
              "    }\n",
              "\n",
              "    .dataframe tbody tr th {\n",
              "        vertical-align: top;\n",
              "    }\n",
              "\n",
              "    .dataframe thead th {\n",
              "        text-align: right;\n",
              "    }\n",
              "</style>\n",
              "<table border=\"1\" class=\"dataframe\">\n",
              "  <thead>\n",
              "    <tr style=\"text-align: right;\">\n",
              "      <th></th>\n",
              "      <th>USE_model</th>\n",
              "      <th>LSTM_model</th>\n",
              "      <th>Conv1D_model</th>\n",
              "    </tr>\n",
              "  </thead>\n",
              "  <tbody>\n",
              "    <tr>\n",
              "      <th>0</th>\n",
              "      <td>1</td>\n",
              "      <td>1</td>\n",
              "      <td>1</td>\n",
              "    </tr>\n",
              "    <tr>\n",
              "      <th>1</th>\n",
              "      <td>1</td>\n",
              "      <td>0</td>\n",
              "      <td>0</td>\n",
              "    </tr>\n",
              "    <tr>\n",
              "      <th>2</th>\n",
              "      <td>1</td>\n",
              "      <td>1</td>\n",
              "      <td>1</td>\n",
              "    </tr>\n",
              "    <tr>\n",
              "      <th>3</th>\n",
              "      <td>1</td>\n",
              "      <td>1</td>\n",
              "      <td>1</td>\n",
              "    </tr>\n",
              "    <tr>\n",
              "      <th>4</th>\n",
              "      <td>1</td>\n",
              "      <td>1</td>\n",
              "      <td>1</td>\n",
              "    </tr>\n",
              "  </tbody>\n",
              "</table>\n",
              "</div>"
            ],
            "text/plain": [
              "   USE_model  LSTM_model  Conv1D_model\n",
              "0          1           1             1\n",
              "1          1           0             0\n",
              "2          1           1             1\n",
              "3          1           1             1\n",
              "4          1           1             1"
            ]
          },
          "metadata": {
            "tags": []
          },
          "execution_count": 58
        }
      ]
    },
    {
      "cell_type": "code",
      "metadata": {
        "colab": {
          "base_uri": "https://localhost:8080/",
          "height": 206
        },
        "id": "gL8vrdhVSitv",
        "outputId": "e21325d1-167c-4bc6-c50d-dcac401303f3"
      },
      "source": [
        "# Majority voted predictions of our model\n",
        "preds_df['majority_vote_preds'] = preds_df.mode(axis = 1)\n",
        "preds_df.head()"
      ],
      "execution_count": 59,
      "outputs": [
        {
          "output_type": "execute_result",
          "data": {
            "text/html": [
              "<div>\n",
              "<style scoped>\n",
              "    .dataframe tbody tr th:only-of-type {\n",
              "        vertical-align: middle;\n",
              "    }\n",
              "\n",
              "    .dataframe tbody tr th {\n",
              "        vertical-align: top;\n",
              "    }\n",
              "\n",
              "    .dataframe thead th {\n",
              "        text-align: right;\n",
              "    }\n",
              "</style>\n",
              "<table border=\"1\" class=\"dataframe\">\n",
              "  <thead>\n",
              "    <tr style=\"text-align: right;\">\n",
              "      <th></th>\n",
              "      <th>USE_model</th>\n",
              "      <th>LSTM_model</th>\n",
              "      <th>Conv1D_model</th>\n",
              "      <th>majority_vote_preds</th>\n",
              "    </tr>\n",
              "  </thead>\n",
              "  <tbody>\n",
              "    <tr>\n",
              "      <th>0</th>\n",
              "      <td>1</td>\n",
              "      <td>1</td>\n",
              "      <td>1</td>\n",
              "      <td>1</td>\n",
              "    </tr>\n",
              "    <tr>\n",
              "      <th>1</th>\n",
              "      <td>1</td>\n",
              "      <td>0</td>\n",
              "      <td>0</td>\n",
              "      <td>0</td>\n",
              "    </tr>\n",
              "    <tr>\n",
              "      <th>2</th>\n",
              "      <td>1</td>\n",
              "      <td>1</td>\n",
              "      <td>1</td>\n",
              "      <td>1</td>\n",
              "    </tr>\n",
              "    <tr>\n",
              "      <th>3</th>\n",
              "      <td>1</td>\n",
              "      <td>1</td>\n",
              "      <td>1</td>\n",
              "      <td>1</td>\n",
              "    </tr>\n",
              "    <tr>\n",
              "      <th>4</th>\n",
              "      <td>1</td>\n",
              "      <td>1</td>\n",
              "      <td>1</td>\n",
              "      <td>1</td>\n",
              "    </tr>\n",
              "  </tbody>\n",
              "</table>\n",
              "</div>"
            ],
            "text/plain": [
              "   USE_model  LSTM_model  Conv1D_model  majority_vote_preds\n",
              "0          1           1             1                    1\n",
              "1          1           0             0                    0\n",
              "2          1           1             1                    1\n",
              "3          1           1             1                    1\n",
              "4          1           1             1                    1"
            ]
          },
          "metadata": {
            "tags": []
          },
          "execution_count": 59
        }
      ]
    },
    {
      "cell_type": "markdown",
      "metadata": {
        "id": "LpgjoMoJSvb-"
      },
      "source": [
        "### 6. Make a confusion matrix with the best performing model's predictions on the validation set and the validation ground truth labels.\n",
        "Our best performing model is the model from the tensorflow hub."
      ]
    },
    {
      "cell_type": "code",
      "metadata": {
        "id": "qu3qLcMUSr52"
      },
      "source": [
        "# Funtion taken from the course \n",
        "# Note: The following confusion matrix code is a remix of Scikit-Learn's \n",
        "# plot_confusion_matrix function - https://scikit-learn.org/stable/modules/generated/sklearn.metrics.plot_confusion_matrix.html\n",
        "import itertools\n",
        "import matplotlib.pyplot as plt\n",
        "import numpy as np\n",
        "from sklearn.metrics import confusion_matrix\n",
        "\n",
        "# Our function needs a different name to sklearn's plot_confusion_matrix\n",
        "def make_confusion_matrix(y_true, y_pred, classes=None, figsize=(10, 10), text_size=15, norm=False, savefig=False): \n",
        "  \"\"\"Makes a labelled confusion matrix comparing predictions and ground truth labels.\n",
        "\n",
        "  If classes is passed, confusion matrix will be labelled, if not, integer class values\n",
        "  will be used.\n",
        "\n",
        "  Args:\n",
        "    y_true: Array of truth labels (must be same shape as y_pred).\n",
        "    y_pred: Array of predicted labels (must be same shape as y_true).\n",
        "    classes: Array of class labels (e.g. string form). If `None`, integer labels are used.\n",
        "    figsize: Size of output figure (default=(10, 10)).\n",
        "    text_size: Size of output figure text (default=15).\n",
        "    norm: normalize values or not (default=False).\n",
        "    savefig: save confusion matrix to file (default=False).\n",
        "  \n",
        "  Returns:\n",
        "    A labelled confusion matrix plot comparing y_true and y_pred.\n",
        "\n",
        "  Example usage:\n",
        "    make_confusion_matrix(y_true=test_labels, # ground truth test labels\n",
        "                          y_pred=y_preds, # predicted labels\n",
        "                          classes=class_names, # array of class label names\n",
        "                          figsize=(15, 15),\n",
        "                          text_size=10)\n",
        "  \"\"\"  \n",
        "  # Create the confustion matrix\n",
        "  cm = confusion_matrix(y_true, y_pred)\n",
        "  cm_norm = cm.astype(\"float\") / cm.sum(axis=1)[:, np.newaxis] # normalize it\n",
        "  n_classes = cm.shape[0] # find the number of classes we're dealing with\n",
        "\n",
        "  # Plot the figure and make it pretty\n",
        "  fig, ax = plt.subplots(figsize=figsize)\n",
        "  cax = ax.matshow(cm, cmap=plt.cm.Blues) # colors will represent how 'correct' a class is, darker == better\n",
        "  fig.colorbar(cax)\n",
        "\n",
        "  # Are there a list of classes?\n",
        "  if classes:\n",
        "    labels = classes\n",
        "  else:\n",
        "    labels = np.arange(cm.shape[0])\n",
        "  \n",
        "  # Label the axes\n",
        "  ax.set(title=\"Confusion Matrix\",\n",
        "         xlabel=\"Predicted label\",\n",
        "         ylabel=\"True label\",\n",
        "         xticks=np.arange(n_classes), # create enough axis slots for each class\n",
        "         yticks=np.arange(n_classes), \n",
        "         xticklabels=labels, # axes will labeled with class names (if they exist) or ints\n",
        "         yticklabels=labels)\n",
        "  \n",
        "  # Make x-axis labels appear on bottom\n",
        "  ax.xaxis.set_label_position(\"bottom\")\n",
        "  ax.xaxis.tick_bottom()\n",
        "\n",
        "  ### Added: Rotate xticks for readability & increase font size (required due to such a large confusion matrix)\n",
        "  plt.xticks(rotation=70, fontsize=text_size)\n",
        "  plt.yticks(fontsize=text_size)\n",
        "\n",
        "  # Set the threshold for different colors\n",
        "  threshold = (cm.max() + cm.min()) / 2.\n",
        "\n",
        "  # Plot the text on each cell\n",
        "  for i, j in itertools.product(range(cm.shape[0]), range(cm.shape[1])):\n",
        "    if norm:\n",
        "      plt.text(j, i, f\"{cm[i, j]} ({cm_norm[i, j]*100:.1f}%)\",\n",
        "              horizontalalignment=\"center\",\n",
        "              color=\"white\" if cm[i, j] > threshold else \"black\",\n",
        "              size=text_size)\n",
        "    else:\n",
        "      plt.text(j, i, f\"{cm[i, j]}\",\n",
        "              horizontalalignment=\"center\",\n",
        "              color=\"white\" if cm[i, j] > threshold else \"black\",\n",
        "              size=text_size)\n",
        "\n",
        "  # Save the figure to the current working directory\n",
        "  if savefig:\n",
        "    fig.savefig(\"confusion_matrix.png\")"
      ],
      "execution_count": 60,
      "outputs": []
    },
    {
      "cell_type": "code",
      "metadata": {
        "colab": {
          "base_uri": "https://localhost:8080/"
        },
        "id": "yf87UqI7S3hE",
        "outputId": "449fdab9-704a-473d-8620-1878d1576717"
      },
      "source": [
        "# Predictions on the validation sentences \n",
        "val_preds = give_preds(model , val_sentences)\n",
        "\n",
        "# Creating a array of our class names \n",
        "class_names = ['not_a_disaster' , 'disaster']\n",
        "\n",
        "# Checking the preds and true labels shape\n",
        "val_preds.shape , val_labels.shape"
      ],
      "execution_count": 61,
      "outputs": [
        {
          "output_type": "execute_result",
          "data": {
            "text/plain": [
              "(TensorShape([1523]), (1523,))"
            ]
          },
          "metadata": {
            "tags": []
          },
          "execution_count": 61
        }
      ]
    },
    {
      "cell_type": "code",
      "metadata": {
        "colab": {
          "base_uri": "https://localhost:8080/",
          "height": 576
        },
        "id": "_MBjIi7NS56s",
        "outputId": "e8cc1923-eed1-4bff-acda-f9d396cadaa4"
      },
      "source": [
        "\n",
        "# Plotting the confusion matrix \n",
        "make_confusion_matrix(y_true= val_labels , \n",
        "                      y_pred = val_preds , \n",
        "                      classes = class_names , \n",
        "                      figsize= (15 , 7), \n",
        "                      norm = False , \n",
        "                      savefig = True , \n",
        "                      text_size = 15)"
      ],
      "execution_count": 62,
      "outputs": [
        {
          "output_type": "display_data",
          "data": {
            "image/png": "[encoded data removed]",
            "text/plain": [
              "<Figure size 1080x504 with 2 Axes>"
            ]
          },
          "metadata": {
            "tags": [],
            "needs_background": "light"
          }
        }
      ]
    },
    {
      "cell_type": "code",
      "metadata": {
        "id": "X0MxaMfMS8Z-"
      },
      "source": [
        ""
      ],
      "execution_count": null,
      "outputs": []
    }
  ]
}