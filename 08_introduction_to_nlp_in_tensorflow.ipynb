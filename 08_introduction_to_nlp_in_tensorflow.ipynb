{
  "nbformat": 4,
  "nbformat_minor": 0,
  "metadata": {
    "colab": {
      "name": "08_introduction_to_nlp_in_tensorflow.ipynb",
      "provenance": [],
      "collapsed_sections": [],
      "authorship_tag": "ABX9TyOT2bVGfW/6bW+ezTmVLnft",
      "include_colab_link": true
    },
    "kernelspec": {
      "name": "python3",
      "display_name": "Python 3"
    },
    "language_info": {
      "name": "python"
    },
    "accelerator": "GPU"
  },
  "cells": [
    {
      "cell_type": "markdown",
      "metadata": {
        "id": "view-in-github",
        "colab_type": "text"
      },
      "source": [
        "<a href=\"https://colab.research.google.com/github/Parvez13/TensorFlow-Developer-Certification/blob/master/08_introduction_to_nlp_in_tensorflow.ipynb\" target=\"_parent\"><img src=\"https://colab.research.google.com/assets/colab-badge.svg\" alt=\"Open In Colab\"/></a>"
      ]
    },
    {
      "cell_type": "markdown",
      "metadata": {
        "id": "zboCh2El0u3d"
      },
      "source": [
        "# Introduction to NLP Fundamentals in TensorFlow\n",
        "\n",
        "NLP has the goal of deriving information out of natural language (could be seqeuence text or speech).\n",
        "\n",
        "Another common term for NLP problems is sequence to sequence problems(seq2seq)."
      ]
    },
    {
      "cell_type": "markdown",
      "metadata": {
        "id": "MVg592tX1Xem"
      },
      "source": [
        "## Check for GPU"
      ]
    },
    {
      "cell_type": "code",
      "metadata": {
        "id": "3EMRMj5g5pMQ"
      },
      "source": [
        ""
      ],
      "execution_count": null,
      "outputs": []
    },
    {
      "cell_type": "code",
      "metadata": {
        "colab": {
          "base_uri": "https://localhost:8080/"
        },
        "id": "2zsjpIAf1fVe",
        "outputId": "aba2fbf2-13e3-45c7-d2d5-a64608634de5"
      },
      "source": [
        "!nvidia-smi -L"
      ],
      "execution_count": 1,
      "outputs": [
        {
          "output_type": "stream",
          "text": [
            "GPU 0: Tesla T4 (UUID: GPU-cf6a26dc-e3e2-8bbf-5334-53bfd808e555)\n"
          ],
          "name": "stdout"
        }
      ]
    },
    {
      "cell_type": "markdown",
      "metadata": {
        "id": "G7Cg88uz1h8J"
      },
      "source": [
        "## Get helper functions\n"
      ]
    },
    {
      "cell_type": "code",
      "metadata": {
        "colab": {
          "base_uri": "https://localhost:8080/"
        },
        "id": "an_07tB21t0j",
        "outputId": "6ee5e084-3569-4f75-ed9c-aa4925c64c6e"
      },
      "source": [
        "!wget https://raw.githubusercontent.com/mrdbourke/tensorflow-deep-learning/main/extras/helper_functions.py\n",
        "\n",
        "# Import series of helper functions for the notebook\n",
        "from helper_functions import unzip_data, create_tensorboard_callback, plot_loss_curves,  compare_historys"
      ],
      "execution_count": 2,
      "outputs": [
        {
          "output_type": "stream",
          "text": [
            "--2021-08-14 02:08:35--  https://raw.githubusercontent.com/mrdbourke/tensorflow-deep-learning/main/extras/helper_functions.py\n",
            "Resolving raw.githubusercontent.com (raw.githubusercontent.com)... 185.199.111.133, 185.199.108.133, 185.199.110.133, ...\n",
            "Connecting to raw.githubusercontent.com (raw.githubusercontent.com)|185.199.111.133|:443... connected.\n",
            "HTTP request sent, awaiting response... 200 OK\n",
            "Length: 10246 (10K) [text/plain]\n",
            "Saving to: ‘helper_functions.py’\n",
            "\n",
            "helper_functions.py 100%[===================>]  10.01K  --.-KB/s    in 0s      \n",
            "\n",
            "2021-08-14 02:08:36 (87.2 MB/s) - ‘helper_functions.py’ saved [10246/10246]\n",
            "\n"
          ],
          "name": "stdout"
        }
      ]
    },
    {
      "cell_type": "markdown",
      "metadata": {
        "id": "5TtKwIYS2SGa"
      },
      "source": [
        "## Get a test dataset\n",
        "\n",
        "The dataset we're going to be using is Kaggles's introduction to NLP dataset (text samples of Tweetss labelled as disaster or not disaster)"
      ]
    },
    {
      "cell_type": "code",
      "metadata": {
        "colab": {
          "base_uri": "https://localhost:8080/"
        },
        "id": "8BCnTFGA2q2M",
        "outputId": "94e074d5-0248-4111-c1b7-5bb664601969"
      },
      "source": [
        "!wget https://storage.googleapis.com/ztm_tf_course/nlp_getting_started.zip\n",
        "\n",
        "# Unzip data\n",
        "unzip_data('nlp_getting_started.zip')"
      ],
      "execution_count": 3,
      "outputs": [
        {
          "output_type": "stream",
          "text": [
            "--2021-08-14 02:08:38--  https://storage.googleapis.com/ztm_tf_course/nlp_getting_started.zip\n",
            "Resolving storage.googleapis.com (storage.googleapis.com)... 142.250.101.128, 142.250.141.128, 142.251.2.128, ...\n",
            "Connecting to storage.googleapis.com (storage.googleapis.com)|142.250.101.128|:443... connected.\n",
            "HTTP request sent, awaiting response... 200 OK\n",
            "Length: 607343 (593K) [application/zip]\n",
            "Saving to: ‘nlp_getting_started.zip’\n",
            "\n",
            "\rnlp_getting_started   0%[                    ]       0  --.-KB/s               \rnlp_getting_started 100%[===================>] 593.11K  --.-KB/s    in 0.005s  \n",
            "\n",
            "2021-08-14 02:08:38 (126 MB/s) - ‘nlp_getting_started.zip’ saved [607343/607343]\n",
            "\n"
          ],
          "name": "stdout"
        }
      ]
    },
    {
      "cell_type": "markdown",
      "metadata": {
        "id": "U9C1mNdC8JjM"
      },
      "source": [
        "## Visualizing a text data\n",
        "\n",
        "To visualize our text samples, we first have to read them in, one way to do so would be  to use Python: https://realpython.com/read-write-files-python/\n",
        "\n",
        "But I prefer to get visual straight away.\n",
        "\n",
        "So another way to do this is to use pandas.."
      ]
    },
    {
      "cell_type": "code",
      "metadata": {
        "id": "7UkZCMTL3Cnt",
        "colab": {
          "base_uri": "https://localhost:8080/",
          "height": 206
        },
        "outputId": "f1be9981-1f86-4791-948b-bd8498a3121b"
      },
      "source": [
        "import pandas as pd\n",
        "train_df = pd.read_csv('train.csv')\n",
        "test_df = pd.read_csv('test.csv')\n",
        "train_df.head()"
      ],
      "execution_count": 4,
      "outputs": [
        {
          "output_type": "execute_result",
          "data": {
            "text/html": [
              "<div>\n",
              "<style scoped>\n",
              "    .dataframe tbody tr th:only-of-type {\n",
              "        vertical-align: middle;\n",
              "    }\n",
              "\n",
              "    .dataframe tbody tr th {\n",
              "        vertical-align: top;\n",
              "    }\n",
              "\n",
              "    .dataframe thead th {\n",
              "        text-align: right;\n",
              "    }\n",
              "</style>\n",
              "<table border=\"1\" class=\"dataframe\">\n",
              "  <thead>\n",
              "    <tr style=\"text-align: right;\">\n",
              "      <th></th>\n",
              "      <th>id</th>\n",
              "      <th>keyword</th>\n",
              "      <th>location</th>\n",
              "      <th>text</th>\n",
              "      <th>target</th>\n",
              "    </tr>\n",
              "  </thead>\n",
              "  <tbody>\n",
              "    <tr>\n",
              "      <th>0</th>\n",
              "      <td>1</td>\n",
              "      <td>NaN</td>\n",
              "      <td>NaN</td>\n",
              "      <td>Our Deeds are the Reason of this #earthquake M...</td>\n",
              "      <td>1</td>\n",
              "    </tr>\n",
              "    <tr>\n",
              "      <th>1</th>\n",
              "      <td>4</td>\n",
              "      <td>NaN</td>\n",
              "      <td>NaN</td>\n",
              "      <td>Forest fire near La Ronge Sask. Canada</td>\n",
              "      <td>1</td>\n",
              "    </tr>\n",
              "    <tr>\n",
              "      <th>2</th>\n",
              "      <td>5</td>\n",
              "      <td>NaN</td>\n",
              "      <td>NaN</td>\n",
              "      <td>All residents asked to 'shelter in place' are ...</td>\n",
              "      <td>1</td>\n",
              "    </tr>\n",
              "    <tr>\n",
              "      <th>3</th>\n",
              "      <td>6</td>\n",
              "      <td>NaN</td>\n",
              "      <td>NaN</td>\n",
              "      <td>13,000 people receive #wildfires evacuation or...</td>\n",
              "      <td>1</td>\n",
              "    </tr>\n",
              "    <tr>\n",
              "      <th>4</th>\n",
              "      <td>7</td>\n",
              "      <td>NaN</td>\n",
              "      <td>NaN</td>\n",
              "      <td>Just got sent this photo from Ruby #Alaska as ...</td>\n",
              "      <td>1</td>\n",
              "    </tr>\n",
              "  </tbody>\n",
              "</table>\n",
              "</div>"
            ],
            "text/plain": [
              "   id keyword  ...                                               text target\n",
              "0   1     NaN  ...  Our Deeds are the Reason of this #earthquake M...      1\n",
              "1   4     NaN  ...             Forest fire near La Ronge Sask. Canada      1\n",
              "2   5     NaN  ...  All residents asked to 'shelter in place' are ...      1\n",
              "3   6     NaN  ...  13,000 people receive #wildfires evacuation or...      1\n",
              "4   7     NaN  ...  Just got sent this photo from Ruby #Alaska as ...      1\n",
              "\n",
              "[5 rows x 5 columns]"
            ]
          },
          "metadata": {
            "tags": []
          },
          "execution_count": 4
        }
      ]
    },
    {
      "cell_type": "code",
      "metadata": {
        "colab": {
          "base_uri": "https://localhost:8080/",
          "height": 293
        },
        "id": "P2TpSDqmINCI",
        "outputId": "e2d923a3-1300-46b3-9b2a-a16a4ae451a1"
      },
      "source": [
        "# Shuffle training DataFrame\n",
        "train_df_shuffled = train_df.sample(frac=1, random_state=42)\n",
        "train_df_shuffled.head()"
      ],
      "execution_count": 5,
      "outputs": [
        {
          "output_type": "execute_result",
          "data": {
            "text/html": [
              "<div>\n",
              "<style scoped>\n",
              "    .dataframe tbody tr th:only-of-type {\n",
              "        vertical-align: middle;\n",
              "    }\n",
              "\n",
              "    .dataframe tbody tr th {\n",
              "        vertical-align: top;\n",
              "    }\n",
              "\n",
              "    .dataframe thead th {\n",
              "        text-align: right;\n",
              "    }\n",
              "</style>\n",
              "<table border=\"1\" class=\"dataframe\">\n",
              "  <thead>\n",
              "    <tr style=\"text-align: right;\">\n",
              "      <th></th>\n",
              "      <th>id</th>\n",
              "      <th>keyword</th>\n",
              "      <th>location</th>\n",
              "      <th>text</th>\n",
              "      <th>target</th>\n",
              "    </tr>\n",
              "  </thead>\n",
              "  <tbody>\n",
              "    <tr>\n",
              "      <th>2644</th>\n",
              "      <td>3796</td>\n",
              "      <td>destruction</td>\n",
              "      <td>NaN</td>\n",
              "      <td>So you have a new weapon that can cause un-ima...</td>\n",
              "      <td>1</td>\n",
              "    </tr>\n",
              "    <tr>\n",
              "      <th>2227</th>\n",
              "      <td>3185</td>\n",
              "      <td>deluge</td>\n",
              "      <td>NaN</td>\n",
              "      <td>The f$&amp;amp;@ing things I do for #GISHWHES Just...</td>\n",
              "      <td>0</td>\n",
              "    </tr>\n",
              "    <tr>\n",
              "      <th>5448</th>\n",
              "      <td>7769</td>\n",
              "      <td>police</td>\n",
              "      <td>UK</td>\n",
              "      <td>DT @georgegalloway: RT @Galloway4Mayor: ÛÏThe...</td>\n",
              "      <td>1</td>\n",
              "    </tr>\n",
              "    <tr>\n",
              "      <th>132</th>\n",
              "      <td>191</td>\n",
              "      <td>aftershock</td>\n",
              "      <td>NaN</td>\n",
              "      <td>Aftershock back to school kick off was great. ...</td>\n",
              "      <td>0</td>\n",
              "    </tr>\n",
              "    <tr>\n",
              "      <th>6845</th>\n",
              "      <td>9810</td>\n",
              "      <td>trauma</td>\n",
              "      <td>Montgomery County, MD</td>\n",
              "      <td>in response to trauma Children of Addicts deve...</td>\n",
              "      <td>0</td>\n",
              "    </tr>\n",
              "  </tbody>\n",
              "</table>\n",
              "</div>"
            ],
            "text/plain": [
              "        id  ... target\n",
              "2644  3796  ...      1\n",
              "2227  3185  ...      0\n",
              "5448  7769  ...      1\n",
              "132    191  ...      0\n",
              "6845  9810  ...      0\n",
              "\n",
              "[5 rows x 5 columns]"
            ]
          },
          "metadata": {
            "tags": []
          },
          "execution_count": 5
        }
      ]
    },
    {
      "cell_type": "code",
      "metadata": {
        "colab": {
          "base_uri": "https://localhost:8080/",
          "height": 206
        },
        "id": "vB73O980IcEL",
        "outputId": "daf15b7f-78d6-4de6-b9ea-aa400311be21"
      },
      "source": [
        "# What does the test dataframe look like?\n",
        "test_df.head()"
      ],
      "execution_count": 6,
      "outputs": [
        {
          "output_type": "execute_result",
          "data": {
            "text/html": [
              "<div>\n",
              "<style scoped>\n",
              "    .dataframe tbody tr th:only-of-type {\n",
              "        vertical-align: middle;\n",
              "    }\n",
              "\n",
              "    .dataframe tbody tr th {\n",
              "        vertical-align: top;\n",
              "    }\n",
              "\n",
              "    .dataframe thead th {\n",
              "        text-align: right;\n",
              "    }\n",
              "</style>\n",
              "<table border=\"1\" class=\"dataframe\">\n",
              "  <thead>\n",
              "    <tr style=\"text-align: right;\">\n",
              "      <th></th>\n",
              "      <th>id</th>\n",
              "      <th>keyword</th>\n",
              "      <th>location</th>\n",
              "      <th>text</th>\n",
              "    </tr>\n",
              "  </thead>\n",
              "  <tbody>\n",
              "    <tr>\n",
              "      <th>0</th>\n",
              "      <td>0</td>\n",
              "      <td>NaN</td>\n",
              "      <td>NaN</td>\n",
              "      <td>Just happened a terrible car crash</td>\n",
              "    </tr>\n",
              "    <tr>\n",
              "      <th>1</th>\n",
              "      <td>2</td>\n",
              "      <td>NaN</td>\n",
              "      <td>NaN</td>\n",
              "      <td>Heard about #earthquake is different cities, s...</td>\n",
              "    </tr>\n",
              "    <tr>\n",
              "      <th>2</th>\n",
              "      <td>3</td>\n",
              "      <td>NaN</td>\n",
              "      <td>NaN</td>\n",
              "      <td>there is a forest fire at spot pond, geese are...</td>\n",
              "    </tr>\n",
              "    <tr>\n",
              "      <th>3</th>\n",
              "      <td>9</td>\n",
              "      <td>NaN</td>\n",
              "      <td>NaN</td>\n",
              "      <td>Apocalypse lighting. #Spokane #wildfires</td>\n",
              "    </tr>\n",
              "    <tr>\n",
              "      <th>4</th>\n",
              "      <td>11</td>\n",
              "      <td>NaN</td>\n",
              "      <td>NaN</td>\n",
              "      <td>Typhoon Soudelor kills 28 in China and Taiwan</td>\n",
              "    </tr>\n",
              "  </tbody>\n",
              "</table>\n",
              "</div>"
            ],
            "text/plain": [
              "   id keyword location                                               text\n",
              "0   0     NaN      NaN                 Just happened a terrible car crash\n",
              "1   2     NaN      NaN  Heard about #earthquake is different cities, s...\n",
              "2   3     NaN      NaN  there is a forest fire at spot pond, geese are...\n",
              "3   9     NaN      NaN           Apocalypse lighting. #Spokane #wildfires\n",
              "4  11     NaN      NaN      Typhoon Soudelor kills 28 in China and Taiwan"
            ]
          },
          "metadata": {
            "tags": []
          },
          "execution_count": 6
        }
      ]
    },
    {
      "cell_type": "code",
      "metadata": {
        "colab": {
          "base_uri": "https://localhost:8080/"
        },
        "id": "gLnnJTATJlar",
        "outputId": "1adc6188-14c5-4f91-983a-edbf4e1513f4"
      },
      "source": [
        "# How many  examples of each class?\n",
        "train_df.target.value_counts()"
      ],
      "execution_count": 7,
      "outputs": [
        {
          "output_type": "execute_result",
          "data": {
            "text/plain": [
              "0    4342\n",
              "1    3271\n",
              "Name: target, dtype: int64"
            ]
          },
          "metadata": {
            "tags": []
          },
          "execution_count": 7
        }
      ]
    },
    {
      "cell_type": "code",
      "metadata": {
        "colab": {
          "base_uri": "https://localhost:8080/"
        },
        "id": "AEYNv60MJwZC",
        "outputId": "ee5625b7-3dc2-405a-fbfa-8f419f69bcdf"
      },
      "source": [
        "# How many total samples?\n",
        "len(train_df), len(test_df)"
      ],
      "execution_count": 8,
      "outputs": [
        {
          "output_type": "execute_result",
          "data": {
            "text/plain": [
              "(7613, 3263)"
            ]
          },
          "metadata": {
            "tags": []
          },
          "execution_count": 8
        }
      ]
    },
    {
      "cell_type": "code",
      "metadata": {
        "colab": {
          "base_uri": "https://localhost:8080/"
        },
        "id": "PNup0VS6KPTq",
        "outputId": "f61ae09f-d3fc-4b67-cb4e-92747fdaa941"
      },
      "source": [
        "# Let's visualize some ranodm training examples\n",
        "import random\n",
        "random_index = random.randint(0, len(train_df)-5) # Create random indexes \n",
        "for row in train_df_shuffled[['text', 'target']][random_index:random_index+5].itertuples():\n",
        "  _,text, target = row\n",
        "  print(f\"Target': {target}\", \"{real_disaster}\" if target > 0 else \"(not real disaster)\")\n",
        "  print(f\"Text:\\n{text}\\n\")\n",
        "  print(\"----\\n\")"
      ],
      "execution_count": 9,
      "outputs": [
        {
          "output_type": "stream",
          "text": [
            "Target': 1 {real_disaster}\n",
            "Text:\n",
            "HWRF absolutely lashes Taipei with Hurricane force winds High Storm Surge and 20' of rain. Not good news at all!!! http://t.co/CNkvILe7bE\n",
            "\n",
            "----\n",
            "\n",
            "Target': 1 {real_disaster}\n",
            "Text:\n",
            "JAX issues Hazardous Weather Outlook (HWO)  http://t.co/u9fCb8dz3h #WX\n",
            "\n",
            "----\n",
            "\n",
            "Target': 1 {real_disaster}\n",
            "Text:\n",
            "Pakistan Supreme Court endorses military courts for terrorism cases http://t.co/sZeapuEuvy\n",
            "\n",
            "----\n",
            "\n",
            "Target': 0 (not real disaster)\n",
            "Text:\n",
            "@DevinJoslyn thunder and lighting ????\n",
            "\n",
            "----\n",
            "\n",
            "Target': 1 {real_disaster}\n",
            "Text:\n",
            "If you did a cannon ball into the ocean then Japan would evacuate.\n",
            "\n",
            "----\n",
            "\n"
          ],
          "name": "stdout"
        }
      ]
    },
    {
      "cell_type": "markdown",
      "metadata": {
        "id": "kUviyLL0LsGz"
      },
      "source": [
        "### Split data into training and validation sets"
      ]
    },
    {
      "cell_type": "code",
      "metadata": {
        "id": "fm0toUCDNSPK"
      },
      "source": [
        "from sklearn.model_selection import train_test_split\n"
      ],
      "execution_count": 10,
      "outputs": []
    },
    {
      "cell_type": "code",
      "metadata": {
        "id": "7VbV_b0fNgEA"
      },
      "source": [
        "# Use train_test_split to split training data into training and validation sets\n",
        "train_sentences, val_sentences, train_labels, val_labels = train_test_split(train_df_shuffled['text'].to_numpy(),\n",
        "                                                                            train_df_shuffled['target'].to_numpy(),\n",
        "                                                                            test_size=0.1,\n",
        "                                                                            random_state=42)"
      ],
      "execution_count": 11,
      "outputs": []
    },
    {
      "cell_type": "code",
      "metadata": {
        "colab": {
          "base_uri": "https://localhost:8080/"
        },
        "id": "05kXaZPOPjJG",
        "outputId": "50b32007-ca36-44dc-977d-041ea771e62d"
      },
      "source": [
        "# Check the lengths\n",
        "len(train_sentences), len(train_labels), len(val_sentences), len(val_labels)"
      ],
      "execution_count": 12,
      "outputs": [
        {
          "output_type": "execute_result",
          "data": {
            "text/plain": [
              "(6851, 6851, 762, 762)"
            ]
          },
          "metadata": {
            "tags": []
          },
          "execution_count": 12
        }
      ]
    },
    {
      "cell_type": "code",
      "metadata": {
        "colab": {
          "base_uri": "https://localhost:8080/"
        },
        "id": "lLxjIZ5sP2wa",
        "outputId": "182c034b-de6d-4485-cf0c-afa7debc7cd1"
      },
      "source": [
        "# Check the first 10 samples\n",
        "train_sentences[:10], train_labels[:10]"
      ],
      "execution_count": 13,
      "outputs": [
        {
          "output_type": "execute_result",
          "data": {
            "text/plain": [
              "(array(['@mogacola @zamtriossu i screamed after hitting tweet',\n",
              "        'Imagine getting flattened by Kurt Zouma',\n",
              "        '@Gurmeetramrahim #MSGDoing111WelfareWorks Green S welfare force ke appx 65000 members har time disaster victim ki help ke liye tyar hai....',\n",
              "        \"@shakjn @C7 @Magnums im shaking in fear he's gonna hack the planet\",\n",
              "        'Somehow find you and I collide http://t.co/Ee8RpOahPk',\n",
              "        '@EvaHanderek @MarleyKnysh great times until the bus driver held us hostage in the mall parking lot lmfao',\n",
              "        'destroy the free fandom honestly',\n",
              "        'Weapons stolen from National Guard Armory in New Albany still missing #Gunsense http://t.co/lKNU8902JE',\n",
              "        '@wfaaweather Pete when will the heat wave pass? Is it really going to be mid month? Frisco Boy Scouts have a canoe trip in Okla.',\n",
              "        'Patient-reported outcomes in long-term survivors of metastatic colorectal cancer - British Journal of Surgery http://t.co/5Yl4DC1Tqt'],\n",
              "       dtype=object), array([0, 0, 1, 0, 0, 1, 1, 0, 1, 1]))"
            ]
          },
          "metadata": {
            "tags": []
          },
          "execution_count": 13
        }
      ]
    },
    {
      "cell_type": "markdown",
      "metadata": {
        "id": "VbNaY-7R4h6x"
      },
      "source": [
        "## Converting text into numbers\n",
        "\n",
        "When dealing with a text problem, one of the first things you'll have to do before you cna build a model is to covert your text to numbers.\n",
        "\n",
        "There are a few ways to do this, namely:\n",
        "* Tokenization -direct mapping of token (a token could be a word or a character ) to a number.\n",
        "* Embedding - create a matrix of feature vector for each token (the size of the feature vector can be defined and this embedding can be learned)."
      ]
    },
    {
      "cell_type": "markdown",
      "metadata": {
        "id": "BIjrCzutQJUg"
      },
      "source": [
        "### Text Vectorization(tokenization)"
      ]
    },
    {
      "cell_type": "code",
      "metadata": {
        "colab": {
          "base_uri": "https://localhost:8080/"
        },
        "id": "WmjlTiau5XUs",
        "outputId": "f1244b0d-194a-4b76-fdec-76edc85848bc"
      },
      "source": [
        "train_sentences[:5]"
      ],
      "execution_count": 14,
      "outputs": [
        {
          "output_type": "execute_result",
          "data": {
            "text/plain": [
              "array(['@mogacola @zamtriossu i screamed after hitting tweet',\n",
              "       'Imagine getting flattened by Kurt Zouma',\n",
              "       '@Gurmeetramrahim #MSGDoing111WelfareWorks Green S welfare force ke appx 65000 members har time disaster victim ki help ke liye tyar hai....',\n",
              "       \"@shakjn @C7 @Magnums im shaking in fear he's gonna hack the planet\",\n",
              "       'Somehow find you and I collide http://t.co/Ee8RpOahPk'],\n",
              "      dtype=object)"
            ]
          },
          "metadata": {
            "tags": []
          },
          "execution_count": 14
        }
      ]
    },
    {
      "cell_type": "code",
      "metadata": {
        "id": "9YuF5vq_5Zxc"
      },
      "source": [
        "import tensorflow as tf\n",
        "from tensorflow.keras.layers.experimental.preprocessing  import TextVectorization\n",
        "\n",
        "# Use the default TextVectorization parameters\n",
        "text_vectorization = TextVectorization(max_tokens=None, # how many words in the vocabulary (automatically add <OOV>)\n",
        "                                       standardize=\"lower_and_strip_punctuation\",\n",
        "                                       split='whitespace',\n",
        "                                       ngrams=None, #Create group of n-words?\n",
        "                                       output_mode='int',#how to map tokens to numbers\n",
        "                                       output_sequence_length=None, # how long do you wnat your sequence to be\n",
        "                                       pad_to_max_tokens=True)"
      ],
      "execution_count": 15,
      "outputs": []
    },
    {
      "cell_type": "code",
      "metadata": {
        "colab": {
          "base_uri": "https://localhost:8080/"
        },
        "id": "agz7qtkt5qCM",
        "outputId": "eb396fe2-b422-42af-a3ce-7fb14a54cea5"
      },
      "source": [
        "# Find the average number of tokens (words) in the training tweets\n",
        "round(sum([len(i.split()) for i in train_sentences])/len(train_sentences))"
      ],
      "execution_count": 16,
      "outputs": [
        {
          "output_type": "execute_result",
          "data": {
            "text/plain": [
              "15"
            ]
          },
          "metadata": {
            "tags": []
          },
          "execution_count": 16
        }
      ]
    },
    {
      "cell_type": "code",
      "metadata": {
        "id": "1cn2e4-Y8vfG"
      },
      "source": [
        "# Setup text vectorization variables\n",
        "max_vocab_length = 10000 # max number of words to have in our vocabulary\n",
        "max_length = 15 # max length our sequences will be ( e.g. how many words from a Tweet does a model see?)\n",
        "\n",
        "text_vectorizer = TextVectorization(max_tokens=max_vocab_length,\n",
        "                                       output_mode='int',\n",
        "                                       output_sequence_length=max_length)"
      ],
      "execution_count": 17,
      "outputs": []
    },
    {
      "cell_type": "code",
      "metadata": {
        "id": "NcPntcWt-T-k"
      },
      "source": [
        "# Fit the text vectorizer to the training text\n",
        "text_vectorizer.adapt(train_sentences)"
      ],
      "execution_count": 18,
      "outputs": []
    },
    {
      "cell_type": "code",
      "metadata": {
        "colab": {
          "base_uri": "https://localhost:8080/"
        },
        "id": "bT08orXmMojw",
        "outputId": "7683e7cb-acdb-4144-b18d-44ccf6313161"
      },
      "source": [
        "# Create a sample sentences and tokenize it\n",
        "sample_sentence = \"There's a flood in my street!\"\n",
        "text_vectorizer([sample_sentence])"
      ],
      "execution_count": 19,
      "outputs": [
        {
          "output_type": "execute_result",
          "data": {
            "text/plain": [
              "<tf.Tensor: shape=(1, 15), dtype=int64, numpy=\n",
              "array([[264,   3, 232,   4,  13, 698,   0,   0,   0,   0,   0,   0,   0,\n",
              "          0,   0]])>"
            ]
          },
          "metadata": {
            "tags": []
          },
          "execution_count": 19
        }
      ]
    },
    {
      "cell_type": "code",
      "metadata": {
        "colab": {
          "base_uri": "https://localhost:8080/"
        },
        "id": "5MchMzz4NC7z",
        "outputId": "8e65ab22-f1a0-43b2-b509-0a93b2d3120d"
      },
      "source": [
        "# Choose a random sentence from the training dataset and tokenize it\n",
        "random_sentence = random.choice(train_sentences)\n",
        "print(f\"Original text:\\n {random_sentence}\\\n",
        "\\n\\n Vectorized Version:\")\n",
        "text_vectorizer([random_sentence])"
      ],
      "execution_count": 20,
      "outputs": [
        {
          "output_type": "stream",
          "text": [
            "Original text:\n",
            " Families to sue over Legionnaires: More than 40 families affected by the fatal outbreak of Legionnaires' disea... http://t.co/2Mwc9YWjZy\n",
            "\n",
            " Vectorized Version:\n"
          ],
          "name": "stdout"
        },
        {
          "output_type": "execute_result",
          "data": {
            "text/plain": [
              "<tf.Tensor: shape=(1, 15), dtype=int64, numpy=\n",
              "array([[117,   5, 526,  60, 177,  51,  76, 354, 117, 446,  18,   2, 163,\n",
              "        298,   6]])>"
            ]
          },
          "metadata": {
            "tags": []
          },
          "execution_count": 20
        }
      ]
    },
    {
      "cell_type": "code",
      "metadata": {
        "colab": {
          "base_uri": "https://localhost:8080/"
        },
        "id": "K7moJ5FAN70a",
        "outputId": "4278f1b8-6160-4a8d-ee94-09491dae545b"
      },
      "source": [
        "# Get the unique words in the vocabulary\n",
        "words_in_vocab=text_vectorizer.get_vocabulary() # get all of the unique words \n",
        "top_5_words = words_in_vocab[:5] # get the most common words\n",
        "bottom_5_words = words_in_vocab[-5:] # get the least common words\n",
        "print(f\"Number of words in vocab: {len(words_in_vocab)}\")\n",
        "print(f\"5 most common words: {top_5_words}\")\n",
        "print(f\"5 least common words : {bottom_5_words}\")"
      ],
      "execution_count": 21,
      "outputs": [
        {
          "output_type": "stream",
          "text": [
            "Number of words in vocab: 10000\n",
            "5 most common words: ['', '[UNK]', 'the', 'a', 'in']\n",
            "5 least common words : ['pages', 'paeds', 'pads', 'padres', 'paddytomlinson1']\n"
          ],
          "name": "stdout"
        }
      ]
    },
    {
      "cell_type": "markdown",
      "metadata": {
        "id": "30y3diQWOpIB"
      },
      "source": [
        "### Creating an Embedding using an Embedding Layer\n",
        "\n",
        "To make our embedding we're going to use TensorFlow's embedding layer\n",
        "\n",
        "The parameters we care most about for our embedding layer:\n",
        "* `input_dim` = the size of our vocabulary\n",
        "* `output_dim` = the size of output embedding vector, for example, a value of 100 would mean each token gets represented by a vector 100 long\n",
        "* `input_length` = length of the sequences being passed to be embedding layer"
      ]
    },
    {
      "cell_type": "code",
      "metadata": {
        "colab": {
          "base_uri": "https://localhost:8080/"
        },
        "id": "vnTYq7DvQcfe",
        "outputId": "8affea02-ef6e-43c7-c458-02e4b87dfa59"
      },
      "source": [
        "from tensorflow.keras import layers\n",
        "\n",
        "embedding = layers.Embedding(input_dim=max_vocab_length, # Set input shape\n",
        "                             output_dim=128, # output shape\n",
        "                             embeddings_initializer='uniform',\n",
        "                             input_length=max_length # how long is each input\n",
        "                             )\n",
        "\n",
        "embedding"
      ],
      "execution_count": 22,
      "outputs": [
        {
          "output_type": "execute_result",
          "data": {
            "text/plain": [
              "<tensorflow.python.keras.layers.embeddings.Embedding at 0x7ff2b0335590>"
            ]
          },
          "metadata": {
            "tags": []
          },
          "execution_count": 22
        }
      ]
    },
    {
      "cell_type": "code",
      "metadata": {
        "colab": {
          "base_uri": "https://localhost:8080/"
        },
        "id": "z5mNX3VKR65G",
        "outputId": "1eca7459-2ed5-46e9-e9ee-3da145923870"
      },
      "source": [
        "# Get a  random sentence from the training set\n",
        "random_sentence = random.choice(train_sentences)\n",
        "print(f\"Original text:\\n {random_sentence}\\\n",
        "       \\n\\nEmbedded version: \")\n",
        "# Embed the random sentence (turn it into dense vectors of fixe size)\n",
        "sample_embed = embedding(text_vectorizer([random_sentence]))\n",
        "sample_embed"
      ],
      "execution_count": 23,
      "outputs": [
        {
          "output_type": "stream",
          "text": [
            "Original text:\n",
            " @mockingpanems @cuddlesforjen what if he slammed her against the wall for the wrong reason but then he came out of hijack mode and it       \n",
            "\n",
            "Embedded version: \n"
          ],
          "name": "stdout"
        },
        {
          "output_type": "execute_result",
          "data": {
            "text/plain": [
              "<tf.Tensor: shape=(1, 15, 128), dtype=float32, numpy=\n",
              "array([[[ 0.04307126, -0.03968736, -0.04770556, ...,  0.00055731,\n",
              "          0.01833303, -0.01882985],\n",
              "        [ 0.04307126, -0.03968736, -0.04770556, ...,  0.00055731,\n",
              "          0.01833303, -0.01882985],\n",
              "        [ 0.01212876, -0.03808264,  0.04706918, ...,  0.01207372,\n",
              "          0.02808715, -0.01785101],\n",
              "        ...,\n",
              "        [ 0.00979706,  0.03079149, -0.04056146, ..., -0.03578507,\n",
              "         -0.00513768, -0.04183627],\n",
              "        [-0.00123669,  0.03423302, -0.01482985, ...,  0.00021151,\n",
              "         -0.0440985 , -0.04790274],\n",
              "        [ 0.02904454,  0.04967893,  0.03023428, ...,  0.02800744,\n",
              "         -0.01726122,  0.00196667]]], dtype=float32)>"
            ]
          },
          "metadata": {
            "tags": []
          },
          "execution_count": 23
        }
      ]
    },
    {
      "cell_type": "code",
      "metadata": {
        "colab": {
          "base_uri": "https://localhost:8080/"
        },
        "id": "Mbv3glmQSnFl",
        "outputId": "663c2159-e123-4ce2-d502-99fa5f84d31d"
      },
      "source": [
        "# Check out a single token's embedding\n",
        "sample_embed[0][0], sample_embed[0][0].shape, random_sentence"
      ],
      "execution_count": 24,
      "outputs": [
        {
          "output_type": "execute_result",
          "data": {
            "text/plain": [
              "(<tf.Tensor: shape=(128,), dtype=float32, numpy=\n",
              " array([ 0.04307126, -0.03968736, -0.04770556,  0.04890377,  0.04095253,\n",
              "         0.01899752, -0.03904061,  0.03186799,  0.02386254,  0.02946614,\n",
              "         0.00925685,  0.00243844,  0.03438065, -0.02625864,  0.03531183,\n",
              "        -0.01647588,  0.01439724, -0.01046281, -0.04400965,  0.01348091,\n",
              "         0.04306728,  0.03551532, -0.04876692, -0.04445463,  0.04756193,\n",
              "         0.02070798,  0.03896553, -0.02381012,  0.01583183,  0.01455331,\n",
              "        -0.02825388,  0.00097171, -0.03172892, -0.01568806, -0.03919877,\n",
              "        -0.04505816, -0.02793038, -0.00760521, -0.00222658,  0.02045326,\n",
              "        -0.03730854, -0.01498959,  0.01095133,  0.00274177, -0.02788925,\n",
              "        -0.03509646, -0.01380044, -0.00055686, -0.02080159, -0.00382723,\n",
              "         0.02970156, -0.00749042,  0.00115327,  0.04987929,  0.00824774,\n",
              "         0.03494335,  0.03512171,  0.02280324,  0.00911069,  0.01410179,\n",
              "        -0.04308701, -0.03083766, -0.04468947,  0.03822399,  0.00982056,\n",
              "         0.0070997 ,  0.01076521, -0.04999348, -0.04785906,  0.0243465 ,\n",
              "        -0.02787725, -0.04575342, -0.01023703,  0.03080397, -0.03965252,\n",
              "         0.04949354, -0.01586443, -0.01894262, -0.00972088, -0.03785364,\n",
              "        -0.00115575,  0.00667309, -0.02795924, -0.04160788, -0.01026094,\n",
              "         0.03160273, -0.00017775,  0.04407312, -0.01624893, -0.02211453,\n",
              "        -0.04819804, -0.0369598 ,  0.04234402, -0.00961404, -0.03215463,\n",
              "        -0.01292576, -0.02586975,  0.00547711, -0.00340679, -0.00396706,\n",
              "         0.02423576,  0.0423655 , -0.04669677, -0.00614847, -0.01479412,\n",
              "        -0.0423687 ,  0.03672362,  0.04901678,  0.0242533 ,  0.04922981,\n",
              "        -0.02531401, -0.00726986,  0.03769225,  0.04277163,  0.00339093,\n",
              "        -0.01531384, -0.00795797,  0.03172522, -0.00461725,  0.03141308,\n",
              "         0.00945164, -0.02435682,  0.01846785,  0.04696551,  0.04385892,\n",
              "         0.00055731,  0.01833303, -0.01882985], dtype=float32)>,\n",
              " TensorShape([128]),\n",
              " '@mockingpanems @cuddlesforjen what if he slammed her against the wall for the wrong reason but then he came out of hijack mode and it')"
            ]
          },
          "metadata": {
            "tags": []
          },
          "execution_count": 24
        }
      ]
    },
    {
      "cell_type": "markdown",
      "metadata": {
        "id": "ik_xa8a2S9C4"
      },
      "source": [
        "## Modelling a text dataset (running a series of experiments)\n",
        "\n",
        "Now we've a got way to turn our text sequences into numbers, it's time to start building a series of modelling experiments.\n",
        "\n",
        "We'll start with a baseline and move on from there.\n",
        "\n",
        "* Model 0: Naive Bayes (baseline)\n",
        "* Model 1: Feed-forward neural network (dense model)\n",
        "* Model 2: LSTM model (RNN)\n",
        "* Model 3: GRU model (RNN)\n",
        "* Model 4: Bidirectional-LSTM model (RNN)\n",
        "* Model 5: 1D Convolutional Neural Network (CNN)\n",
        "* Model 6: TensorFlow Hub Pretrained Feature Extractor (using transfer learning for NLP)\n",
        "* Model 7: Same as model 6 with 10% of training data.\n",
        "\n",
        "How are we going to approach all of these?\n",
        "\n",
        "Use the standard steps in modelling with tenosrflow.\n",
        "\n",
        "* Create a model\n",
        "* Build a model\n",
        "* Fit a model\n",
        "* Evaluate our model"
      ]
    },
    {
      "cell_type": "markdown",
      "metadata": {
        "id": "vq1_naGiIIb4"
      },
      "source": [
        "### Model 0: Getting a baseline\n",
        "\n",
        "As with all machine learning modelling experiments, it's important to create a baseline model so you've got a benchmark for future experiments to build upon.\n",
        "\n",
        "To Create our baseline, we'll use Sklearn's Multinomial Naive Bayes using the TF-IDF formula to convert our words to numbers.\n",
        "\n",
        "> 🔑**NOte:** It's common practice to use non-DL algorithm as a baseline because of their speed and then later using DL, to see if you can improve upon them"
      ]
    },
    {
      "cell_type": "code",
      "metadata": {
        "colab": {
          "base_uri": "https://localhost:8080/"
        },
        "id": "fbkSWkrlLKfx",
        "outputId": "184d4814-261b-4157-c5a0-1df21a0d5208"
      },
      "source": [
        "from sklearn.feature_extraction.text import TfidfVectorizer\n",
        "from sklearn.naive_bayes import MultinomialNB\n",
        "from sklearn.pipeline import Pipeline\n",
        "\n",
        "# Create tokenization and modelling Pipeline\n",
        "model_0 = Pipeline([\n",
        "                    ('tfidf', TfidfVectorizer()), # Convert words to numbers using tfidf\n",
        "                    ('clf', MultinomialNB()) # Model the text\n",
        "])\n",
        "\n",
        "# Fit the pipeline to the training data\n",
        "model_0.fit(train_sentences, train_labels)"
      ],
      "execution_count": 25,
      "outputs": [
        {
          "output_type": "execute_result",
          "data": {
            "text/plain": [
              "Pipeline(memory=None,\n",
              "         steps=[('tfidf',\n",
              "                 TfidfVectorizer(analyzer='word', binary=False,\n",
              "                                 decode_error='strict',\n",
              "                                 dtype=<class 'numpy.float64'>,\n",
              "                                 encoding='utf-8', input='content',\n",
              "                                 lowercase=True, max_df=1.0, max_features=None,\n",
              "                                 min_df=1, ngram_range=(1, 1), norm='l2',\n",
              "                                 preprocessor=None, smooth_idf=True,\n",
              "                                 stop_words=None, strip_accents=None,\n",
              "                                 sublinear_tf=False,\n",
              "                                 token_pattern='(?u)\\\\b\\\\w\\\\w+\\\\b',\n",
              "                                 tokenizer=None, use_idf=True,\n",
              "                                 vocabulary=None)),\n",
              "                ('clf',\n",
              "                 MultinomialNB(alpha=1.0, class_prior=None, fit_prior=True))],\n",
              "         verbose=False)"
            ]
          },
          "metadata": {
            "tags": []
          },
          "execution_count": 25
        }
      ]
    },
    {
      "cell_type": "code",
      "metadata": {
        "colab": {
          "base_uri": "https://localhost:8080/"
        },
        "id": "mO032m_wMcb3",
        "outputId": "aa9a29e2-fb89-4ef4-f273-aceba38f5020"
      },
      "source": [
        "# Evaluata a baseline model\n",
        "baseline_score = model_0.score(val_sentences, val_labels)\n",
        "print(f\"Our baseline model achiever an accuracy of : {baseline_score*100:.2f}%\")"
      ],
      "execution_count": 26,
      "outputs": [
        {
          "output_type": "stream",
          "text": [
            "Our baseline model achiever an accuracy of : 79.27%\n"
          ],
          "name": "stdout"
        }
      ]
    },
    {
      "cell_type": "code",
      "metadata": {
        "colab": {
          "base_uri": "https://localhost:8080/"
        },
        "id": "itFNDPt_M6DF",
        "outputId": "304f555c-aab5-4888-ac10-f744a69a0c14"
      },
      "source": [
        "# Make predictions\n",
        "baseline_preds = model_0.predict(val_sentences)\n",
        "baseline_preds[:20]"
      ],
      "execution_count": 27,
      "outputs": [
        {
          "output_type": "execute_result",
          "data": {
            "text/plain": [
              "array([1, 1, 1, 0, 0, 1, 1, 1, 1, 0, 0, 1, 0, 0, 0, 0, 0, 0, 0, 1])"
            ]
          },
          "metadata": {
            "tags": []
          },
          "execution_count": 27
        }
      ]
    },
    {
      "cell_type": "markdown",
      "metadata": {
        "id": "UL-e9N-ENKc8"
      },
      "source": [
        "### Creating an evaluation function for our model experiments\n",
        "\n",
        "We could evaluate all of our model's predictions with different metrics every time, however, this will be cumbersome and could easily be fixed with a function\n",
        "\n",
        "Let's create one tom compare our model's predictions with the truth labels using the following:\n",
        "* Accuracy\n",
        "* Precision\n",
        "* Recall\n",
        "* F1-score"
      ]
    },
    {
      "cell_type": "code",
      "metadata": {
        "id": "MzUKEVgxOfOS"
      },
      "source": [
        "# Function to evaluate : accuracy, precision, recall, f1-score\n",
        "from sklearn.metrics import accuracy_score, precision_recall_fscore_support\n",
        "\n",
        "def calculate_results(y_true, y_pred):\n",
        "  \"\"\"\n",
        "\n",
        "  Calculates model accuracy, precision, recall and f1 score of a binary classification model.\n",
        "  \"\"\"\n",
        "\n",
        "  # Calculate model accuracy\n",
        "  model_accuracy = accuracy_score(y_true, y_pred) * 100\n",
        "  # Calculate model precision, recall and f1-score using 'weighted' average\n",
        "  model_precision, model_recall, model_f1, _ = precision_recall_fscore_support(y_true, y_pred, average='weighted')\n",
        "  model_results = {\"accuracy\" : model_accuracy,\n",
        "                   \"precison\" : model_precision,\n",
        "                   \"recall\"  : model_recall,\n",
        "                   \"f1\" : model_f1}\n",
        "  return model_results"
      ],
      "execution_count": 28,
      "outputs": []
    },
    {
      "cell_type": "code",
      "metadata": {
        "colab": {
          "base_uri": "https://localhost:8080/"
        },
        "id": "GZY_eyX_RG6z",
        "outputId": "7aba50e7-cb93-4847-9ba4-4f15bacbdcd2"
      },
      "source": [
        "# Get baseline results\n",
        "baseline_results = calculate_results(y_true=val_labels,\n",
        "                                     y_pred=baseline_preds)\n",
        "baseline_results"
      ],
      "execution_count": 29,
      "outputs": [
        {
          "output_type": "execute_result",
          "data": {
            "text/plain": [
              "{'accuracy': 79.26509186351706,\n",
              " 'f1': 0.7862189758049549,\n",
              " 'precison': 0.8111390004213173,\n",
              " 'recall': 0.7926509186351706}"
            ]
          },
          "metadata": {
            "tags": []
          },
          "execution_count": 29
        }
      ]
    },
    {
      "cell_type": "markdown",
      "metadata": {
        "id": "qS40jUm6RViv"
      },
      "source": [
        "### Model 1: A simple dense model"
      ]
    },
    {
      "cell_type": "code",
      "metadata": {
        "id": "Szmed63pHqwl"
      },
      "source": [
        "# Create a tenorboard callback (need to create a new one for each model)\n",
        "from helper_functions import create_tensorboard_callback\n",
        "\n",
        "\n",
        "# Create a directory to save TensorBaord logs\n",
        "SAVE_DIR = 'model_logs'"
      ],
      "execution_count": 30,
      "outputs": []
    },
    {
      "cell_type": "code",
      "metadata": {
        "id": "9PlzffLjH_yf"
      },
      "source": [
        "# Build model with The Functional API\n",
        "from tensorflow.keras import layers\n",
        "inputs = layers.Input(shape=(1,), dtype=tf.string) # inputs are 1-dimensitonal string\n",
        "x = text_vectorizer(inputs)  # turn the input text into numbers\n",
        "x = embedding(x) # create an embedding of the numerical inputs\n",
        "x = layers.GlobalAveragePooling1D()(x) # Condense the feature vector for each token to one vector\n",
        "outputs = layers.Dense(1, activation='sigmoid' )(x) # Create the output layer.\n",
        "model_1 = tf.keras.Model(inputs, outputs,name='model_1_dense')"
      ],
      "execution_count": 31,
      "outputs": []
    },
    {
      "cell_type": "code",
      "metadata": {
        "colab": {
          "base_uri": "https://localhost:8080/"
        },
        "id": "q1oA2qgnJD4E",
        "outputId": "c619580f-f15a-4870-8686-02d8391b7898"
      },
      "source": [
        "model_1.summary()"
      ],
      "execution_count": 32,
      "outputs": [
        {
          "output_type": "stream",
          "text": [
            "Model: \"model_1_dense\"\n",
            "_________________________________________________________________\n",
            "Layer (type)                 Output Shape              Param #   \n",
            "=================================================================\n",
            "input_1 (InputLayer)         [(None, 1)]               0         \n",
            "_________________________________________________________________\n",
            "text_vectorization_1 (TextVe (None, 15)                0         \n",
            "_________________________________________________________________\n",
            "embedding (Embedding)        (None, 15, 128)           1280000   \n",
            "_________________________________________________________________\n",
            "global_average_pooling1d (Gl (None, 128)               0         \n",
            "_________________________________________________________________\n",
            "dense (Dense)                (None, 1)                 129       \n",
            "=================================================================\n",
            "Total params: 1,280,129\n",
            "Trainable params: 1,280,129\n",
            "Non-trainable params: 0\n",
            "_________________________________________________________________\n"
          ],
          "name": "stdout"
        }
      ]
    },
    {
      "cell_type": "code",
      "metadata": {
        "id": "Dc3FoefcJJf6"
      },
      "source": [
        "# Compile model\n",
        "model_1.compile(loss='binary_crossentropy',\n",
        "                optimizer=tf.keras.optimizers.Adam(),\n",
        "                metrics=['accuracy'])"
      ],
      "execution_count": 33,
      "outputs": []
    },
    {
      "cell_type": "code",
      "metadata": {
        "colab": {
          "base_uri": "https://localhost:8080/"
        },
        "id": "0MU6jcO2Jp4p",
        "outputId": "0f5143bb-6dd9-4266-d41d-96d4c67878df"
      },
      "source": [
        "# Fit the model\n",
        "model_1_history = model_1.fit(x=train_sentences,\n",
        "                              y=train_labels,\n",
        "                              epochs=5,\n",
        "                              validation_data=(val_sentences, val_labels),\n",
        "                              callbacks=[create_tensorboard_callback(dir_name=SAVE_DIR,\n",
        "                                                                     experiment_name='model_1_dense')])"
      ],
      "execution_count": 34,
      "outputs": [
        {
          "output_type": "stream",
          "text": [
            "Saving TensorBoard log files to: model_logs/model_1_dense/20210814-020847\n",
            "Epoch 1/5\n",
            "215/215 [==============================] - 7s 17ms/step - loss: 0.6122 - accuracy: 0.6900 - val_loss: 0.5351 - val_accuracy: 0.7598\n",
            "Epoch 2/5\n",
            "215/215 [==============================] - 3s 14ms/step - loss: 0.4426 - accuracy: 0.8183 - val_loss: 0.4777 - val_accuracy: 0.7808\n",
            "Epoch 3/5\n",
            "215/215 [==============================] - 3s 14ms/step - loss: 0.3472 - accuracy: 0.8612 - val_loss: 0.4590 - val_accuracy: 0.7966\n",
            "Epoch 4/5\n",
            "215/215 [==============================] - 3s 13ms/step - loss: 0.2849 - accuracy: 0.8911 - val_loss: 0.4644 - val_accuracy: 0.7913\n",
            "Epoch 5/5\n",
            "215/215 [==============================] - 3s 13ms/step - loss: 0.2376 - accuracy: 0.9114 - val_loss: 0.4772 - val_accuracy: 0.7835\n"
          ],
          "name": "stdout"
        }
      ]
    },
    {
      "cell_type": "code",
      "metadata": {
        "colab": {
          "base_uri": "https://localhost:8080/"
        },
        "id": "Hf2fVlauJ_PS",
        "outputId": "4acc573c-a9fe-41dd-b23d-be9caba9ee5b"
      },
      "source": [
        "# Check the results\n",
        "model_1.evaluate(val_sentences, val_labels)"
      ],
      "execution_count": 35,
      "outputs": [
        {
          "output_type": "stream",
          "text": [
            "24/24 [==============================] - 0s 3ms/step - loss: 0.4772 - accuracy: 0.7835\n"
          ],
          "name": "stdout"
        },
        {
          "output_type": "execute_result",
          "data": {
            "text/plain": [
              "[0.47717681527137756, 0.7834645509719849]"
            ]
          },
          "metadata": {
            "tags": []
          },
          "execution_count": 35
        }
      ]
    },
    {
      "cell_type": "code",
      "metadata": {
        "colab": {
          "base_uri": "https://localhost:8080/"
        },
        "id": "OFxxpWAOKOIx",
        "outputId": "fb3f25a5-0d4b-4ffa-f7e5-a562da117efe"
      },
      "source": [
        "# Make some predictions and evaluate those\n",
        "model_1_pred_probs = model_1.predict(val_sentences)\n",
        "model_1_pred_probs.shape"
      ],
      "execution_count": 36,
      "outputs": [
        {
          "output_type": "execute_result",
          "data": {
            "text/plain": [
              "(762, 1)"
            ]
          },
          "metadata": {
            "tags": []
          },
          "execution_count": 36
        }
      ]
    },
    {
      "cell_type": "code",
      "metadata": {
        "colab": {
          "base_uri": "https://localhost:8080/"
        },
        "id": "j_mXqfjZKYUf",
        "outputId": "9996edc1-6793-4fde-ed7d-8ab9ecb263a2"
      },
      "source": [
        "model_1_pred_probs[0]"
      ],
      "execution_count": 37,
      "outputs": [
        {
          "output_type": "execute_result",
          "data": {
            "text/plain": [
              "array([0.37800977], dtype=float32)"
            ]
          },
          "metadata": {
            "tags": []
          },
          "execution_count": 37
        }
      ]
    },
    {
      "cell_type": "code",
      "metadata": {
        "colab": {
          "base_uri": "https://localhost:8080/"
        },
        "id": "ijXDWWLuL6cY",
        "outputId": "62e2cfb9-688b-46f3-a0bc-a743af6fe1c4"
      },
      "source": [
        "# Look at the first 10 predictions\n",
        "model_1_pred_probs[:10]"
      ],
      "execution_count": 38,
      "outputs": [
        {
          "output_type": "execute_result",
          "data": {
            "text/plain": [
              "array([[0.37800977],\n",
              "       [0.7360887 ],\n",
              "       [0.9970427 ],\n",
              "       [0.12330737],\n",
              "       [0.13244373],\n",
              "       [0.9414641 ],\n",
              "       [0.90781134],\n",
              "       [0.99254864],\n",
              "       [0.9589887 ],\n",
              "       [0.26552477]], dtype=float32)"
            ]
          },
          "metadata": {
            "tags": []
          },
          "execution_count": 38
        }
      ]
    },
    {
      "cell_type": "code",
      "metadata": {
        "id": "2YnVRDqWMG8f"
      },
      "source": [
        "# Convert model predictions probabilities to label format\n",
        "model_1_preds = tf.squeeze(tf.round(model_1_pred_probs))"
      ],
      "execution_count": 39,
      "outputs": []
    },
    {
      "cell_type": "code",
      "metadata": {
        "colab": {
          "base_uri": "https://localhost:8080/"
        },
        "id": "T5Le3_mMMhH5",
        "outputId": "cfb5bf7c-19d8-4d7c-956b-276c0866a528"
      },
      "source": [
        "model_1_preds[:20]"
      ],
      "execution_count": 40,
      "outputs": [
        {
          "output_type": "execute_result",
          "data": {
            "text/plain": [
              "<tf.Tensor: shape=(20,), dtype=float32, numpy=\n",
              "array([0., 1., 1., 0., 0., 1., 1., 1., 1., 0., 0., 1., 0., 0., 0., 0., 0.,\n",
              "       0., 0., 1.], dtype=float32)>"
            ]
          },
          "metadata": {
            "tags": []
          },
          "execution_count": 40
        }
      ]
    },
    {
      "cell_type": "code",
      "metadata": {
        "colab": {
          "base_uri": "https://localhost:8080/"
        },
        "id": "v1kHNdAnMklJ",
        "outputId": "a87dbdc6-7e11-4e34-e234-3e35f67a83bb"
      },
      "source": [
        "# calculate out model_1 results\n",
        "model_1_results = calculate_results(y_true=val_labels,\n",
        "                                    y_pred = model_1_preds)\n",
        "model_1_results"
      ],
      "execution_count": 41,
      "outputs": [
        {
          "output_type": "execute_result",
          "data": {
            "text/plain": [
              "{'accuracy': 78.34645669291339,\n",
              " 'f1': 0.7804929895574078,\n",
              " 'precison': 0.7880043492637875,\n",
              " 'recall': 0.7834645669291339}"
            ]
          },
          "metadata": {
            "tags": []
          },
          "execution_count": 41
        }
      ]
    },
    {
      "cell_type": "code",
      "metadata": {
        "colab": {
          "base_uri": "https://localhost:8080/"
        },
        "id": "Sho22pm8M4Ef",
        "outputId": "5389644b-c072-4f90-a6c4-bc3aab6637d3"
      },
      "source": [
        "baseline_results"
      ],
      "execution_count": 42,
      "outputs": [
        {
          "output_type": "execute_result",
          "data": {
            "text/plain": [
              "{'accuracy': 79.26509186351706,\n",
              " 'f1': 0.7862189758049549,\n",
              " 'precison': 0.8111390004213173,\n",
              " 'recall': 0.7926509186351706}"
            ]
          },
          "metadata": {
            "tags": []
          },
          "execution_count": 42
        }
      ]
    },
    {
      "cell_type": "code",
      "metadata": {
        "colab": {
          "base_uri": "https://localhost:8080/"
        },
        "id": "y3_N3BUwM6En",
        "outputId": "f413f52b-0479-41ca-b382-c1fdf2979d86"
      },
      "source": [
        "import numpy as np\n",
        "np.array(list(model_1_results.values()))>np.array(list(baseline_results.values()))"
      ],
      "execution_count": 43,
      "outputs": [
        {
          "output_type": "execute_result",
          "data": {
            "text/plain": [
              "array([False, False, False, False])"
            ]
          },
          "metadata": {
            "tags": []
          },
          "execution_count": 43
        }
      ]
    },
    {
      "cell_type": "markdown",
      "metadata": {
        "id": "crYn3nFcNF0Q"
      },
      "source": [
        "## Visualizing learned Embeddings"
      ]
    },
    {
      "cell_type": "code",
      "metadata": {
        "colab": {
          "base_uri": "https://localhost:8080/"
        },
        "id": "2srL9ypkP6hj",
        "outputId": "e3527be7-7eab-4660-ad3c-f88c0bc36fad"
      },
      "source": [
        "# Get the vocabulary from the text vectorization layer\n",
        "words_in_vocab=text_vectorizer.get_vocabulary()\n",
        "len(words_in_vocab), words_in_vocab[:10]"
      ],
      "execution_count": 44,
      "outputs": [
        {
          "output_type": "execute_result",
          "data": {
            "text/plain": [
              "(10000, ['', '[UNK]', 'the', 'a', 'in', 'to', 'of', 'and', 'i', 'is'])"
            ]
          },
          "metadata": {
            "tags": []
          },
          "execution_count": 44
        }
      ]
    },
    {
      "cell_type": "code",
      "metadata": {
        "colab": {
          "base_uri": "https://localhost:8080/"
        },
        "id": "Pz80Pl2dQfJN",
        "outputId": "f37c2766-b9e3-4ec0-e6cc-6557772c8518"
      },
      "source": [
        "# Model 1 summary\n",
        "model_1.summary()"
      ],
      "execution_count": 45,
      "outputs": [
        {
          "output_type": "stream",
          "text": [
            "Model: \"model_1_dense\"\n",
            "_________________________________________________________________\n",
            "Layer (type)                 Output Shape              Param #   \n",
            "=================================================================\n",
            "input_1 (InputLayer)         [(None, 1)]               0         \n",
            "_________________________________________________________________\n",
            "text_vectorization_1 (TextVe (None, 15)                0         \n",
            "_________________________________________________________________\n",
            "embedding (Embedding)        (None, 15, 128)           1280000   \n",
            "_________________________________________________________________\n",
            "global_average_pooling1d (Gl (None, 128)               0         \n",
            "_________________________________________________________________\n",
            "dense (Dense)                (None, 1)                 129       \n",
            "=================================================================\n",
            "Total params: 1,280,129\n",
            "Trainable params: 1,280,129\n",
            "Non-trainable params: 0\n",
            "_________________________________________________________________\n"
          ],
          "name": "stdout"
        }
      ]
    },
    {
      "cell_type": "code",
      "metadata": {
        "colab": {
          "base_uri": "https://localhost:8080/"
        },
        "id": "obn-r5c3RAil",
        "outputId": "597ce9a2-c758-491b-ebc2-573e1d0ba369"
      },
      "source": [
        "# Get the weight matrix of embedding layer\n",
        "# (these are the numerical representations of each token in our training data, which have been learned for -5 epochs)\n",
        "embed_weights = model_1.get_layer('embedding').get_weights()[0]\n",
        "print(embed_weights.shape) # same size as vocab size and embedding_dim (output_dim of our embedding layer)"
      ],
      "execution_count": 46,
      "outputs": [
        {
          "output_type": "stream",
          "text": [
            "(10000, 128)\n"
          ],
          "name": "stdout"
        }
      ]
    },
    {
      "cell_type": "markdown",
      "metadata": {
        "id": "HZ0ldc5bTgN9"
      },
      "source": [
        "Now we've got the embedding matrix our model has learned to represent our tokens, let's see how we can visualize it.\n",
        "\n",
        "To do so, TensorFlow has a handy tool called projector:http://projector.tensorflow.org/\n",
        "\n",
        "And TensorFlow also has an incredible guide on word embeddings themselves:https://www.tensorflow.org/tutorials/text/word_embeddings"
      ]
    },
    {
      "cell_type": "code",
      "metadata": {
        "id": "UhlSPGnmTOq7"
      },
      "source": [
        "# Create embedding files (we got this TensorFlow's word embeddings documentation)\n",
        "import io\n",
        "out_v = io.open('vectors.tsv', 'w', encoding='utf-8')\n",
        "out_m = io.open('metadata.tsv', 'w', encoding='utf-8')\n",
        "\n",
        "for index, word in enumerate(words_in_vocab):\n",
        "  if index == 0:\n",
        "    continue  # skip 0, it's padding.\n",
        "  vec = embed_weights[index]\n",
        "  out_v.write('\\t'.join([str(x) for x in vec]) + \"\\n\")\n",
        "  out_m.write(word + \"\\n\")\n",
        "out_v.close()\n",
        "out_m.close()\n"
      ],
      "execution_count": 47,
      "outputs": []
    },
    {
      "cell_type": "code",
      "metadata": {
        "colab": {
          "base_uri": "https://localhost:8080/",
          "height": 17
        },
        "id": "X3b5SswUVFmB",
        "outputId": "e62c76f3-57ca-4917-8a7e-4fe97f1d9d18"
      },
      "source": [
        "# Download files from colab to upload to projector \n",
        "try:\n",
        "  from google.colab import files\n",
        "  files.download('vectors.tsv')\n",
        "  files.download('metadata.tsv')\n",
        "except Exception:\n",
        "  pass\n"
      ],
      "execution_count": 48,
      "outputs": [
        {
          "output_type": "display_data",
          "data": {
            "application/javascript": [
              "\n",
              "    async function download(id, filename, size) {\n",
              "      if (!google.colab.kernel.accessAllowed) {\n",
              "        return;\n",
              "      }\n",
              "      const div = document.createElement('div');\n",
              "      const label = document.createElement('label');\n",
              "      label.textContent = `Downloading \"${filename}\": `;\n",
              "      div.appendChild(label);\n",
              "      const progress = document.createElement('progress');\n",
              "      progress.max = size;\n",
              "      div.appendChild(progress);\n",
              "      document.body.appendChild(div);\n",
              "\n",
              "      const buffers = [];\n",
              "      let downloaded = 0;\n",
              "\n",
              "      const channel = await google.colab.kernel.comms.open(id);\n",
              "      // Send a message to notify the kernel that we're ready.\n",
              "      channel.send({})\n",
              "\n",
              "      for await (const message of channel.messages) {\n",
              "        // Send a message to notify the kernel that we're ready.\n",
              "        channel.send({})\n",
              "        if (message.buffers) {\n",
              "          for (const buffer of message.buffers) {\n",
              "            buffers.push(buffer);\n",
              "            downloaded += buffer.byteLength;\n",
              "            progress.value = downloaded;\n",
              "          }\n",
              "        }\n",
              "      }\n",
              "      const blob = new Blob(buffers, {type: 'application/binary'});\n",
              "      const a = document.createElement('a');\n",
              "      a.href = window.URL.createObjectURL(blob);\n",
              "      a.download = filename;\n",
              "      div.appendChild(a);\n",
              "      a.click();\n",
              "      div.remove();\n",
              "    }\n",
              "  "
            ],
            "text/plain": [
              "<IPython.core.display.Javascript object>"
            ]
          },
          "metadata": {
            "tags": []
          }
        },
        {
          "output_type": "display_data",
          "data": {
            "application/javascript": [
              "download(\"download_5751a69f-cffe-4371-a283-60fb995a416b\", \"vectors.tsv\", 15381496)"
            ],
            "text/plain": [
              "<IPython.core.display.Javascript object>"
            ]
          },
          "metadata": {
            "tags": []
          }
        },
        {
          "output_type": "display_data",
          "data": {
            "application/javascript": [
              "\n",
              "    async function download(id, filename, size) {\n",
              "      if (!google.colab.kernel.accessAllowed) {\n",
              "        return;\n",
              "      }\n",
              "      const div = document.createElement('div');\n",
              "      const label = document.createElement('label');\n",
              "      label.textContent = `Downloading \"${filename}\": `;\n",
              "      div.appendChild(label);\n",
              "      const progress = document.createElement('progress');\n",
              "      progress.max = size;\n",
              "      div.appendChild(progress);\n",
              "      document.body.appendChild(div);\n",
              "\n",
              "      const buffers = [];\n",
              "      let downloaded = 0;\n",
              "\n",
              "      const channel = await google.colab.kernel.comms.open(id);\n",
              "      // Send a message to notify the kernel that we're ready.\n",
              "      channel.send({})\n",
              "\n",
              "      for await (const message of channel.messages) {\n",
              "        // Send a message to notify the kernel that we're ready.\n",
              "        channel.send({})\n",
              "        if (message.buffers) {\n",
              "          for (const buffer of message.buffers) {\n",
              "            buffers.push(buffer);\n",
              "            downloaded += buffer.byteLength;\n",
              "            progress.value = downloaded;\n",
              "          }\n",
              "        }\n",
              "      }\n",
              "      const blob = new Blob(buffers, {type: 'application/binary'});\n",
              "      const a = document.createElement('a');\n",
              "      a.href = window.URL.createObjectURL(blob);\n",
              "      a.download = filename;\n",
              "      div.appendChild(a);\n",
              "      a.click();\n",
              "      div.remove();\n",
              "    }\n",
              "  "
            ],
            "text/plain": [
              "<IPython.core.display.Javascript object>"
            ]
          },
          "metadata": {
            "tags": []
          }
        },
        {
          "output_type": "display_data",
          "data": {
            "application/javascript": [
              "download(\"download_956e8814-9b59-4d10-81ee-5bc0b93bcd39\", \"metadata.tsv\", 80388)"
            ],
            "text/plain": [
              "<IPython.core.display.Javascript object>"
            ]
          },
          "metadata": {
            "tags": []
          }
        }
      ]
    },
    {
      "cell_type": "markdown",
      "metadata": {
        "id": "U2KxdKUGfgiI"
      },
      "source": [
        "Downloading the files above we can visualize https://projector.tensorflow.org/ and clicking the \"load\" button on the left hand side\n",
        "\n",
        "> 📝**Resources**: If you'd like to know more about embeddings\n",
        "* Jay Alammar's visualized word2vec post: https://jalammar.github.io/illustrated-word2vec/\n",
        "* TensorFlow's Word Embeddings guide: https://www.tensorflow.org/tutorials/text/word_embeddings."
      ]
    },
    {
      "cell_type": "markdown",
      "metadata": {
        "id": "jRCZc2kYW_UQ"
      },
      "source": [
        "## Recurrent Neural Networks(RNN's)\n",
        "\n",
        "RNN's are useful for sequence data.\n",
        "\n",
        "The premise of a recurrent neural network is to use the representation of a previous input to aid the representation of a later input.\n",
        "\n",
        "> 📝**Resources:**If you want an overview of the internals of a recurrent neural network, see the following:\n",
        "- MIT's sequence modelling lecture https://www.youtube.com/watch?v=qjrad0V0uJE&list=PLtBw6njQRU-rwp5__7C0oIVt26ZgjG9NI&index=3\n",
        "\n",
        "- Chris Olabh's intro to LSTMs: https://colah.github.io/posts/2015-08-Understanding-LSTMs/\n",
        "\n",
        "- Andrei Karpathy's the unreasonable effectiveness of recurrent neural networks:http://karpathy.github.io/2015/05/21/rnn-effectiveness/"
      ]
    },
    {
      "cell_type": "markdown",
      "metadata": {
        "id": "DOoOksdohAb1"
      },
      "source": [
        "### Model 2: LSTM\n",
        "\n",
        "LSTM = long short term memory (one of the most popular LSTM cells)\n",
        "\n",
        "Our structure of an RNN typically looks like this:\n",
        "\n",
        "```\n",
        "Input (text) -> Tokenize -> Embedding -> Layers (RNNs/dense) -> Output (label probability)\n",
        "```\n"
      ]
    },
    {
      "cell_type": "code",
      "metadata": {
        "id": "VQ_KcS_QkqUb"
      },
      "source": [
        "# Crete an LSTM model\n",
        "from tensorflow.keras import layers\n",
        "inputs = layers.Input(shape=(1, ), dtype='string')\n",
        "x = text_vectorizer(inputs)\n",
        "x = embedding(x)\n",
        "# print(x.shape)\n",
        "# x = layers.LSTM(units=64, return_sequences=True)(x) # when you're stacking RNN cels together, you need to return_sequences=True\n",
        "# print(x.shape)\n",
        "x = layers.LSTM(64)(x)\n",
        "# print(x.shape)\n",
        "# x = layers.Dense(64, activation='relu')(x)\n",
        "# print(x.shape)\n",
        "outputs = layers.Dense(1, activation='sigmoid')(x)\n",
        "\n",
        "model_2 = tf.keras.Model(inputs, outputs,name='model_2_LSTM')"
      ],
      "execution_count": 49,
      "outputs": []
    },
    {
      "cell_type": "code",
      "metadata": {
        "colab": {
          "base_uri": "https://localhost:8080/"
        },
        "id": "GIv-uaACob2r",
        "outputId": "fe98eb89-eb84-45f1-b3e7-a6b60da0ffd6"
      },
      "source": [
        "# Get a summary\n",
        "model_2.summary()"
      ],
      "execution_count": 50,
      "outputs": [
        {
          "output_type": "stream",
          "text": [
            "Model: \"model_2_LSTM\"\n",
            "_________________________________________________________________\n",
            "Layer (type)                 Output Shape              Param #   \n",
            "=================================================================\n",
            "input_2 (InputLayer)         [(None, 1)]               0         \n",
            "_________________________________________________________________\n",
            "text_vectorization_1 (TextVe (None, 15)                0         \n",
            "_________________________________________________________________\n",
            "embedding (Embedding)        (None, 15, 128)           1280000   \n",
            "_________________________________________________________________\n",
            "lstm (LSTM)                  (None, 64)                49408     \n",
            "_________________________________________________________________\n",
            "dense_1 (Dense)              (None, 1)                 65        \n",
            "=================================================================\n",
            "Total params: 1,329,473\n",
            "Trainable params: 1,329,473\n",
            "Non-trainable params: 0\n",
            "_________________________________________________________________\n"
          ],
          "name": "stdout"
        }
      ]
    },
    {
      "cell_type": "code",
      "metadata": {
        "id": "JpuU8dVtq55T"
      },
      "source": [
        "# Compile the model\n",
        "model_2.compile(loss='binary_crossentropy',\n",
        "                optimizer=tf.keras.optimizers.Adam(),\n",
        "                metrics=['accuracy'])"
      ],
      "execution_count": 51,
      "outputs": []
    },
    {
      "cell_type": "code",
      "metadata": {
        "colab": {
          "base_uri": "https://localhost:8080/"
        },
        "id": "3B19pydirK4x",
        "outputId": "fef16c95-fdff-405f-e8c4-1f1163980072"
      },
      "source": [
        "# Fit the model\n",
        "model_2_history = model_2.fit(train_sentences,\n",
        "                            train_labels,\n",
        "                            epochs=5,\n",
        "                            validation_data=(val_sentences, val_labels),\n",
        "                            callbacks=[create_tensorboard_callback(SAVE_DIR,\n",
        "                                                                   'model_2_LSTM')])"
      ],
      "execution_count": 52,
      "outputs": [
        {
          "output_type": "stream",
          "text": [
            "Saving TensorBoard log files to: model_logs/model_2_LSTM/20210814-020908\n",
            "Epoch 1/5\n",
            "215/215 [==============================] - 10s 21ms/step - loss: 0.2142 - accuracy: 0.9215 - val_loss: 0.5626 - val_accuracy: 0.7769\n",
            "Epoch 2/5\n",
            "215/215 [==============================] - 3s 16ms/step - loss: 0.1553 - accuracy: 0.9435 - val_loss: 0.6001 - val_accuracy: 0.7848\n",
            "Epoch 3/5\n",
            "215/215 [==============================] - 3s 16ms/step - loss: 0.1244 - accuracy: 0.9555 - val_loss: 0.6427 - val_accuracy: 0.7835\n",
            "Epoch 4/5\n",
            "215/215 [==============================] - 3s 16ms/step - loss: 0.1042 - accuracy: 0.9604 - val_loss: 0.7135 - val_accuracy: 0.7861\n",
            "Epoch 5/5\n",
            "215/215 [==============================] - 3s 16ms/step - loss: 0.0858 - accuracy: 0.9657 - val_loss: 1.0014 - val_accuracy: 0.7730\n"
          ],
          "name": "stdout"
        }
      ]
    },
    {
      "cell_type": "code",
      "metadata": {
        "colab": {
          "base_uri": "https://localhost:8080/"
        },
        "id": "ZEN6bbzPrrRo",
        "outputId": "9c13c4f5-1049-4c64-cd18-812848b9655f"
      },
      "source": [
        "# Make predictions with LSTM model\n",
        "model_2_pred_probs = model_2.predict(val_sentences)\n",
        "model_2_pred_probs[:10]"
      ],
      "execution_count": 53,
      "outputs": [
        {
          "output_type": "execute_result",
          "data": {
            "text/plain": [
              "array([[1.6925958e-03],\n",
              "       [8.4866399e-01],\n",
              "       [9.9981052e-01],\n",
              "       [1.0082269e-02],\n",
              "       [3.9386307e-04],\n",
              "       [9.9812704e-01],\n",
              "       [9.2860961e-01],\n",
              "       [9.9991012e-01],\n",
              "       [9.9971479e-01],\n",
              "       [1.6678491e-01]], dtype=float32)"
            ]
          },
          "metadata": {
            "tags": []
          },
          "execution_count": 53
        }
      ]
    },
    {
      "cell_type": "code",
      "metadata": {
        "colab": {
          "base_uri": "https://localhost:8080/"
        },
        "id": "TEfq5aGrr3i5",
        "outputId": "039c990c-3ed1-4091-abef-75de8a30ec41"
      },
      "source": [
        "# Convert model 2 pred probs to labels\n",
        "model_2_preds = tf.squeeze(tf.round(model_2_pred_probs))\n",
        "model_2_preds[:10]"
      ],
      "execution_count": 54,
      "outputs": [
        {
          "output_type": "execute_result",
          "data": {
            "text/plain": [
              "<tf.Tensor: shape=(10,), dtype=float32, numpy=array([0., 1., 1., 0., 0., 1., 1., 1., 1., 0.], dtype=float32)>"
            ]
          },
          "metadata": {
            "tags": []
          },
          "execution_count": 54
        }
      ]
    },
    {
      "cell_type": "code",
      "metadata": {
        "id": "3fXyYBTHsL3B"
      },
      "source": [
        "# Calculate model_2 results\n",
        "model_2_results = calculate_results(y_true=val_labels,\n",
        "                                    y_pred=model_2_preds)"
      ],
      "execution_count": 55,
      "outputs": []
    },
    {
      "cell_type": "code",
      "metadata": {
        "colab": {
          "base_uri": "https://localhost:8080/"
        },
        "id": "im9qmnS3sYkh",
        "outputId": "51f04a09-0130-4310-c68c-91dd644f9a59"
      },
      "source": [
        "model_2_results"
      ],
      "execution_count": 56,
      "outputs": [
        {
          "output_type": "execute_result",
          "data": {
            "text/plain": [
              "{'accuracy': 77.29658792650919,\n",
              " 'f1': 0.7673391656682903,\n",
              " 'precison': 0.7844442178594743,\n",
              " 'recall': 0.7729658792650919}"
            ]
          },
          "metadata": {
            "tags": []
          },
          "execution_count": 56
        }
      ]
    },
    {
      "cell_type": "markdown",
      "metadata": {
        "id": "CnvW602wsaYY"
      },
      "source": [
        "### Model 3: GRU\n",
        "\n",
        "Another popular and effective RNN component is the GRU or gated recurrent unit.\n",
        "\n",
        "The GRU cell has similar features to an LSTM cell but has less parameters"
      ]
    },
    {
      "cell_type": "code",
      "metadata": {
        "id": "4N3Ivqb3v2Np"
      },
      "source": [
        "# Build an RNN using the GRU Cell\n",
        "from tensorflow.keras import layers\n",
        "inputs = layers.Input(shape=(1,), dtype=tf.string)\n",
        "x = text_vectorizer(inputs)\n",
        "x = embedding(x)\n",
        "x = layers.GRU(64)(x)\n",
        "# x = layers.GRU(64, return_sequences=True)(x) # If you want to stack recurrent layers on top of each other, you need return_sequences=true\n",
        "# x = layers.LSTM(42, return_sequences=True)(x)\n",
        "# x = layers.GRU(64)(x)\n",
        "# x = layers.Dense(64, activation='relu')(x)\n",
        "# x = layers.GlobalAveragePooling1D()(x)\n",
        "outputs = layers.Dense(1, activation='sigmoid')(x)\n",
        "model_3 = tf.keras.Model(inputs, outputs, name='model_3_GRU')\n"
      ],
      "execution_count": 57,
      "outputs": []
    },
    {
      "cell_type": "code",
      "metadata": {
        "colab": {
          "base_uri": "https://localhost:8080/"
        },
        "id": "IgIq6cjzxidp",
        "outputId": "be702a56-2e7d-403d-cb47-a998f3192f40"
      },
      "source": [
        "# Get a summary\n",
        "model_3.summary()"
      ],
      "execution_count": 58,
      "outputs": [
        {
          "output_type": "stream",
          "text": [
            "Model: \"model_3_GRU\"\n",
            "_________________________________________________________________\n",
            "Layer (type)                 Output Shape              Param #   \n",
            "=================================================================\n",
            "input_3 (InputLayer)         [(None, 1)]               0         \n",
            "_________________________________________________________________\n",
            "text_vectorization_1 (TextVe (None, 15)                0         \n",
            "_________________________________________________________________\n",
            "embedding (Embedding)        (None, 15, 128)           1280000   \n",
            "_________________________________________________________________\n",
            "gru (GRU)                    (None, 64)                37248     \n",
            "_________________________________________________________________\n",
            "dense_2 (Dense)              (None, 1)                 65        \n",
            "=================================================================\n",
            "Total params: 1,317,313\n",
            "Trainable params: 1,317,313\n",
            "Non-trainable params: 0\n",
            "_________________________________________________________________\n"
          ],
          "name": "stdout"
        }
      ]
    },
    {
      "cell_type": "code",
      "metadata": {
        "id": "6Zano5jE2HJF"
      },
      "source": [
        "# Compile the model\n",
        "model_3.compile(loss='binary_crossentropy',\n",
        "                optimizer=tf.keras.optimizers.Adam(),\n",
        "                metrics=['accuracy'])"
      ],
      "execution_count": 59,
      "outputs": []
    },
    {
      "cell_type": "code",
      "metadata": {
        "colab": {
          "base_uri": "https://localhost:8080/"
        },
        "id": "Jxd_fIB43HGG",
        "outputId": "38ba9b9b-2161-43ff-b256-b98d36482fbc"
      },
      "source": [
        "# Fit the model\n",
        "model_3_history = model_3.fit(train_sentences,\n",
        "                              train_labels,\n",
        "                              epochs=5,\n",
        "                              validation_data=(val_sentences, val_labels),\n",
        "                              callbacks=[create_tensorboard_callback(SAVE_DIR,\n",
        "                                                                     \"model_3_GRU\")])"
      ],
      "execution_count": 60,
      "outputs": [
        {
          "output_type": "stream",
          "text": [
            "Saving TensorBoard log files to: model_logs/model_3_GRU/20210814-020952\n",
            "Epoch 1/5\n",
            "215/215 [==============================] - 6s 20ms/step - loss: 0.1594 - accuracy: 0.9356 - val_loss: 0.7950 - val_accuracy: 0.7782\n",
            "Epoch 2/5\n",
            "215/215 [==============================] - 3s 16ms/step - loss: 0.0874 - accuracy: 0.9689 - val_loss: 0.8515 - val_accuracy: 0.7782\n",
            "Epoch 3/5\n",
            "215/215 [==============================] - 3s 16ms/step - loss: 0.0714 - accuracy: 0.9731 - val_loss: 0.8853 - val_accuracy: 0.7677\n",
            "Epoch 4/5\n",
            "215/215 [==============================] - 3s 15ms/step - loss: 0.0593 - accuracy: 0.9752 - val_loss: 1.0690 - val_accuracy: 0.7874\n",
            "Epoch 5/5\n",
            "215/215 [==============================] - 3s 15ms/step - loss: 0.0554 - accuracy: 0.9765 - val_loss: 1.1420 - val_accuracy: 0.7782\n"
          ],
          "name": "stdout"
        }
      ]
    },
    {
      "cell_type": "code",
      "metadata": {
        "colab": {
          "base_uri": "https://localhost:8080/"
        },
        "id": "4GAjS4re3XUn",
        "outputId": "f9e14c44-6ca1-46fb-86ab-941c667fc7ab"
      },
      "source": [
        "# Make some predictions with our GRU model\n",
        "model_3_pred_probs = model_3.predict(val_sentences)\n",
        "model_3_pred_probs[:10]"
      ],
      "execution_count": 61,
      "outputs": [
        {
          "output_type": "execute_result",
          "data": {
            "text/plain": [
              "array([[1.6389630e-03],\n",
              "       [7.9922563e-01],\n",
              "       [9.9986207e-01],\n",
              "       [1.6708288e-01],\n",
              "       [1.1924260e-04],\n",
              "       [9.9977559e-01],\n",
              "       [8.7433738e-01],\n",
              "       [9.9995840e-01],\n",
              "       [9.9988580e-01],\n",
              "       [9.3235153e-01]], dtype=float32)"
            ]
          },
          "metadata": {
            "tags": []
          },
          "execution_count": 61
        }
      ]
    },
    {
      "cell_type": "code",
      "metadata": {
        "colab": {
          "base_uri": "https://localhost:8080/"
        },
        "id": "z19NZxvB3jBm",
        "outputId": "d502abe1-5004-48e1-b30f-6abca3a55359"
      },
      "source": [
        "# Convert model 3 pred probs to labels\n",
        "model_3_preds = tf.squeeze(tf.round(model_3_pred_probs))\n",
        "model_3_preds[:10]"
      ],
      "execution_count": 62,
      "outputs": [
        {
          "output_type": "execute_result",
          "data": {
            "text/plain": [
              "<tf.Tensor: shape=(10,), dtype=float32, numpy=array([0., 1., 1., 0., 0., 1., 1., 1., 1., 1.], dtype=float32)>"
            ]
          },
          "metadata": {
            "tags": []
          },
          "execution_count": 62
        }
      ]
    },
    {
      "cell_type": "code",
      "metadata": {
        "id": "33yClyyt3vjR"
      },
      "source": [
        "# Calculate model 3 results\n",
        "model_3_results = calculate_results(y_true=val_labels,\n",
        "                                    y_pred=model_3_preds)"
      ],
      "execution_count": 63,
      "outputs": []
    },
    {
      "cell_type": "code",
      "metadata": {
        "colab": {
          "base_uri": "https://localhost:8080/"
        },
        "id": "0IDgQFIX3-1v",
        "outputId": "426f749b-ea37-4b76-a497-5b403513ea87"
      },
      "source": [
        "model_3_results"
      ],
      "execution_count": 64,
      "outputs": [
        {
          "output_type": "execute_result",
          "data": {
            "text/plain": [
              "{'accuracy': 77.82152230971128,\n",
              " 'f1': 0.7766208088282468,\n",
              " 'precison': 0.7791991586469295,\n",
              " 'recall': 0.7782152230971129}"
            ]
          },
          "metadata": {
            "tags": []
          },
          "execution_count": 64
        }
      ]
    },
    {
      "cell_type": "markdown",
      "metadata": {
        "id": "ljJ0C2VD4Uh_"
      },
      "source": [
        "### Model 4: Bidirectional RNN\n",
        "\n",
        "Normal RNN's go from left to right (just like you'd read an English sentences) however, a bidirectional RNN goes from right  to left as well as left to right"
      ]
    },
    {
      "cell_type": "code",
      "metadata": {
        "id": "BXb3QdTHeGLz"
      },
      "source": [
        "# Build a Bidirectional RNN in TensorFlow\n",
        "\n",
        "from tensorflow.keras import layers\n",
        "inputs = layers.Input(shape=(1,), dtype='string')\n",
        "x = text_vectorizer(inputs)\n",
        "x = embedding(x)\n",
        "# x = layers.Bidirectional(layers.LSTM(64, return_sequences=True))(x)\n",
        "# print(x.shape)\n",
        "x = layers.Bidirectional(layers.LSTM(64))(x)\n",
        "outputs = layers.Dense(1, activation='sigmoid')(x)\n",
        "model_4 = tf.keras.Model(inputs, outputs, name='model_4_bidirectional')\n"
      ],
      "execution_count": 65,
      "outputs": []
    },
    {
      "cell_type": "code",
      "metadata": {
        "colab": {
          "base_uri": "https://localhost:8080/"
        },
        "id": "vLnaK1oDiVS-",
        "outputId": "65780b2e-d9ab-4f0c-99ad-42a75a28a2c3"
      },
      "source": [
        "# Get a summary\n",
        "model_4.summary()"
      ],
      "execution_count": 66,
      "outputs": [
        {
          "output_type": "stream",
          "text": [
            "Model: \"model_4_bidirectional\"\n",
            "_________________________________________________________________\n",
            "Layer (type)                 Output Shape              Param #   \n",
            "=================================================================\n",
            "input_4 (InputLayer)         [(None, 1)]               0         \n",
            "_________________________________________________________________\n",
            "text_vectorization_1 (TextVe (None, 15)                0         \n",
            "_________________________________________________________________\n",
            "embedding (Embedding)        (None, 15, 128)           1280000   \n",
            "_________________________________________________________________\n",
            "bidirectional (Bidirectional (None, 128)               98816     \n",
            "_________________________________________________________________\n",
            "dense_3 (Dense)              (None, 1)                 129       \n",
            "=================================================================\n",
            "Total params: 1,378,945\n",
            "Trainable params: 1,378,945\n",
            "Non-trainable params: 0\n",
            "_________________________________________________________________\n"
          ],
          "name": "stdout"
        }
      ]
    },
    {
      "cell_type": "code",
      "metadata": {
        "id": "cfz7N1V9idYY"
      },
      "source": [
        "# Compile model\n",
        "model_4.compile(loss='binary_crossentropy',\n",
        "                optimizer=tf.keras.optimizers.Adam(),\n",
        "                metrics=['accuracy'])"
      ],
      "execution_count": 67,
      "outputs": []
    },
    {
      "cell_type": "code",
      "metadata": {
        "colab": {
          "base_uri": "https://localhost:8080/"
        },
        "id": "ipyvVTO6jf63",
        "outputId": "9da86515-0af2-4d4a-f0b0-fd8faa55334c"
      },
      "source": [
        "# Fit the model\n",
        "model_4_history = model_4.fit(train_sentences,\n",
        "                              train_labels,\n",
        "                              epochs=5,\n",
        "                              validation_data=(val_sentences,val_labels),\n",
        "                              callbacks = [create_tensorboard_callback(SAVE_DIR,\n",
        "                                                                       'model_4_bidirectional')])"
      ],
      "execution_count": 68,
      "outputs": [
        {
          "output_type": "stream",
          "text": [
            "Saving TensorBoard log files to: model_logs/model_4_bidirectional/20210814-021015\n",
            "Epoch 1/5\n",
            "215/215 [==============================] - 7s 23ms/step - loss: 0.1076 - accuracy: 0.9635 - val_loss: 1.0256 - val_accuracy: 0.7717\n",
            "Epoch 2/5\n",
            "215/215 [==============================] - 4s 18ms/step - loss: 0.0484 - accuracy: 0.9781 - val_loss: 1.2798 - val_accuracy: 0.7717\n",
            "Epoch 3/5\n",
            "215/215 [==============================] - 4s 18ms/step - loss: 0.0447 - accuracy: 0.9793 - val_loss: 1.1682 - val_accuracy: 0.7598\n",
            "Epoch 4/5\n",
            "215/215 [==============================] - 4s 18ms/step - loss: 0.0426 - accuracy: 0.9804 - val_loss: 1.3694 - val_accuracy: 0.7677\n",
            "Epoch 5/5\n",
            "215/215 [==============================] - 4s 18ms/step - loss: 0.0404 - accuracy: 0.9800 - val_loss: 1.5051 - val_accuracy: 0.7730\n"
          ],
          "name": "stdout"
        }
      ]
    },
    {
      "cell_type": "code",
      "metadata": {
        "colab": {
          "base_uri": "https://localhost:8080/"
        },
        "id": "Ii6ndT9Mj-gT",
        "outputId": "592b6bdd-a6a5-4fc1-e71e-98151f3b2ede"
      },
      "source": [
        "# Make predictions with our bidirectional model\n",
        "model_4_pred_probs = model_4.predict(val_sentences)\n",
        "model_4_pred_probs"
      ],
      "execution_count": 69,
      "outputs": [
        {
          "output_type": "execute_result",
          "data": {
            "text/plain": [
              "array([[6.83552772e-03],\n",
              "       [9.95123208e-01],\n",
              "       [9.99992847e-01],\n",
              "       [2.38144949e-01],\n",
              "       [4.52910608e-05],\n",
              "       [9.99907851e-01],\n",
              "       [8.83969009e-01],\n",
              "       [9.99995589e-01],\n",
              "       [9.99991894e-01],\n",
              "       [9.97706890e-01],\n",
              "       [7.63719800e-05],\n",
              "       [9.97041762e-01],\n",
              "       [8.86664202e-05],\n",
              "       [3.60150069e-01],\n",
              "       [4.94557935e-05],\n",
              "       [4.51501692e-04],\n",
              "       [2.89184856e-04],\n",
              "       [4.51039123e-05],\n",
              "       [1.19548873e-03],\n",
              "       [9.99827385e-01],\n",
              "       [9.96174574e-01],\n",
              "       [8.58646235e-05],\n",
              "       [9.99984384e-01],\n",
              "       [4.01693891e-04],\n",
              "       [9.99989033e-01],\n",
              "       [9.99992847e-01],\n",
              "       [3.22178996e-04],\n",
              "       [9.01184452e-04],\n",
              "       [1.20184377e-04],\n",
              "       [2.90995799e-02],\n",
              "       [9.95961130e-01],\n",
              "       [7.24542886e-04],\n",
              "       [1.62452012e-01],\n",
              "       [2.69911892e-04],\n",
              "       [8.85732412e-01],\n",
              "       [1.75556093e-01],\n",
              "       [9.99987602e-01],\n",
              "       [1.48357868e-01],\n",
              "       [2.49559642e-03],\n",
              "       [9.99988317e-01],\n",
              "       [9.91439700e-01],\n",
              "       [3.78096993e-05],\n",
              "       [9.68685567e-01],\n",
              "       [6.29199712e-05],\n",
              "       [9.81764019e-01],\n",
              "       [9.99973774e-01],\n",
              "       [9.99890685e-01],\n",
              "       [9.99609053e-01],\n",
              "       [1.36043620e-03],\n",
              "       [7.90407598e-01],\n",
              "       [2.35847809e-04],\n",
              "       [4.65316623e-01],\n",
              "       [1.22696033e-03],\n",
              "       [9.06210742e-04],\n",
              "       [9.92737949e-01],\n",
              "       [4.49285889e-03],\n",
              "       [4.22833429e-04],\n",
              "       [9.99982238e-01],\n",
              "       [1.30089364e-04],\n",
              "       [8.99455190e-05],\n",
              "       [2.75628641e-03],\n",
              "       [9.99981880e-01],\n",
              "       [9.98590887e-01],\n",
              "       [9.38233163e-04],\n",
              "       [9.99990702e-01],\n",
              "       [9.99993682e-01],\n",
              "       [9.99833226e-01],\n",
              "       [2.17962191e-01],\n",
              "       [9.99633551e-01],\n",
              "       [7.50044733e-03],\n",
              "       [7.51907646e-04],\n",
              "       [1.94096211e-02],\n",
              "       [9.99988794e-01],\n",
              "       [1.63199252e-03],\n",
              "       [9.99626398e-01],\n",
              "       [9.97160077e-01],\n",
              "       [8.27073643e-04],\n",
              "       [9.99987364e-01],\n",
              "       [5.66736003e-03],\n",
              "       [9.86714847e-03],\n",
              "       [3.01286869e-04],\n",
              "       [5.79673469e-01],\n",
              "       [9.99993920e-01],\n",
              "       [1.46807084e-04],\n",
              "       [1.62576820e-04],\n",
              "       [2.14653875e-04],\n",
              "       [8.29071723e-05],\n",
              "       [1.06271174e-04],\n",
              "       [8.01543822e-04],\n",
              "       [9.99986649e-01],\n",
              "       [9.99991417e-01],\n",
              "       [8.80341249e-05],\n",
              "       [9.99545634e-01],\n",
              "       [2.11935054e-04],\n",
              "       [9.99991894e-01],\n",
              "       [9.25269186e-01],\n",
              "       [9.98762250e-01],\n",
              "       [9.99990821e-01],\n",
              "       [9.99860406e-01],\n",
              "       [9.97224569e-01],\n",
              "       [9.99993801e-01],\n",
              "       [9.60596313e-04],\n",
              "       [2.78765838e-05],\n",
              "       [9.99094725e-01],\n",
              "       [9.99761522e-01],\n",
              "       [6.78250217e-04],\n",
              "       [9.99952078e-01],\n",
              "       [9.99984741e-01],\n",
              "       [4.88561564e-05],\n",
              "       [9.99650240e-01],\n",
              "       [9.98720706e-01],\n",
              "       [1.70404994e-04],\n",
              "       [1.15921600e-02],\n",
              "       [5.30825171e-04],\n",
              "       [1.19210407e-03],\n",
              "       [2.38174433e-03],\n",
              "       [4.42591012e-01],\n",
              "       [9.99923944e-01],\n",
              "       [5.27855358e-04],\n",
              "       [1.16441814e-04],\n",
              "       [9.99994755e-01],\n",
              "       [5.31963378e-05],\n",
              "       [4.88452533e-05],\n",
              "       [9.97925401e-01],\n",
              "       [2.87729930e-02],\n",
              "       [4.02246835e-04],\n",
              "       [9.99986172e-01],\n",
              "       [3.95583811e-05],\n",
              "       [1.56480659e-04],\n",
              "       [9.99693036e-01],\n",
              "       [2.27554614e-04],\n",
              "       [9.99994755e-01],\n",
              "       [9.99994397e-01],\n",
              "       [9.99992847e-01],\n",
              "       [9.99988079e-01],\n",
              "       [6.80221303e-04],\n",
              "       [9.99989510e-01],\n",
              "       [1.33206593e-02],\n",
              "       [4.01800452e-03],\n",
              "       [6.92534726e-04],\n",
              "       [9.99995470e-01],\n",
              "       [9.79695916e-01],\n",
              "       [3.60150069e-01],\n",
              "       [9.99973774e-01],\n",
              "       [9.78128761e-02],\n",
              "       [5.47347299e-04],\n",
              "       [1.90613864e-04],\n",
              "       [2.45470619e-05],\n",
              "       [2.70469417e-03],\n",
              "       [9.99984026e-01],\n",
              "       [3.09835013e-04],\n",
              "       [1.49235257e-03],\n",
              "       [6.88441389e-04],\n",
              "       [1.62584867e-04],\n",
              "       [2.50529294e-04],\n",
              "       [9.99985337e-01],\n",
              "       [9.99921322e-01],\n",
              "       [6.60981808e-04],\n",
              "       [9.99984384e-01],\n",
              "       [6.62471284e-05],\n",
              "       [9.99910474e-01],\n",
              "       [3.01602733e-04],\n",
              "       [4.57737222e-02],\n",
              "       [9.99986768e-01],\n",
              "       [2.71867798e-03],\n",
              "       [5.60210901e-05],\n",
              "       [9.99992847e-01],\n",
              "       [8.79353494e-04],\n",
              "       [9.99989629e-01],\n",
              "       [9.75852668e-01],\n",
              "       [9.99988794e-01],\n",
              "       [9.99974608e-01],\n",
              "       [9.99908566e-01],\n",
              "       [8.37042753e-05],\n",
              "       [9.99991536e-01],\n",
              "       [2.16450120e-04],\n",
              "       [1.61727192e-03],\n",
              "       [8.05911259e-04],\n",
              "       [1.64371267e-01],\n",
              "       [9.99989867e-01],\n",
              "       [1.42817700e-03],\n",
              "       [7.69226193e-01],\n",
              "       [9.99972939e-01],\n",
              "       [9.99992490e-01],\n",
              "       [9.99989748e-01],\n",
              "       [9.82701749e-05],\n",
              "       [1.72294676e-04],\n",
              "       [9.99995112e-01],\n",
              "       [4.45615879e-05],\n",
              "       [4.86269491e-05],\n",
              "       [1.06678531e-03],\n",
              "       [9.99498725e-01],\n",
              "       [8.71656302e-05],\n",
              "       [1.44210906e-04],\n",
              "       [5.47527707e-05],\n",
              "       [1.92418578e-04],\n",
              "       [9.58939781e-05],\n",
              "       [6.60350255e-04],\n",
              "       [9.99942660e-01],\n",
              "       [3.34459619e-04],\n",
              "       [2.06691143e-03],\n",
              "       [9.99991059e-01],\n",
              "       [9.99986887e-01],\n",
              "       [2.76867766e-03],\n",
              "       [1.04387771e-04],\n",
              "       [9.99993205e-01],\n",
              "       [9.99987364e-01],\n",
              "       [9.99758184e-01],\n",
              "       [9.71624076e-01],\n",
              "       [9.99945402e-01],\n",
              "       [5.44905663e-02],\n",
              "       [9.99979854e-01],\n",
              "       [1.15439281e-04],\n",
              "       [8.84200097e-04],\n",
              "       [3.65926462e-05],\n",
              "       [3.10518917e-05],\n",
              "       [9.99975920e-01],\n",
              "       [9.81087029e-01],\n",
              "       [9.99270856e-01],\n",
              "       [4.26190883e-01],\n",
              "       [7.86943436e-02],\n",
              "       [5.58157975e-04],\n",
              "       [1.25595508e-03],\n",
              "       [5.25396259e-04],\n",
              "       [9.99991298e-01],\n",
              "       [2.19575047e-01],\n",
              "       [2.13115592e-03],\n",
              "       [9.99993563e-01],\n",
              "       [9.99487042e-01],\n",
              "       [7.56239593e-01],\n",
              "       [5.58793217e-05],\n",
              "       [6.89351000e-04],\n",
              "       [9.99723375e-01],\n",
              "       [1.52365966e-02],\n",
              "       [1.96288079e-02],\n",
              "       [7.51117710e-04],\n",
              "       [2.44857930e-02],\n",
              "       [6.06720150e-03],\n",
              "       [3.63353553e-04],\n",
              "       [3.16162506e-04],\n",
              "       [9.99967456e-01],\n",
              "       [1.33770367e-03],\n",
              "       [9.99994040e-01],\n",
              "       [9.99976754e-01],\n",
              "       [1.62725395e-04],\n",
              "       [5.24444586e-05],\n",
              "       [9.99967933e-01],\n",
              "       [1.22328114e-04],\n",
              "       [5.28396282e-04],\n",
              "       [5.46954153e-03],\n",
              "       [1.06952910e-04],\n",
              "       [9.99978781e-01],\n",
              "       [2.69462653e-05],\n",
              "       [5.00937866e-04],\n",
              "       [9.99988079e-01],\n",
              "       [1.87468517e-03],\n",
              "       [9.99991179e-01],\n",
              "       [9.99995589e-01],\n",
              "       [1.85256779e-01],\n",
              "       [7.96943568e-05],\n",
              "       [2.08319223e-04],\n",
              "       [8.36741820e-05],\n",
              "       [2.26031607e-05],\n",
              "       [9.99988794e-01],\n",
              "       [9.99991298e-01],\n",
              "       [5.50665660e-03],\n",
              "       [9.99979734e-01],\n",
              "       [2.00248949e-04],\n",
              "       [5.33678336e-04],\n",
              "       [9.84078288e-05],\n",
              "       [3.10306816e-04],\n",
              "       [2.02515468e-04],\n",
              "       [9.99984860e-01],\n",
              "       [3.34407989e-04],\n",
              "       [3.04323530e-05],\n",
              "       [9.99987245e-01],\n",
              "       [9.72863272e-05],\n",
              "       [8.24836548e-04],\n",
              "       [9.99873281e-01],\n",
              "       [6.62883322e-05],\n",
              "       [1.01363088e-03],\n",
              "       [4.59430157e-05],\n",
              "       [9.99990463e-01],\n",
              "       [9.99522924e-01],\n",
              "       [5.77209532e-01],\n",
              "       [6.79199457e-01],\n",
              "       [9.99985456e-01],\n",
              "       [1.82227883e-02],\n",
              "       [9.73609090e-01],\n",
              "       [1.98775873e-01],\n",
              "       [9.99805033e-01],\n",
              "       [9.99040663e-01],\n",
              "       [9.98740494e-01],\n",
              "       [7.72187039e-02],\n",
              "       [1.00723165e-03],\n",
              "       [4.93060984e-02],\n",
              "       [1.64570252e-03],\n",
              "       [2.03782669e-03],\n",
              "       [1.58274197e-04],\n",
              "       [1.83894194e-03],\n",
              "       [2.94295132e-05],\n",
              "       [1.40273449e-04],\n",
              "       [7.37700099e-03],\n",
              "       [9.99990940e-01],\n",
              "       [1.90361214e-04],\n",
              "       [3.42826024e-02],\n",
              "       [9.88205196e-04],\n",
              "       [6.66672643e-03],\n",
              "       [9.54903197e-04],\n",
              "       [1.15832161e-04],\n",
              "       [8.77213097e-05],\n",
              "       [9.99983549e-01],\n",
              "       [2.27103056e-03],\n",
              "       [3.96249264e-01],\n",
              "       [9.99994278e-01],\n",
              "       [7.25283317e-05],\n",
              "       [9.98862505e-01],\n",
              "       [4.18969337e-03],\n",
              "       [5.86153101e-03],\n",
              "       [1.23228086e-02],\n",
              "       [7.64134311e-05],\n",
              "       [6.11895521e-04],\n",
              "       [9.99275267e-01],\n",
              "       [3.73394403e-04],\n",
              "       [9.99990821e-01],\n",
              "       [3.28736991e-01],\n",
              "       [5.18483757e-05],\n",
              "       [9.99992609e-01],\n",
              "       [1.16228708e-04],\n",
              "       [9.99991655e-01],\n",
              "       [4.74713073e-04],\n",
              "       [3.54233838e-04],\n",
              "       [9.99990106e-01],\n",
              "       [9.81330013e-05],\n",
              "       [7.83987780e-05],\n",
              "       [9.99949813e-01],\n",
              "       [4.37604904e-05],\n",
              "       [2.44248862e-04],\n",
              "       [8.59428465e-01],\n",
              "       [9.99950528e-01],\n",
              "       [6.70674854e-05],\n",
              "       [1.07572053e-03],\n",
              "       [9.99991894e-01],\n",
              "       [9.99931455e-01],\n",
              "       [9.99905825e-01],\n",
              "       [1.56312156e-02],\n",
              "       [9.97971237e-01],\n",
              "       [9.99784768e-01],\n",
              "       [5.48495445e-04],\n",
              "       [1.77725975e-04],\n",
              "       [7.62921758e-04],\n",
              "       [3.89753375e-03],\n",
              "       [5.72309655e-05],\n",
              "       [2.40233719e-01],\n",
              "       [2.22421288e-02],\n",
              "       [4.99694906e-05],\n",
              "       [9.99982595e-01],\n",
              "       [9.99992847e-01],\n",
              "       [9.99992132e-01],\n",
              "       [2.98008468e-04],\n",
              "       [3.27940762e-01],\n",
              "       [1.86985987e-03],\n",
              "       [5.45944506e-03],\n",
              "       [9.99675393e-01],\n",
              "       [3.84097815e-01],\n",
              "       [7.85482189e-05],\n",
              "       [2.03140880e-04],\n",
              "       [1.49611413e-04],\n",
              "       [9.99941707e-01],\n",
              "       [1.13485265e-04],\n",
              "       [5.58445347e-04],\n",
              "       [6.63711908e-05],\n",
              "       [2.34847685e-04],\n",
              "       [8.48535970e-02],\n",
              "       [9.97343004e-01],\n",
              "       [4.77598561e-03],\n",
              "       [7.03291371e-05],\n",
              "       [1.44737144e-03],\n",
              "       [1.80038638e-04],\n",
              "       [9.99994040e-01],\n",
              "       [9.99944091e-01],\n",
              "       [9.93759394e-01],\n",
              "       [9.96691823e-01],\n",
              "       [3.14950048e-05],\n",
              "       [9.98756886e-01],\n",
              "       [9.99992728e-01],\n",
              "       [9.96517420e-01],\n",
              "       [8.18220973e-02],\n",
              "       [9.99909878e-01],\n",
              "       [2.13102810e-03],\n",
              "       [9.99988317e-01],\n",
              "       [8.89613642e-04],\n",
              "       [8.28506541e-04],\n",
              "       [1.25865666e-02],\n",
              "       [3.12581589e-03],\n",
              "       [9.99990582e-01],\n",
              "       [4.08564880e-02],\n",
              "       [3.83902589e-05],\n",
              "       [1.28763539e-04],\n",
              "       [3.84097815e-01],\n",
              "       [9.99993205e-01],\n",
              "       [3.00955489e-05],\n",
              "       [4.43515703e-02],\n",
              "       [9.99991655e-01],\n",
              "       [4.86262106e-05],\n",
              "       [9.99994755e-01],\n",
              "       [1.67215141e-04],\n",
              "       [2.72986188e-04],\n",
              "       [1.42453588e-04],\n",
              "       [9.99875426e-01],\n",
              "       [9.99981523e-01],\n",
              "       [5.08032041e-04],\n",
              "       [1.07622407e-04],\n",
              "       [9.99978065e-01],\n",
              "       [9.99990940e-01],\n",
              "       [5.83569765e-01],\n",
              "       [1.63187797e-04],\n",
              "       [1.12858089e-03],\n",
              "       [5.00676632e-01],\n",
              "       [1.42074845e-04],\n",
              "       [9.99994516e-01],\n",
              "       [4.16950762e-01],\n",
              "       [9.99993086e-01],\n",
              "       [9.99987125e-01],\n",
              "       [9.83412843e-04],\n",
              "       [8.66322696e-01],\n",
              "       [2.06776458e-04],\n",
              "       [9.99981403e-01],\n",
              "       [9.16375816e-01],\n",
              "       [3.63438278e-02],\n",
              "       [5.71116165e-04],\n",
              "       [1.27308152e-03],\n",
              "       [2.11713705e-04],\n",
              "       [4.90670136e-05],\n",
              "       [1.20113768e-01],\n",
              "       [6.65896165e-04],\n",
              "       [9.99248087e-01],\n",
              "       [2.76865758e-04],\n",
              "       [9.99994040e-01],\n",
              "       [9.99991894e-01],\n",
              "       [2.91239528e-04],\n",
              "       [9.95123208e-01],\n",
              "       [6.09040202e-04],\n",
              "       [1.17387310e-04],\n",
              "       [2.68589914e-01],\n",
              "       [9.99974132e-01],\n",
              "       [6.00492721e-03],\n",
              "       [2.34459969e-03],\n",
              "       [2.98204850e-05],\n",
              "       [8.38861044e-04],\n",
              "       [5.06174874e-05],\n",
              "       [9.99982715e-01],\n",
              "       [9.99991179e-01],\n",
              "       [9.99992609e-01],\n",
              "       [9.99815166e-01],\n",
              "       [9.93814588e-01],\n",
              "       [2.28905119e-03],\n",
              "       [4.18714299e-05],\n",
              "       [9.99826849e-01],\n",
              "       [9.99845147e-01],\n",
              "       [9.99992728e-01],\n",
              "       [1.58452531e-04],\n",
              "       [8.82121362e-03],\n",
              "       [9.77942618e-05],\n",
              "       [9.99993920e-01],\n",
              "       [9.99992490e-01],\n",
              "       [1.53332963e-04],\n",
              "       [3.30524868e-03],\n",
              "       [9.99990344e-01],\n",
              "       [3.07022448e-04],\n",
              "       [1.63692166e-03],\n",
              "       [9.99987125e-01],\n",
              "       [2.08957179e-04],\n",
              "       [1.54782407e-04],\n",
              "       [9.99916553e-01],\n",
              "       [3.15613121e-01],\n",
              "       [9.80911136e-01],\n",
              "       [9.99991655e-01],\n",
              "       [1.14627663e-04],\n",
              "       [1.69414299e-04],\n",
              "       [5.80247215e-05],\n",
              "       [5.96277860e-05],\n",
              "       [1.75993599e-04],\n",
              "       [9.99991655e-01],\n",
              "       [9.79370598e-05],\n",
              "       [9.95278001e-01],\n",
              "       [9.92449403e-01],\n",
              "       [4.04345952e-02],\n",
              "       [6.75730333e-02],\n",
              "       [4.51719679e-05],\n",
              "       [3.19674698e-04],\n",
              "       [9.99994278e-01],\n",
              "       [9.99990106e-01],\n",
              "       [9.19270678e-04],\n",
              "       [2.14509026e-04],\n",
              "       [2.16571512e-04],\n",
              "       [2.17280322e-04],\n",
              "       [9.99852419e-01],\n",
              "       [1.12047615e-04],\n",
              "       [9.99734223e-01],\n",
              "       [9.99617219e-01],\n",
              "       [9.99737918e-01],\n",
              "       [9.96533036e-01],\n",
              "       [6.59643039e-02],\n",
              "       [5.90555429e-01],\n",
              "       [3.66993947e-04],\n",
              "       [9.08756614e-01],\n",
              "       [7.47528255e-01],\n",
              "       [4.03129697e-01],\n",
              "       [2.69739446e-03],\n",
              "       [6.08443515e-04],\n",
              "       [5.65594419e-05],\n",
              "       [2.78096704e-04],\n",
              "       [2.73734182e-02],\n",
              "       [5.44488803e-03],\n",
              "       [1.41036555e-01],\n",
              "       [9.99992728e-01],\n",
              "       [9.99967694e-01],\n",
              "       [9.25269186e-01],\n",
              "       [9.99849200e-01],\n",
              "       [1.16539339e-03],\n",
              "       [2.42294496e-04],\n",
              "       [9.99952555e-01],\n",
              "       [1.33171817e-03],\n",
              "       [1.93443964e-04],\n",
              "       [3.63254637e-01],\n",
              "       [9.99742568e-01],\n",
              "       [2.64890023e-05],\n",
              "       [9.99418378e-01],\n",
              "       [9.95892882e-01],\n",
              "       [9.99951959e-01],\n",
              "       [9.99970198e-01],\n",
              "       [3.44117521e-04],\n",
              "       [1.48015074e-03],\n",
              "       [9.98368442e-01],\n",
              "       [5.88259572e-05],\n",
              "       [1.19877676e-03],\n",
              "       [9.68169868e-01],\n",
              "       [9.99808967e-01],\n",
              "       [9.93850350e-01],\n",
              "       [1.63483564e-04],\n",
              "       [3.26362642e-04],\n",
              "       [9.98595178e-01],\n",
              "       [2.83690431e-04],\n",
              "       [3.60642822e-04],\n",
              "       [2.10525046e-04],\n",
              "       [4.17742223e-01],\n",
              "       [9.99994636e-01],\n",
              "       [9.99964714e-01],\n",
              "       [8.76909879e-04],\n",
              "       [9.99991655e-01],\n",
              "       [9.99992967e-01],\n",
              "       [5.03595147e-05],\n",
              "       [9.99991179e-01],\n",
              "       [4.23232513e-03],\n",
              "       [9.99522328e-01],\n",
              "       [2.41208007e-03],\n",
              "       [3.53712298e-04],\n",
              "       [2.14070344e-04],\n",
              "       [9.47197768e-05],\n",
              "       [8.54124548e-04],\n",
              "       [2.91231467e-04],\n",
              "       [5.07083952e-01],\n",
              "       [2.50402256e-04],\n",
              "       [9.99992371e-01],\n",
              "       [2.77809682e-04],\n",
              "       [9.99927402e-01],\n",
              "       [9.93705332e-01],\n",
              "       [8.30317615e-04],\n",
              "       [3.50607879e-04],\n",
              "       [9.99995112e-01],\n",
              "       [2.94428377e-04],\n",
              "       [9.99988437e-01],\n",
              "       [3.80942523e-01],\n",
              "       [5.57125488e-04],\n",
              "       [2.05388423e-02],\n",
              "       [4.86367586e-04],\n",
              "       [1.49689137e-03],\n",
              "       [9.99992967e-01],\n",
              "       [3.26558002e-05],\n",
              "       [1.44302365e-04],\n",
              "       [1.53140491e-03],\n",
              "       [9.99993205e-01],\n",
              "       [3.27187032e-03],\n",
              "       [2.22859584e-04],\n",
              "       [9.99975204e-01],\n",
              "       [8.81279411e-05],\n",
              "       [2.22713439e-04],\n",
              "       [2.68998876e-04],\n",
              "       [1.95098063e-03],\n",
              "       [3.25226458e-04],\n",
              "       [4.58177865e-01],\n",
              "       [6.33703545e-03],\n",
              "       [2.73292861e-03],\n",
              "       [1.71220003e-04],\n",
              "       [5.79859968e-03],\n",
              "       [4.27157684e-05],\n",
              "       [9.99937296e-01],\n",
              "       [9.99955177e-01],\n",
              "       [1.29872840e-03],\n",
              "       [4.54479850e-05],\n",
              "       [4.37731273e-04],\n",
              "       [9.99990940e-01],\n",
              "       [9.95174825e-01],\n",
              "       [9.99983668e-01],\n",
              "       [2.32623832e-04],\n",
              "       [9.99850512e-01],\n",
              "       [2.79243657e-04],\n",
              "       [9.98880684e-01],\n",
              "       [9.98311281e-01],\n",
              "       [5.14131279e-05],\n",
              "       [9.99991775e-01],\n",
              "       [5.83374931e-04],\n",
              "       [9.99909520e-01],\n",
              "       [9.99994397e-01],\n",
              "       [1.33082375e-03],\n",
              "       [1.35643088e-04],\n",
              "       [9.47416663e-01],\n",
              "       [6.14500386e-05],\n",
              "       [8.78462866e-02],\n",
              "       [9.99993205e-01],\n",
              "       [4.03634191e-01],\n",
              "       [9.99932289e-01],\n",
              "       [3.35635729e-02],\n",
              "       [9.99989271e-01],\n",
              "       [9.96123016e-01],\n",
              "       [3.17659392e-03],\n",
              "       [5.23016242e-05],\n",
              "       [9.99863505e-01],\n",
              "       [1.00292222e-04],\n",
              "       [2.79170126e-01],\n",
              "       [9.99990463e-01],\n",
              "       [9.99671102e-01],\n",
              "       [9.99994040e-01],\n",
              "       [9.99909163e-01],\n",
              "       [4.12326157e-01],\n",
              "       [9.99869108e-01],\n",
              "       [7.69828839e-05],\n",
              "       [9.82401788e-01],\n",
              "       [9.99312758e-01],\n",
              "       [9.99933481e-01],\n",
              "       [1.44377525e-04],\n",
              "       [9.99456704e-01],\n",
              "       [9.99960780e-01],\n",
              "       [9.39404941e-04],\n",
              "       [1.40337751e-03],\n",
              "       [2.69739446e-03],\n",
              "       [6.86236483e-04],\n",
              "       [9.97687459e-01],\n",
              "       [9.99562323e-01],\n",
              "       [9.99991059e-01],\n",
              "       [4.21085104e-04],\n",
              "       [4.23334350e-05],\n",
              "       [5.85404996e-05],\n",
              "       [8.33191648e-02],\n",
              "       [6.88228523e-04],\n",
              "       [9.10792053e-02],\n",
              "       [9.99633074e-01],\n",
              "       [4.74119079e-05],\n",
              "       [5.18288434e-01],\n",
              "       [6.87171356e-04],\n",
              "       [1.31717359e-03],\n",
              "       [9.99977589e-01],\n",
              "       [7.40818330e-04],\n",
              "       [9.98324692e-01],\n",
              "       [5.11581602e-04],\n",
              "       [2.43915547e-05],\n",
              "       [1.54508438e-04],\n",
              "       [9.99993920e-01],\n",
              "       [9.91697669e-01],\n",
              "       [4.99967027e-05],\n",
              "       [5.23219287e-01],\n",
              "       [2.12678313e-02],\n",
              "       [3.17608465e-05],\n",
              "       [9.99982119e-01],\n",
              "       [2.22135335e-04],\n",
              "       [9.94748652e-01],\n",
              "       [3.01448870e-02],\n",
              "       [7.98444453e-05],\n",
              "       [4.62759912e-01],\n",
              "       [2.35246141e-02],\n",
              "       [5.81934408e-04],\n",
              "       [9.99985576e-01],\n",
              "       [1.35596783e-03],\n",
              "       [1.97326322e-03],\n",
              "       [9.99983907e-01],\n",
              "       [4.92121577e-01],\n",
              "       [5.32387337e-03],\n",
              "       [2.64890023e-05],\n",
              "       [1.52397335e-01],\n",
              "       [2.60131598e-01],\n",
              "       [9.99994755e-01],\n",
              "       [2.34373333e-03],\n",
              "       [3.17193335e-03],\n",
              "       [9.99988675e-01],\n",
              "       [6.87366009e-01],\n",
              "       [9.99982715e-01],\n",
              "       [6.87366009e-01],\n",
              "       [9.99993086e-01],\n",
              "       [3.59336664e-05],\n",
              "       [6.76795782e-04],\n",
              "       [4.68697108e-05],\n",
              "       [9.99994993e-01],\n",
              "       [2.65699287e-04],\n",
              "       [3.67307017e-04],\n",
              "       [6.68223438e-05],\n",
              "       [3.42554093e-04],\n",
              "       [2.56532745e-04],\n",
              "       [1.06393658e-04],\n",
              "       [8.45025585e-04],\n",
              "       [1.56301423e-04],\n",
              "       [2.30885693e-04],\n",
              "       [9.99978542e-01],\n",
              "       [3.66598280e-04],\n",
              "       [5.83062589e-04],\n",
              "       [1.73115259e-04],\n",
              "       [2.94640267e-05],\n",
              "       [3.54593955e-02],\n",
              "       [9.99647021e-01],\n",
              "       [4.32761619e-04],\n",
              "       [1.42599389e-01],\n",
              "       [1.17981224e-03],\n",
              "       [9.99458253e-01],\n",
              "       [9.99987721e-01],\n",
              "       [6.22156876e-05],\n",
              "       [1.50329695e-04],\n",
              "       [1.19078184e-04],\n",
              "       [2.50720477e-05],\n",
              "       [9.99979377e-01],\n",
              "       [2.94640267e-05],\n",
              "       [8.99905921e-04],\n",
              "       [9.99980569e-01],\n",
              "       [9.99989510e-01],\n",
              "       [9.99992847e-01],\n",
              "       [9.99989867e-01],\n",
              "       [9.99990821e-01],\n",
              "       [1.03421851e-04],\n",
              "       [9.62447448e-05],\n",
              "       [9.35393199e-03],\n",
              "       [9.98948634e-01],\n",
              "       [9.99993324e-01],\n",
              "       [3.86689305e-01],\n",
              "       [9.46807268e-04],\n",
              "       [9.99726355e-01],\n",
              "       [6.99699998e-01],\n",
              "       [3.21107764e-05],\n",
              "       [3.75615418e-05],\n",
              "       [3.03977402e-03],\n",
              "       [1.25572365e-03],\n",
              "       [4.78827787e-05],\n",
              "       [4.49097453e-04],\n",
              "       [8.06158960e-01],\n",
              "       [9.99992967e-01],\n",
              "       [1.48631138e-04],\n",
              "       [9.99994755e-01],\n",
              "       [9.95712399e-01],\n",
              "       [1.11131623e-01],\n",
              "       [9.88717424e-04],\n",
              "       [1.63667146e-02],\n",
              "       [8.92258167e-01],\n",
              "       [7.26370234e-03],\n",
              "       [3.90711066e-05]], dtype=float32)"
            ]
          },
          "metadata": {
            "tags": []
          },
          "execution_count": 69
        }
      ]
    },
    {
      "cell_type": "code",
      "metadata": {
        "colab": {
          "base_uri": "https://localhost:8080/"
        },
        "id": "tD_gy0lskPVf",
        "outputId": "4b0f32a4-0983-4693-f070-1794569a5bfc"
      },
      "source": [
        "# Convert pred probs to pred lables\n",
        "model_4_preds = tf.squeeze(tf.round(model_4_pred_probs))\n",
        "model_4_preds[:10]"
      ],
      "execution_count": 70,
      "outputs": [
        {
          "output_type": "execute_result",
          "data": {
            "text/plain": [
              "<tf.Tensor: shape=(10,), dtype=float32, numpy=array([0., 1., 1., 0., 0., 1., 1., 1., 1., 1.], dtype=float32)>"
            ]
          },
          "metadata": {
            "tags": []
          },
          "execution_count": 70
        }
      ]
    },
    {
      "cell_type": "code",
      "metadata": {
        "id": "hKPI3wSqkZCc"
      },
      "source": [
        "# Calculate the results ofour bidirectional model\n",
        "model_4_results  = calculate_results(y_true=val_labels,\n",
        "                                     y_pred=model_4_preds)"
      ],
      "execution_count": 71,
      "outputs": []
    },
    {
      "cell_type": "code",
      "metadata": {
        "colab": {
          "base_uri": "https://localhost:8080/"
        },
        "id": "D5f3WP4EkmyI",
        "outputId": "2c280b9f-e3ab-4811-eb16-0a3012dfaa76"
      },
      "source": [
        "model_4_results"
      ],
      "execution_count": 72,
      "outputs": [
        {
          "output_type": "execute_result",
          "data": {
            "text/plain": [
              "{'accuracy': 77.29658792650919,\n",
              " 'f1': 0.7710949612836401,\n",
              " 'precison': 0.7742755789705,\n",
              " 'recall': 0.7729658792650919}"
            ]
          },
          "metadata": {
            "tags": []
          },
          "execution_count": 72
        }
      ]
    },
    {
      "cell_type": "markdown",
      "metadata": {
        "id": "xpVCJ3fskoeo"
      },
      "source": [
        "### Convolutional Neural Network 1D\n",
        "\n",
        "We've used CNN's for images but images are typically 2D (height x width).. however, our text data is 1D.\n",
        "\n",
        "Previously we've Conv2D for our image data but now we're going to use Con1D.\n",
        "\n",
        "The typical structure of  a Conv1D model for sequences (in our case, text):\n",
        "\n",
        "```\n",
        "Inputs(text) -> Tokenization - > Embedding -> Layer(s) (typically conv1D + pooling) -> Outputs( class probabilities)\n",
        "```"
      ]
    },
    {
      "cell_type": "markdown",
      "metadata": {
        "id": "D-VRowilnxjI"
      },
      "source": [
        "### Model 5: Conv1D"
      ]
    },
    {
      "cell_type": "code",
      "metadata": {
        "colab": {
          "base_uri": "https://localhost:8080/"
        },
        "id": "cuEi3M4_lRfI",
        "outputId": "15952ea2-51ba-4762-efe0-7ab479e807ef"
      },
      "source": [
        "# Test out our embedding layer, Conv1D layer and max pooling\n",
        "embedding_test = embedding(text_vectorizer(['this is a test sentence']))\n",
        "conv_1d = layers.Conv1D(filters=64,\n",
        "                        kernel_size=5,\n",
        "                        activation='relu',\n",
        "                        padding='valid')\n",
        "conv_1d_output = conv_1d(embedding_test) # pass test embedding through conv1d layer\n",
        "max_pool = layers.GlobalMaxPool1D()\n",
        "max_pool_output = max_pool(conv_1d_output) # equivalent to \"get the most importand feature\"\n",
        "\n",
        "embedding_test.shape, conv_1d_output.shape, max_pool_output.shape"
      ],
      "execution_count": 73,
      "outputs": [
        {
          "output_type": "execute_result",
          "data": {
            "text/plain": [
              "(TensorShape([1, 15, 128]), TensorShape([1, 11, 64]), TensorShape([1, 64]))"
            ]
          },
          "metadata": {
            "tags": []
          },
          "execution_count": 73
        }
      ]
    },
    {
      "cell_type": "code",
      "metadata": {
        "colab": {
          "base_uri": "https://localhost:8080/"
        },
        "id": "gNM8DL6vnn5t",
        "outputId": "8020d30f-20fc-4a21-8e66-bbfcb5619f77"
      },
      "source": [
        "embedding_test"
      ],
      "execution_count": 74,
      "outputs": [
        {
          "output_type": "execute_result",
          "data": {
            "text/plain": [
              "<tf.Tensor: shape=(1, 15, 128), dtype=float32, numpy=\n",
              "array([[[-0.03293345, -0.09483284, -0.07162626, ...,  0.0335042 ,\n",
              "          0.08426885, -0.01270636],\n",
              "        [-0.01397536, -0.0133738 ,  0.00022219, ...,  0.01684317,\n",
              "          0.03299491,  0.04701665],\n",
              "        [-0.06684846, -0.0340456 , -0.09511403, ..., -0.04312361,\n",
              "         -0.00301494,  0.03267962],\n",
              "        ...,\n",
              "        [ 0.01327355, -0.04860976, -0.01950936, ...,  0.00539449,\n",
              "          0.01508729,  0.0314534 ],\n",
              "        [ 0.01327355, -0.04860976, -0.01950936, ...,  0.00539449,\n",
              "          0.01508729,  0.0314534 ],\n",
              "        [ 0.01327355, -0.04860976, -0.01950936, ...,  0.00539449,\n",
              "          0.01508729,  0.0314534 ]]], dtype=float32)>"
            ]
          },
          "metadata": {
            "tags": []
          },
          "execution_count": 74
        }
      ]
    },
    {
      "cell_type": "code",
      "metadata": {
        "colab": {
          "base_uri": "https://localhost:8080/"
        },
        "id": "YQ0fLqH4tyjn",
        "outputId": "61131055-95e4-4cbc-c95a-967f151480c5"
      },
      "source": [
        "conv_1d_output"
      ],
      "execution_count": 75,
      "outputs": [
        {
          "output_type": "execute_result",
          "data": {
            "text/plain": [
              "<tf.Tensor: shape=(1, 11, 64), dtype=float32, numpy=\n",
              "array([[[0.06232678, 0.03391613, 0.        , 0.04408022, 0.0224288 ,\n",
              "         0.04873555, 0.        , 0.04262213, 0.        , 0.0163779 ,\n",
              "         0.05088923, 0.        , 0.        , 0.03806809, 0.01430319,\n",
              "         0.01484025, 0.02124374, 0.        , 0.05999806, 0.        ,\n",
              "         0.00801826, 0.        , 0.        , 0.        , 0.        ,\n",
              "         0.01373434, 0.02035277, 0.08209611, 0.        , 0.        ,\n",
              "         0.        , 0.        , 0.        , 0.03822722, 0.        ,\n",
              "         0.        , 0.03331044, 0.02700141, 0.03150186, 0.12632579,\n",
              "         0.02264651, 0.        , 0.04336007, 0.00705078, 0.        ,\n",
              "         0.02741063, 0.07188413, 0.        , 0.        , 0.        ,\n",
              "         0.        , 0.        , 0.        , 0.00223963, 0.        ,\n",
              "         0.        , 0.04580238, 0.        , 0.07090452, 0.00113162,\n",
              "         0.04523268, 0.        , 0.        , 0.02422788],\n",
              "        [0.        , 0.        , 0.        , 0.        , 0.        ,\n",
              "         0.        , 0.        , 0.        , 0.        , 0.        ,\n",
              "         0.        , 0.        , 0.        , 0.0477021 , 0.05745345,\n",
              "         0.0361892 , 0.02185235, 0.04912412, 0.0095473 , 0.        ,\n",
              "         0.        , 0.        , 0.03225662, 0.        , 0.        ,\n",
              "         0.04304933, 0.02191884, 0.07077898, 0.        , 0.04199681,\n",
              "         0.        , 0.        , 0.01790803, 0.        , 0.        ,\n",
              "         0.        , 0.02329524, 0.10977989, 0.        , 0.03558603,\n",
              "         0.02486999, 0.        , 0.01528766, 0.04275398, 0.        ,\n",
              "         0.01476002, 0.04107244, 0.        , 0.        , 0.00302175,\n",
              "         0.        , 0.        , 0.        , 0.01710168, 0.01019007,\n",
              "         0.        , 0.04172461, 0.01155313, 0.03385617, 0.        ,\n",
              "         0.02101002, 0.        , 0.00570939, 0.01616063],\n",
              "        [0.        , 0.0087598 , 0.00448849, 0.        , 0.        ,\n",
              "         0.        , 0.        , 0.        , 0.00681524, 0.        ,\n",
              "         0.01846389, 0.07436691, 0.00856651, 0.0125517 , 0.01384765,\n",
              "         0.05055408, 0.0140239 , 0.        , 0.        , 0.00903657,\n",
              "         0.        , 0.00052283, 0.03055131, 0.        , 0.        ,\n",
              "         0.04627338, 0.06354433, 0.02820903, 0.05869231, 0.01226216,\n",
              "         0.03651241, 0.        , 0.0189861 , 0.        , 0.        ,\n",
              "         0.        , 0.02611414, 0.        , 0.        , 0.04723704,\n",
              "         0.01713134, 0.        , 0.        , 0.0835389 , 0.02468647,\n",
              "         0.06871966, 0.04036821, 0.03319189, 0.        , 0.05477422,\n",
              "         0.        , 0.01088209, 0.        , 0.00410218, 0.        ,\n",
              "         0.        , 0.        , 0.01729442, 0.06147951, 0.        ,\n",
              "         0.04127111, 0.        , 0.        , 0.        ],\n",
              "        [0.00644994, 0.03525705, 0.01847698, 0.        , 0.        ,\n",
              "         0.00248637, 0.        , 0.01440093, 0.        , 0.04270532,\n",
              "         0.        , 0.04229488, 0.        , 0.00225445, 0.02896581,\n",
              "         0.02481521, 0.        , 0.02053862, 0.        , 0.        ,\n",
              "         0.        , 0.        , 0.06125479, 0.        , 0.        ,\n",
              "         0.02934307, 0.04548005, 0.0129728 , 0.00217065, 0.        ,\n",
              "         0.00762104, 0.        , 0.00909759, 0.02761079, 0.        ,\n",
              "         0.        , 0.03087207, 0.01834958, 0.00466395, 0.        ,\n",
              "         0.01833033, 0.04847942, 0.        , 0.03215142, 0.00075372,\n",
              "         0.01574137, 0.        , 0.0185074 , 0.        , 0.0321695 ,\n",
              "         0.        , 0.        , 0.        , 0.        , 0.02002876,\n",
              "         0.0350948 , 0.01591658, 0.        , 0.01060155, 0.0178255 ,\n",
              "         0.04718829, 0.03036987, 0.03381438, 0.        ],\n",
              "        [0.        , 0.        , 0.0476663 , 0.041937  , 0.        ,\n",
              "         0.        , 0.        , 0.        , 0.        , 0.        ,\n",
              "         0.        , 0.01429682, 0.        , 0.        , 0.02615467,\n",
              "         0.03583012, 0.00496323, 0.        , 0.        , 0.01878736,\n",
              "         0.        , 0.        , 0.        , 0.00427495, 0.        ,\n",
              "         0.00644929, 0.02652236, 0.        , 0.02339097, 0.        ,\n",
              "         0.02568715, 0.        , 0.00336723, 0.00980153, 0.        ,\n",
              "         0.        , 0.00254445, 0.02641951, 0.        , 0.02753171,\n",
              "         0.01401971, 0.        , 0.01411681, 0.03432125, 0.04112861,\n",
              "         0.        , 0.01628983, 0.00441562, 0.        , 0.00198417,\n",
              "         0.01716983, 0.01693088, 0.00948318, 0.00375707, 0.01573134,\n",
              "         0.03401119, 0.        , 0.        , 0.04363951, 0.02029171,\n",
              "         0.        , 0.        , 0.00884987, 0.        ],\n",
              "        [0.        , 0.        , 0.04389652, 0.01554587, 0.        ,\n",
              "         0.        , 0.        , 0.        , 0.        , 0.01888787,\n",
              "         0.        , 0.01518143, 0.        , 0.03149781, 0.00019249,\n",
              "         0.01099885, 0.02998128, 0.        , 0.        , 0.        ,\n",
              "         0.0125187 , 0.        , 0.        , 0.        , 0.        ,\n",
              "         0.00788134, 0.00356467, 0.        , 0.03885378, 0.        ,\n",
              "         0.01923163, 0.        , 0.00734451, 0.00163684, 0.        ,\n",
              "         0.00532723, 0.        , 0.01486934, 0.        , 0.03964736,\n",
              "         0.01246044, 0.        , 0.        , 0.01414677, 0.02814629,\n",
              "         0.        , 0.00264712, 0.01709728, 0.        , 0.01331813,\n",
              "         0.00036399, 0.00570582, 0.        , 0.        , 0.        ,\n",
              "         0.        , 0.0082795 , 0.00433135, 0.02850757, 0.        ,\n",
              "         0.04390715, 0.0117295 , 0.04926257, 0.00428739],\n",
              "        [0.        , 0.        , 0.04389653, 0.01554588, 0.        ,\n",
              "         0.        , 0.        , 0.        , 0.        , 0.01888787,\n",
              "         0.        , 0.01518143, 0.        , 0.03149781, 0.00019248,\n",
              "         0.01099885, 0.02998128, 0.        , 0.        , 0.        ,\n",
              "         0.0125187 , 0.        , 0.        , 0.        , 0.        ,\n",
              "         0.00788133, 0.00356467, 0.        , 0.03885378, 0.        ,\n",
              "         0.01923162, 0.        , 0.0073445 , 0.00163684, 0.        ,\n",
              "         0.00532723, 0.        , 0.01486933, 0.        , 0.03964736,\n",
              "         0.01246044, 0.        , 0.        , 0.01414677, 0.02814629,\n",
              "         0.        , 0.00264712, 0.01709728, 0.        , 0.01331812,\n",
              "         0.00036399, 0.00570582, 0.        , 0.        , 0.        ,\n",
              "         0.        , 0.0082795 , 0.00433136, 0.02850756, 0.        ,\n",
              "         0.04390715, 0.01172949, 0.04926258, 0.00428739],\n",
              "        [0.        , 0.        , 0.04389652, 0.01554587, 0.        ,\n",
              "         0.        , 0.        , 0.        , 0.        , 0.01888787,\n",
              "         0.        , 0.01518143, 0.        , 0.03149781, 0.00019249,\n",
              "         0.01099884, 0.02998128, 0.        , 0.        , 0.        ,\n",
              "         0.0125187 , 0.        , 0.        , 0.        , 0.        ,\n",
              "         0.00788133, 0.00356467, 0.        , 0.03885378, 0.        ,\n",
              "         0.01923162, 0.        , 0.0073445 , 0.00163685, 0.        ,\n",
              "         0.00532723, 0.        , 0.01486934, 0.        , 0.03964736,\n",
              "         0.01246044, 0.        , 0.        , 0.01414677, 0.02814628,\n",
              "         0.        , 0.00264712, 0.01709728, 0.        , 0.01331812,\n",
              "         0.000364  , 0.00570582, 0.        , 0.        , 0.        ,\n",
              "         0.        , 0.00827949, 0.00433136, 0.02850756, 0.        ,\n",
              "         0.04390715, 0.01172948, 0.04926257, 0.0042874 ],\n",
              "        [0.        , 0.        , 0.04389653, 0.01554588, 0.        ,\n",
              "         0.        , 0.        , 0.        , 0.        , 0.01888787,\n",
              "         0.        , 0.01518143, 0.        , 0.03149781, 0.00019249,\n",
              "         0.01099884, 0.02998128, 0.        , 0.        , 0.        ,\n",
              "         0.01251871, 0.        , 0.        , 0.        , 0.        ,\n",
              "         0.00788133, 0.00356467, 0.        , 0.03885379, 0.        ,\n",
              "         0.01923163, 0.        , 0.00734451, 0.00163684, 0.        ,\n",
              "         0.00532723, 0.        , 0.01486934, 0.        , 0.03964737,\n",
              "         0.01246044, 0.        , 0.        , 0.01414678, 0.02814628,\n",
              "         0.        , 0.00264713, 0.01709728, 0.        , 0.01331812,\n",
              "         0.000364  , 0.00570582, 0.        , 0.        , 0.        ,\n",
              "         0.        , 0.0082795 , 0.00433135, 0.02850757, 0.        ,\n",
              "         0.04390715, 0.0117295 , 0.04926257, 0.0042874 ],\n",
              "        [0.        , 0.        , 0.04389653, 0.01554588, 0.        ,\n",
              "         0.        , 0.        , 0.        , 0.        , 0.01888786,\n",
              "         0.        , 0.01518143, 0.        , 0.03149781, 0.00019249,\n",
              "         0.01099884, 0.02998127, 0.        , 0.        , 0.        ,\n",
              "         0.0125187 , 0.        , 0.        , 0.        , 0.        ,\n",
              "         0.00788133, 0.00356466, 0.        , 0.03885378, 0.        ,\n",
              "         0.01923163, 0.        , 0.0073445 , 0.00163684, 0.        ,\n",
              "         0.00532723, 0.        , 0.01486934, 0.        , 0.03964737,\n",
              "         0.01246044, 0.        , 0.        , 0.01414677, 0.02814629,\n",
              "         0.        , 0.00264712, 0.01709728, 0.        , 0.01331812,\n",
              "         0.000364  , 0.00570582, 0.        , 0.        , 0.        ,\n",
              "         0.        , 0.00827951, 0.00433135, 0.02850757, 0.        ,\n",
              "         0.04390715, 0.01172949, 0.04926257, 0.00428739],\n",
              "        [0.        , 0.        , 0.04389653, 0.01554588, 0.        ,\n",
              "         0.        , 0.        , 0.        , 0.        , 0.01888787,\n",
              "         0.        , 0.01518143, 0.        , 0.03149781, 0.00019249,\n",
              "         0.01099885, 0.02998127, 0.        , 0.        , 0.        ,\n",
              "         0.0125187 , 0.        , 0.        , 0.        , 0.        ,\n",
              "         0.00788133, 0.00356467, 0.        , 0.03885378, 0.        ,\n",
              "         0.01923163, 0.        , 0.00734451, 0.00163684, 0.        ,\n",
              "         0.00532722, 0.        , 0.01486933, 0.        , 0.03964736,\n",
              "         0.01246044, 0.        , 0.        , 0.01414678, 0.02814628,\n",
              "         0.        , 0.00264713, 0.01709729, 0.        , 0.01331812,\n",
              "         0.000364  , 0.00570582, 0.        , 0.        , 0.        ,\n",
              "         0.        , 0.0082795 , 0.00433136, 0.02850757, 0.        ,\n",
              "         0.04390716, 0.01172949, 0.04926257, 0.00428739]]], dtype=float32)>"
            ]
          },
          "metadata": {
            "tags": []
          },
          "execution_count": 75
        }
      ]
    },
    {
      "cell_type": "code",
      "metadata": {
        "colab": {
          "base_uri": "https://localhost:8080/"
        },
        "id": "V78PRhZ8t3mB",
        "outputId": "551be939-7c28-4eaa-ae9d-c392e7c21287"
      },
      "source": [
        "max_pool_output"
      ],
      "execution_count": 76,
      "outputs": [
        {
          "output_type": "execute_result",
          "data": {
            "text/plain": [
              "<tf.Tensor: shape=(1, 64), dtype=float32, numpy=\n",
              "array([[0.06232678, 0.03525705, 0.0476663 , 0.04408022, 0.0224288 ,\n",
              "        0.04873555, 0.        , 0.04262213, 0.00681524, 0.04270532,\n",
              "        0.05088923, 0.07436691, 0.00856651, 0.0477021 , 0.05745345,\n",
              "        0.05055408, 0.02998128, 0.04912412, 0.05999806, 0.01878736,\n",
              "        0.01251871, 0.00052283, 0.06125479, 0.00427495, 0.        ,\n",
              "        0.04627338, 0.06354433, 0.08209611, 0.05869231, 0.04199681,\n",
              "        0.03651241, 0.        , 0.0189861 , 0.03822722, 0.        ,\n",
              "        0.00532723, 0.03331044, 0.10977989, 0.03150186, 0.12632579,\n",
              "        0.02486999, 0.04847942, 0.04336007, 0.0835389 , 0.04112861,\n",
              "        0.06871966, 0.07188413, 0.03319189, 0.        , 0.05477422,\n",
              "        0.01716983, 0.01693088, 0.00948318, 0.01710168, 0.02002876,\n",
              "        0.0350948 , 0.04580238, 0.01729442, 0.07090452, 0.02029171,\n",
              "        0.04718829, 0.03036987, 0.04926258, 0.02422788]], dtype=float32)>"
            ]
          },
          "metadata": {
            "tags": []
          },
          "execution_count": 76
        }
      ]
    },
    {
      "cell_type": "code",
      "metadata": {
        "id": "Fq6xm391uPcZ",
        "colab": {
          "base_uri": "https://localhost:8080/"
        },
        "outputId": "33b0c9b2-2f9e-4e9b-badb-9a2fad553c8b"
      },
      "source": [
        "# Create 1-dimensional convolutional layer to model sequences\n",
        "from tensorflow.keras import layers\n",
        "inputs = layers.Input(shape=(1,), dtype='string')\n",
        "x = text_vectorizer(inputs)\n",
        "x = embedding(x)\n",
        "x = layers.Conv1D(filters=64, kernel_size=5, strides=1, activation='relu', padding='valid')(x)\n",
        "x = layers.GlobalMaxPool1D()(x)\n",
        "# x = layers.Dense(64, activation='relu')(x)\n",
        "outputs=layers.Dense(1, activation='sigmoid')(x)\n",
        "model_5 = tf.keras.Model(inputs, outputs, name='model_5_conv1D')\n",
        "\n",
        "# compile Conv1D\n",
        "model_5.compile(loss='binary_crossentropy',\n",
        "                optimizer=tf.keras.optimizers.Adam(),\n",
        "                metrics=['accuracy'])\n",
        "\n",
        "#Get a summary of our Conv1D model\n",
        "model_5.summary()"
      ],
      "execution_count": 77,
      "outputs": [
        {
          "output_type": "stream",
          "text": [
            "Model: \"model_5_conv1D\"\n",
            "_________________________________________________________________\n",
            "Layer (type)                 Output Shape              Param #   \n",
            "=================================================================\n",
            "input_5 (InputLayer)         [(None, 1)]               0         \n",
            "_________________________________________________________________\n",
            "text_vectorization_1 (TextVe (None, 15)                0         \n",
            "_________________________________________________________________\n",
            "embedding (Embedding)        (None, 15, 128)           1280000   \n",
            "_________________________________________________________________\n",
            "conv1d_1 (Conv1D)            (None, 11, 64)            41024     \n",
            "_________________________________________________________________\n",
            "global_max_pooling1d_1 (Glob (None, 64)                0         \n",
            "_________________________________________________________________\n",
            "dense_4 (Dense)              (None, 1)                 65        \n",
            "=================================================================\n",
            "Total params: 1,321,089\n",
            "Trainable params: 1,321,089\n",
            "Non-trainable params: 0\n",
            "_________________________________________________________________\n"
          ],
          "name": "stdout"
        }
      ]
    },
    {
      "cell_type": "code",
      "metadata": {
        "colab": {
          "base_uri": "https://localhost:8080/"
        },
        "id": "Ihbs_NIDlTqA",
        "outputId": "3a97995a-b195-4edb-f684-d169c8f7dde8"
      },
      "source": [
        "# Fit the model\n",
        "model_5_history = model_5.fit(train_sentences,\n",
        "                              train_labels,\n",
        "                              epochs=5,\n",
        "                              validation_data=(val_sentences, val_labels),\n",
        "                              callbacks=[create_tensorboard_callback(SAVE_DIR,\n",
        "                                                                      'Conv1D')])"
      ],
      "execution_count": 78,
      "outputs": [
        {
          "output_type": "stream",
          "text": [
            "Saving TensorBoard log files to: model_logs/Conv1D/20210814-021103\n",
            "Epoch 1/5\n",
            "215/215 [==============================] - 6s 19ms/step - loss: 0.1288 - accuracy: 0.9599 - val_loss: 0.9064 - val_accuracy: 0.7690\n",
            "Epoch 2/5\n",
            "215/215 [==============================] - 3s 15ms/step - loss: 0.0744 - accuracy: 0.9720 - val_loss: 1.0362 - val_accuracy: 0.7559\n",
            "Epoch 3/5\n",
            "215/215 [==============================] - 3s 15ms/step - loss: 0.0632 - accuracy: 0.9747 - val_loss: 1.1287 - val_accuracy: 0.7598\n",
            "Epoch 4/5\n",
            "215/215 [==============================] - 3s 15ms/step - loss: 0.0571 - accuracy: 0.9765 - val_loss: 1.2165 - val_accuracy: 0.7625\n",
            "Epoch 5/5\n",
            "215/215 [==============================] - 3s 14ms/step - loss: 0.0510 - accuracy: 0.9784 - val_loss: 1.2555 - val_accuracy: 0.7559\n"
          ],
          "name": "stdout"
        }
      ]
    },
    {
      "cell_type": "code",
      "metadata": {
        "colab": {
          "base_uri": "https://localhost:8080/"
        },
        "id": "80W0VZLMmK1T",
        "outputId": "018cb2f9-2d88-4668-a9d2-77a146b9cfc9"
      },
      "source": [
        "# Make some predictions with our Conv1D model\n",
        "model_5_pred_probs = model_5.predict(val_sentences)\n",
        "model_5_pred_probs"
      ],
      "execution_count": 79,
      "outputs": [
        {
          "output_type": "execute_result",
          "data": {
            "text/plain": [
              "array([[2.72118449e-02],\n",
              "       [9.04019475e-01],\n",
              "       [9.99919653e-01],\n",
              "       [6.68274835e-02],\n",
              "       [1.68547928e-07],\n",
              "       [9.90532517e-01],\n",
              "       [8.73179913e-01],\n",
              "       [9.99708474e-01],\n",
              "       [9.99996781e-01],\n",
              "       [9.19445992e-01],\n",
              "       [3.02599084e-08],\n",
              "       [9.35657680e-01],\n",
              "       [7.02404577e-07],\n",
              "       [6.77297488e-02],\n",
              "       [1.57297814e-06],\n",
              "       [1.54348905e-03],\n",
              "       [6.35953911e-04],\n",
              "       [2.44005014e-06],\n",
              "       [2.17685662e-02],\n",
              "       [9.95825052e-01],\n",
              "       [6.12104118e-01],\n",
              "       [4.59088767e-07],\n",
              "       [9.99515295e-01],\n",
              "       [4.91143845e-04],\n",
              "       [9.99953747e-01],\n",
              "       [1.00000000e+00],\n",
              "       [2.13453197e-04],\n",
              "       [8.39863904e-04],\n",
              "       [5.76132967e-04],\n",
              "       [6.97071075e-01],\n",
              "       [3.19763422e-01],\n",
              "       [3.79875491e-05],\n",
              "       [3.08647007e-01],\n",
              "       [3.82000086e-04],\n",
              "       [2.41280030e-02],\n",
              "       [5.01605034e-01],\n",
              "       [9.99999642e-01],\n",
              "       [1.60222530e-01],\n",
              "       [1.16651431e-02],\n",
              "       [9.99831200e-01],\n",
              "       [2.75247723e-01],\n",
              "       [7.81077688e-06],\n",
              "       [1.12036459e-01],\n",
              "       [4.69972256e-05],\n",
              "       [9.52732563e-01],\n",
              "       [9.99986887e-01],\n",
              "       [9.95487869e-01],\n",
              "       [9.99324083e-01],\n",
              "       [1.40559580e-03],\n",
              "       [2.69216448e-01],\n",
              "       [2.92244484e-04],\n",
              "       [6.46242559e-01],\n",
              "       [3.62044666e-04],\n",
              "       [1.93403795e-01],\n",
              "       [9.45850194e-01],\n",
              "       [2.05254052e-02],\n",
              "       [1.04470877e-02],\n",
              "       [9.99926805e-01],\n",
              "       [2.48273354e-05],\n",
              "       [7.63117285e-08],\n",
              "       [4.52578925e-02],\n",
              "       [9.99999046e-01],\n",
              "       [9.59914029e-01],\n",
              "       [3.37925949e-03],\n",
              "       [9.80917215e-01],\n",
              "       [9.99973774e-01],\n",
              "       [9.97586846e-01],\n",
              "       [6.78448065e-04],\n",
              "       [9.84644413e-01],\n",
              "       [8.94738883e-02],\n",
              "       [9.00679079e-05],\n",
              "       [2.55353391e-01],\n",
              "       [9.98298109e-01],\n",
              "       [4.18228563e-03],\n",
              "       [9.95159686e-01],\n",
              "       [9.73559380e-01],\n",
              "       [2.12102532e-02],\n",
              "       [9.98032272e-01],\n",
              "       [3.76320958e-01],\n",
              "       [6.14669398e-06],\n",
              "       [7.44667128e-02],\n",
              "       [6.17405884e-02],\n",
              "       [1.00000000e+00],\n",
              "       [5.79587504e-05],\n",
              "       [5.76395588e-03],\n",
              "       [4.63424483e-04],\n",
              "       [3.17379272e-05],\n",
              "       [1.06714165e-03],\n",
              "       [1.93599388e-01],\n",
              "       [9.99986410e-01],\n",
              "       [9.99999881e-01],\n",
              "       [2.14298398e-05],\n",
              "       [6.30727410e-01],\n",
              "       [6.70273602e-03],\n",
              "       [1.00000000e+00],\n",
              "       [9.00070906e-01],\n",
              "       [9.80517209e-01],\n",
              "       [9.94095802e-01],\n",
              "       [9.97492313e-01],\n",
              "       [9.99756157e-01],\n",
              "       [1.00000000e+00],\n",
              "       [1.72928005e-04],\n",
              "       [1.71363411e-07],\n",
              "       [9.40108180e-01],\n",
              "       [9.99005258e-01],\n",
              "       [1.29332840e-01],\n",
              "       [9.89798307e-01],\n",
              "       [9.99788225e-01],\n",
              "       [4.39687426e-07],\n",
              "       [9.93145347e-01],\n",
              "       [7.16000736e-01],\n",
              "       [7.17586033e-07],\n",
              "       [1.60238042e-01],\n",
              "       [2.87268165e-04],\n",
              "       [6.05845219e-03],\n",
              "       [1.16801850e-01],\n",
              "       [6.16704345e-01],\n",
              "       [9.69857872e-01],\n",
              "       [4.77783531e-01],\n",
              "       [4.99380811e-04],\n",
              "       [1.00000000e+00],\n",
              "       [8.12905114e-07],\n",
              "       [2.66627083e-03],\n",
              "       [5.67344606e-01],\n",
              "       [5.87096214e-01],\n",
              "       [1.13311177e-02],\n",
              "       [9.85425472e-01],\n",
              "       [7.25075097e-06],\n",
              "       [2.39745132e-04],\n",
              "       [9.98009503e-01],\n",
              "       [6.88144019e-06],\n",
              "       [1.00000000e+00],\n",
              "       [1.00000000e+00],\n",
              "       [1.00000000e+00],\n",
              "       [9.99971390e-01],\n",
              "       [7.72075579e-02],\n",
              "       [9.99963880e-01],\n",
              "       [7.50189126e-01],\n",
              "       [3.81491240e-03],\n",
              "       [2.06035096e-04],\n",
              "       [9.99999881e-01],\n",
              "       [7.74494708e-01],\n",
              "       [6.77297488e-02],\n",
              "       [9.99899864e-01],\n",
              "       [8.26689973e-02],\n",
              "       [2.27766819e-02],\n",
              "       [8.40725098e-03],\n",
              "       [2.43763898e-10],\n",
              "       [5.07887744e-04],\n",
              "       [4.49842155e-01],\n",
              "       [1.50730659e-03],\n",
              "       [2.00961176e-02],\n",
              "       [7.46796653e-03],\n",
              "       [3.33030892e-09],\n",
              "       [3.85415100e-04],\n",
              "       [9.99961495e-01],\n",
              "       [9.96380031e-01],\n",
              "       [5.89323323e-03],\n",
              "       [9.30073500e-01],\n",
              "       [3.79711329e-09],\n",
              "       [7.33163238e-01],\n",
              "       [5.12134619e-02],\n",
              "       [8.68202448e-02],\n",
              "       [9.99545157e-01],\n",
              "       [7.37064565e-03],\n",
              "       [1.48387844e-04],\n",
              "       [1.00000000e+00],\n",
              "       [4.15970802e-01],\n",
              "       [9.99984145e-01],\n",
              "       [3.69559258e-01],\n",
              "       [9.99960899e-01],\n",
              "       [9.99590337e-01],\n",
              "       [9.98563349e-01],\n",
              "       [2.73035243e-06],\n",
              "       [9.99998212e-01],\n",
              "       [1.51379581e-03],\n",
              "       [5.11657931e-02],\n",
              "       [1.53183537e-02],\n",
              "       [6.23842895e-01],\n",
              "       [9.99994397e-01],\n",
              "       [4.25751001e-04],\n",
              "       [7.44341373e-01],\n",
              "       [9.88348484e-01],\n",
              "       [9.99999166e-01],\n",
              "       [9.47745800e-01],\n",
              "       [1.89200509e-03],\n",
              "       [1.12005330e-06],\n",
              "       [1.00000000e+00],\n",
              "       [3.90065544e-08],\n",
              "       [6.40020525e-09],\n",
              "       [1.09153874e-01],\n",
              "       [4.53296065e-01],\n",
              "       [6.46140415e-06],\n",
              "       [5.10028367e-05],\n",
              "       [9.69607838e-10],\n",
              "       [6.18118884e-06],\n",
              "       [8.37729385e-05],\n",
              "       [4.13883887e-02],\n",
              "       [9.98731077e-01],\n",
              "       [1.27286039e-04],\n",
              "       [1.88621075e-03],\n",
              "       [9.98546243e-01],\n",
              "       [9.99935150e-01],\n",
              "       [3.46846133e-03],\n",
              "       [5.71049823e-05],\n",
              "       [1.00000000e+00],\n",
              "       [9.99931693e-01],\n",
              "       [9.99995232e-01],\n",
              "       [8.53548467e-01],\n",
              "       [9.91270423e-01],\n",
              "       [4.69773501e-01],\n",
              "       [9.99999881e-01],\n",
              "       [3.33714979e-07],\n",
              "       [4.88322148e-05],\n",
              "       [1.51099798e-07],\n",
              "       [8.28372482e-10],\n",
              "       [9.99839902e-01],\n",
              "       [9.89802659e-01],\n",
              "       [8.82794321e-01],\n",
              "       [9.77423489e-01],\n",
              "       [2.51289997e-02],\n",
              "       [3.37556667e-05],\n",
              "       [2.39120889e-03],\n",
              "       [5.77531719e-05],\n",
              "       [9.99998689e-01],\n",
              "       [6.16203249e-01],\n",
              "       [4.29741144e-02],\n",
              "       [1.00000000e+00],\n",
              "       [7.42981791e-01],\n",
              "       [7.73424864e-01],\n",
              "       [1.26088335e-05],\n",
              "       [9.86348372e-04],\n",
              "       [9.91082549e-01],\n",
              "       [2.21595839e-01],\n",
              "       [4.01072115e-01],\n",
              "       [3.62261990e-03],\n",
              "       [4.22259629e-01],\n",
              "       [2.04710722e-01],\n",
              "       [9.75371397e-04],\n",
              "       [1.35849026e-04],\n",
              "       [8.29400420e-01],\n",
              "       [5.78247942e-02],\n",
              "       [1.00000000e+00],\n",
              "       [9.99970436e-01],\n",
              "       [1.26737896e-05],\n",
              "       [2.25938351e-07],\n",
              "       [9.99994993e-01],\n",
              "       [2.73478709e-05],\n",
              "       [1.56758877e-03],\n",
              "       [1.30710170e-01],\n",
              "       [1.11699080e-06],\n",
              "       [9.94977176e-01],\n",
              "       [3.85108501e-10],\n",
              "       [2.17836259e-05],\n",
              "       [9.99989033e-01],\n",
              "       [2.04673395e-01],\n",
              "       [9.99627948e-01],\n",
              "       [9.99999762e-01],\n",
              "       [1.35799265e-02],\n",
              "       [6.86229265e-04],\n",
              "       [5.18052140e-03],\n",
              "       [2.51827569e-05],\n",
              "       [2.86318368e-07],\n",
              "       [9.99999881e-01],\n",
              "       [9.99936581e-01],\n",
              "       [4.07933593e-01],\n",
              "       [9.99990702e-01],\n",
              "       [6.12430566e-04],\n",
              "       [1.58762280e-02],\n",
              "       [4.12058122e-02],\n",
              "       [2.63170386e-03],\n",
              "       [6.10196184e-06],\n",
              "       [9.99999642e-01],\n",
              "       [1.78779790e-03],\n",
              "       [6.84209112e-07],\n",
              "       [9.99984503e-01],\n",
              "       [1.95107350e-05],\n",
              "       [1.69957944e-04],\n",
              "       [9.99510407e-01],\n",
              "       [3.45335975e-05],\n",
              "       [2.23418195e-02],\n",
              "       [1.96949215e-04],\n",
              "       [9.99997377e-01],\n",
              "       [9.98626113e-01],\n",
              "       [1.23553753e-01],\n",
              "       [3.15087497e-01],\n",
              "       [9.99900699e-01],\n",
              "       [2.37816339e-03],\n",
              "       [9.92976487e-01],\n",
              "       [6.92774716e-04],\n",
              "       [7.84441113e-01],\n",
              "       [9.99470532e-01],\n",
              "       [2.64853965e-02],\n",
              "       [5.72522245e-02],\n",
              "       [7.39338939e-05],\n",
              "       [5.51161706e-01],\n",
              "       [2.91609927e-03],\n",
              "       [3.49797346e-02],\n",
              "       [7.88144942e-04],\n",
              "       [2.00496644e-01],\n",
              "       [1.06800530e-06],\n",
              "       [2.08717166e-03],\n",
              "       [4.82864678e-02],\n",
              "       [9.99975562e-01],\n",
              "       [2.91326270e-03],\n",
              "       [4.19207267e-04],\n",
              "       [1.92191094e-01],\n",
              "       [2.62185842e-01],\n",
              "       [1.03277182e-02],\n",
              "       [7.27975385e-06],\n",
              "       [4.51984233e-05],\n",
              "       [9.99949694e-01],\n",
              "       [3.01275104e-01],\n",
              "       [4.62603837e-01],\n",
              "       [1.00000000e+00],\n",
              "       [2.96684890e-03],\n",
              "       [9.99643207e-01],\n",
              "       [4.49525714e-02],\n",
              "       [1.02986342e-05],\n",
              "       [1.17346190e-01],\n",
              "       [2.17939123e-06],\n",
              "       [4.54469817e-03],\n",
              "       [9.99769270e-01],\n",
              "       [7.88879171e-02],\n",
              "       [9.99999523e-01],\n",
              "       [3.30807984e-01],\n",
              "       [6.65749212e-07],\n",
              "       [9.99998450e-01],\n",
              "       [1.23515245e-04],\n",
              "       [9.99999762e-01],\n",
              "       [3.32025113e-04],\n",
              "       [1.66512309e-05],\n",
              "       [9.99999881e-01],\n",
              "       [4.05015680e-06],\n",
              "       [6.60541446e-06],\n",
              "       [9.99738634e-01],\n",
              "       [4.58990780e-06],\n",
              "       [1.43268708e-05],\n",
              "       [9.98933852e-01],\n",
              "       [9.98321950e-01],\n",
              "       [5.83405111e-08],\n",
              "       [8.59809201e-03],\n",
              "       [9.99992371e-01],\n",
              "       [8.83291602e-01],\n",
              "       [9.96707797e-01],\n",
              "       [1.44479364e-01],\n",
              "       [6.35532498e-01],\n",
              "       [9.98834312e-01],\n",
              "       [2.71693058e-03],\n",
              "       [4.11496039e-05],\n",
              "       [4.24216315e-03],\n",
              "       [1.51746441e-03],\n",
              "       [2.60900333e-06],\n",
              "       [4.67888266e-01],\n",
              "       [1.76995531e-01],\n",
              "       [9.06570449e-07],\n",
              "       [1.00000000e+00],\n",
              "       [1.00000000e+00],\n",
              "       [1.00000000e+00],\n",
              "       [7.01233570e-04],\n",
              "       [1.50073245e-01],\n",
              "       [2.57103913e-03],\n",
              "       [6.90626428e-02],\n",
              "       [9.93179679e-01],\n",
              "       [1.03109181e-01],\n",
              "       [7.19607109e-04],\n",
              "       [1.69866414e-08],\n",
              "       [1.06388528e-03],\n",
              "       [9.83235359e-01],\n",
              "       [9.50629910e-05],\n",
              "       [9.67603177e-03],\n",
              "       [2.79406390e-06],\n",
              "       [3.59840691e-03],\n",
              "       [7.64578767e-03],\n",
              "       [9.96452928e-01],\n",
              "       [4.65962999e-02],\n",
              "       [7.27727638e-06],\n",
              "       [7.71498820e-03],\n",
              "       [2.31409948e-02],\n",
              "       [9.99999881e-01],\n",
              "       [9.98609781e-01],\n",
              "       [7.01541781e-01],\n",
              "       [9.88284945e-01],\n",
              "       [7.17444193e-09],\n",
              "       [9.25726712e-01],\n",
              "       [9.99999404e-01],\n",
              "       [2.09545955e-01],\n",
              "       [2.92223603e-01],\n",
              "       [9.99978065e-01],\n",
              "       [2.95942631e-02],\n",
              "       [9.99100208e-01],\n",
              "       [6.63825849e-05],\n",
              "       [5.33105507e-02],\n",
              "       [5.37638962e-01],\n",
              "       [5.37871197e-02],\n",
              "       [1.00000000e+00],\n",
              "       [4.96870428e-02],\n",
              "       [2.02068099e-06],\n",
              "       [2.76124210e-05],\n",
              "       [1.03109181e-01],\n",
              "       [1.00000000e+00],\n",
              "       [2.09571190e-05],\n",
              "       [1.29086450e-01],\n",
              "       [9.99942660e-01],\n",
              "       [2.75648290e-05],\n",
              "       [1.00000000e+00],\n",
              "       [2.14272831e-03],\n",
              "       [1.73345034e-05],\n",
              "       [5.11270342e-03],\n",
              "       [9.95199025e-01],\n",
              "       [9.98732626e-01],\n",
              "       [1.32408319e-03],\n",
              "       [7.58342708e-07],\n",
              "       [1.67359546e-01],\n",
              "       [9.99995232e-01],\n",
              "       [7.70854473e-01],\n",
              "       [5.79898478e-04],\n",
              "       [2.32419163e-01],\n",
              "       [2.05091964e-02],\n",
              "       [3.90002378e-06],\n",
              "       [9.99985695e-01],\n",
              "       [1.56073928e-01],\n",
              "       [1.00000000e+00],\n",
              "       [9.99990225e-01],\n",
              "       [2.16281544e-02],\n",
              "       [5.45084655e-01],\n",
              "       [2.93351950e-05],\n",
              "       [9.98333633e-01],\n",
              "       [9.96162176e-01],\n",
              "       [9.95443106e-01],\n",
              "       [3.11930710e-03],\n",
              "       [2.00775042e-02],\n",
              "       [4.36068740e-06],\n",
              "       [2.98026367e-04],\n",
              "       [2.06413879e-05],\n",
              "       [1.04808023e-05],\n",
              "       [9.26092327e-01],\n",
              "       [1.86949049e-03],\n",
              "       [1.00000000e+00],\n",
              "       [9.99975443e-01],\n",
              "       [1.78755924e-01],\n",
              "       [9.04019475e-01],\n",
              "       [4.72206995e-03],\n",
              "       [6.12792865e-05],\n",
              "       [2.31738701e-01],\n",
              "       [6.93954885e-01],\n",
              "       [4.76125255e-02],\n",
              "       [3.06530837e-02],\n",
              "       [3.05422304e-06],\n",
              "       [3.10145115e-05],\n",
              "       [1.00574393e-08],\n",
              "       [9.99417901e-01],\n",
              "       [9.98712778e-01],\n",
              "       [9.99997616e-01],\n",
              "       [8.83447081e-02],\n",
              "       [8.96819293e-01],\n",
              "       [8.20472613e-02],\n",
              "       [3.10716466e-08],\n",
              "       [3.59916165e-02],\n",
              "       [9.98598993e-01],\n",
              "       [9.99999881e-01],\n",
              "       [1.05359447e-06],\n",
              "       [7.02274740e-01],\n",
              "       [1.09434211e-06],\n",
              "       [1.00000000e+00],\n",
              "       [1.00000000e+00],\n",
              "       [4.40647155e-01],\n",
              "       [8.59761331e-03],\n",
              "       [9.99997616e-01],\n",
              "       [6.19834900e-05],\n",
              "       [8.26852280e-04],\n",
              "       [9.99996424e-01],\n",
              "       [8.97599421e-06],\n",
              "       [6.30119030e-05],\n",
              "       [9.98362839e-01],\n",
              "       [4.01102513e-01],\n",
              "       [8.88778389e-01],\n",
              "       [9.99991655e-01],\n",
              "       [4.85840319e-05],\n",
              "       [2.18413174e-04],\n",
              "       [1.12451207e-05],\n",
              "       [4.83113549e-10],\n",
              "       [6.24687673e-05],\n",
              "       [9.99996424e-01],\n",
              "       [2.97674603e-07],\n",
              "       [9.11772430e-01],\n",
              "       [2.78972059e-01],\n",
              "       [1.16085997e-02],\n",
              "       [1.40321672e-01],\n",
              "       [3.39791029e-07],\n",
              "       [6.16212201e-05],\n",
              "       [9.99979496e-01],\n",
              "       [9.99838352e-01],\n",
              "       [2.21807649e-03],\n",
              "       [1.72786349e-05],\n",
              "       [1.64308578e-01],\n",
              "       [4.56185262e-06],\n",
              "       [9.96990085e-01],\n",
              "       [5.11604667e-05],\n",
              "       [9.07527387e-01],\n",
              "       [9.92680967e-01],\n",
              "       [5.84066689e-01],\n",
              "       [9.93193448e-01],\n",
              "       [9.82900262e-02],\n",
              "       [2.48651090e-03],\n",
              "       [2.50878511e-04],\n",
              "       [1.35572582e-01],\n",
              "       [9.26817834e-01],\n",
              "       [8.77827823e-01],\n",
              "       [2.16884539e-01],\n",
              "       [1.93643651e-03],\n",
              "       [7.53681633e-08],\n",
              "       [9.19049035e-06],\n",
              "       [7.00426698e-02],\n",
              "       [2.55516142e-01],\n",
              "       [2.16248453e-01],\n",
              "       [9.99976277e-01],\n",
              "       [9.99986053e-01],\n",
              "       [9.00070906e-01],\n",
              "       [9.90080416e-01],\n",
              "       [4.82627610e-03],\n",
              "       [1.57324448e-05],\n",
              "       [9.99054253e-01],\n",
              "       [2.83342689e-01],\n",
              "       [2.47918128e-04],\n",
              "       [2.37470195e-01],\n",
              "       [9.51323211e-01],\n",
              "       [9.62183444e-10],\n",
              "       [8.15532148e-01],\n",
              "       [9.25652385e-01],\n",
              "       [5.77101171e-01],\n",
              "       [9.99950647e-01],\n",
              "       [1.46683574e-01],\n",
              "       [3.42200953e-03],\n",
              "       [9.75698829e-01],\n",
              "       [5.84273130e-06],\n",
              "       [4.75407019e-02],\n",
              "       [6.90357387e-01],\n",
              "       [9.68985915e-01],\n",
              "       [8.68751764e-01],\n",
              "       [5.81212516e-05],\n",
              "       [1.88242260e-03],\n",
              "       [8.94506514e-01],\n",
              "       [1.44569913e-03],\n",
              "       [7.74658751e-04],\n",
              "       [1.13070282e-05],\n",
              "       [4.41050529e-01],\n",
              "       [1.00000000e+00],\n",
              "       [9.98243093e-01],\n",
              "       [4.25751269e-01],\n",
              "       [9.99966502e-01],\n",
              "       [9.99979973e-01],\n",
              "       [8.07078138e-09],\n",
              "       [9.99998927e-01],\n",
              "       [4.99936379e-03],\n",
              "       [9.96096194e-01],\n",
              "       [3.49611998e-01],\n",
              "       [1.13129159e-02],\n",
              "       [2.27351411e-05],\n",
              "       [1.55421935e-06],\n",
              "       [3.72275710e-02],\n",
              "       [9.09442460e-05],\n",
              "       [4.79128242e-01],\n",
              "       [2.28307350e-03],\n",
              "       [9.99997139e-01],\n",
              "       [1.13978703e-03],\n",
              "       [7.87609637e-01],\n",
              "       [3.40343475e-01],\n",
              "       [1.70033964e-04],\n",
              "       [1.06555214e-02],\n",
              "       [9.99994874e-01],\n",
              "       [4.26073419e-03],\n",
              "       [9.95632708e-01],\n",
              "       [1.66282877e-01],\n",
              "       [8.00813362e-03],\n",
              "       [1.08632132e-01],\n",
              "       [1.29385080e-04],\n",
              "       [2.90224086e-02],\n",
              "       [9.99979973e-01],\n",
              "       [1.31557181e-06],\n",
              "       [1.28022104e-04],\n",
              "       [1.80709679e-02],\n",
              "       [1.00000000e+00],\n",
              "       [7.84448348e-03],\n",
              "       [1.90953979e-05],\n",
              "       [9.99841213e-01],\n",
              "       [2.33817943e-08],\n",
              "       [3.33484123e-03],\n",
              "       [1.90647654e-02],\n",
              "       [3.27817261e-01],\n",
              "       [3.44156360e-05],\n",
              "       [3.52878004e-01],\n",
              "       [5.96023258e-03],\n",
              "       [3.94556746e-02],\n",
              "       [4.37752120e-02],\n",
              "       [5.26726432e-02],\n",
              "       [4.86729768e-05],\n",
              "       [9.97207820e-01],\n",
              "       [9.94646490e-01],\n",
              "       [4.99831736e-01],\n",
              "       [7.69316739e-06],\n",
              "       [2.21531664e-04],\n",
              "       [9.99954820e-01],\n",
              "       [9.85012293e-01],\n",
              "       [1.00000000e+00],\n",
              "       [7.55570736e-03],\n",
              "       [9.98905063e-01],\n",
              "       [4.36881019e-05],\n",
              "       [9.95735049e-01],\n",
              "       [9.91185009e-01],\n",
              "       [2.31273542e-10],\n",
              "       [9.99574244e-01],\n",
              "       [1.73322670e-02],\n",
              "       [9.98290241e-01],\n",
              "       [9.99734223e-01],\n",
              "       [7.80652743e-03],\n",
              "       [1.47251858e-05],\n",
              "       [4.46361452e-01],\n",
              "       [7.83887117e-07],\n",
              "       [7.47650396e-03],\n",
              "       [1.00000000e+00],\n",
              "       [3.02341104e-01],\n",
              "       [9.91499245e-01],\n",
              "       [3.62794429e-01],\n",
              "       [9.99994874e-01],\n",
              "       [9.95438039e-01],\n",
              "       [5.28145349e-03],\n",
              "       [4.03566034e-08],\n",
              "       [9.08347189e-01],\n",
              "       [1.42343328e-04],\n",
              "       [4.37404364e-02],\n",
              "       [9.99969959e-01],\n",
              "       [9.99702871e-01],\n",
              "       [1.00000000e+00],\n",
              "       [9.99924541e-01],\n",
              "       [1.63456589e-01],\n",
              "       [9.86238778e-01],\n",
              "       [4.75903079e-07],\n",
              "       [6.68915451e-01],\n",
              "       [9.97808039e-01],\n",
              "       [9.99373734e-01],\n",
              "       [4.34435606e-05],\n",
              "       [9.44135904e-01],\n",
              "       [9.92759228e-01],\n",
              "       [6.49376307e-05],\n",
              "       [1.04250312e-02],\n",
              "       [2.16884539e-01],\n",
              "       [1.07789272e-02],\n",
              "       [9.50974941e-01],\n",
              "       [9.52327251e-01],\n",
              "       [1.00000000e+00],\n",
              "       [1.17917627e-03],\n",
              "       [8.93889691e-08],\n",
              "       [1.53764219e-07],\n",
              "       [2.36729592e-01],\n",
              "       [2.10573827e-03],\n",
              "       [1.25702322e-02],\n",
              "       [9.81316447e-01],\n",
              "       [8.92318894e-06],\n",
              "       [6.06519043e-01],\n",
              "       [2.55916128e-03],\n",
              "       [6.04294598e-01],\n",
              "       [9.99944091e-01],\n",
              "       [5.29772260e-05],\n",
              "       [9.79995072e-01],\n",
              "       [4.87497589e-03],\n",
              "       [4.67376573e-08],\n",
              "       [2.52979982e-04],\n",
              "       [1.00000000e+00],\n",
              "       [6.24814868e-01],\n",
              "       [2.08616356e-07],\n",
              "       [4.05190513e-02],\n",
              "       [5.67848682e-01],\n",
              "       [2.25270628e-06],\n",
              "       [9.99993086e-01],\n",
              "       [1.58576283e-03],\n",
              "       [9.25983965e-01],\n",
              "       [1.03288867e-01],\n",
              "       [4.26039682e-04],\n",
              "       [8.26589540e-02],\n",
              "       [5.46797514e-01],\n",
              "       [6.07867900e-04],\n",
              "       [9.99400616e-01],\n",
              "       [3.43172431e-01],\n",
              "       [5.06430864e-01],\n",
              "       [9.78244960e-01],\n",
              "       [5.26949644e-01],\n",
              "       [1.90847576e-01],\n",
              "       [9.62183444e-10],\n",
              "       [4.66394871e-01],\n",
              "       [2.55595475e-01],\n",
              "       [1.00000000e+00],\n",
              "       [7.08297372e-01],\n",
              "       [8.12461425e-04],\n",
              "       [9.99999404e-01],\n",
              "       [3.22675049e-01],\n",
              "       [9.64027107e-01],\n",
              "       [3.22675049e-01],\n",
              "       [9.99940276e-01],\n",
              "       [4.97301517e-06],\n",
              "       [5.94430882e-03],\n",
              "       [1.71237229e-08],\n",
              "       [9.99996781e-01],\n",
              "       [2.29167808e-02],\n",
              "       [1.34477194e-03],\n",
              "       [1.79337212e-06],\n",
              "       [4.56382986e-03],\n",
              "       [1.18784523e-02],\n",
              "       [4.52707209e-05],\n",
              "       [5.00544570e-02],\n",
              "       [3.70381121e-03],\n",
              "       [1.72312814e-03],\n",
              "       [8.62730563e-01],\n",
              "       [6.81427890e-04],\n",
              "       [1.49260776e-03],\n",
              "       [4.44511679e-04],\n",
              "       [1.87315869e-08],\n",
              "       [8.91046524e-02],\n",
              "       [9.93544102e-01],\n",
              "       [1.08261185e-04],\n",
              "       [2.57285237e-01],\n",
              "       [2.54269829e-03],\n",
              "       [9.74668801e-01],\n",
              "       [1.00000000e+00],\n",
              "       [8.45959366e-05],\n",
              "       [1.10596935e-04],\n",
              "       [2.63761308e-07],\n",
              "       [1.84768449e-08],\n",
              "       [9.99993086e-01],\n",
              "       [1.87315869e-08],\n",
              "       [2.99856096e-04],\n",
              "       [9.89992678e-01],\n",
              "       [1.00000000e+00],\n",
              "       [1.00000000e+00],\n",
              "       [1.00000000e+00],\n",
              "       [1.00000000e+00],\n",
              "       [1.48661720e-05],\n",
              "       [6.37917954e-04],\n",
              "       [8.06279302e-01],\n",
              "       [8.56088817e-01],\n",
              "       [9.99998450e-01],\n",
              "       [3.72649550e-01],\n",
              "       [4.95183647e-01],\n",
              "       [9.78940904e-01],\n",
              "       [8.52516055e-01],\n",
              "       [4.23115871e-08],\n",
              "       [7.45022488e-10],\n",
              "       [4.56181355e-03],\n",
              "       [1.49342502e-02],\n",
              "       [1.46544671e-05],\n",
              "       [3.76312557e-04],\n",
              "       [9.99989152e-01],\n",
              "       [9.99999523e-01],\n",
              "       [4.84206685e-05],\n",
              "       [9.99958277e-01],\n",
              "       [4.84346479e-01],\n",
              "       [2.39487682e-02],\n",
              "       [2.52023968e-03],\n",
              "       [8.12507510e-01],\n",
              "       [5.98638415e-01],\n",
              "       [1.69544704e-02],\n",
              "       [1.03813989e-06]], dtype=float32)"
            ]
          },
          "metadata": {
            "tags": []
          },
          "execution_count": 79
        }
      ]
    },
    {
      "cell_type": "code",
      "metadata": {
        "colab": {
          "base_uri": "https://localhost:8080/"
        },
        "id": "EyR5sCfKl6Oa",
        "outputId": "be5292dd-1116-423e-ad6d-7bf26d3d235b"
      },
      "source": [
        "# Convert model 5 pred probs to labels\n",
        "model_5_preds = tf.squeeze(tf.round(model_5_pred_probs))\n",
        "model_5_preds[:10]"
      ],
      "execution_count": 80,
      "outputs": [
        {
          "output_type": "execute_result",
          "data": {
            "text/plain": [
              "<tf.Tensor: shape=(10,), dtype=float32, numpy=array([0., 1., 1., 0., 0., 1., 1., 1., 1., 1.], dtype=float32)>"
            ]
          },
          "metadata": {
            "tags": []
          },
          "execution_count": 80
        }
      ]
    },
    {
      "cell_type": "code",
      "metadata": {
        "colab": {
          "base_uri": "https://localhost:8080/"
        },
        "id": "hzKSKtGfmfo6",
        "outputId": "b83f8b38-42be-426c-c386-16d073c83d88"
      },
      "source": [
        "# Evaluate model 5 predictions\n",
        "model_5_results = calculate_results(y_true=val_labels,\n",
        "                                    y_pred=model_5_preds)\n",
        "model_5_results"
      ],
      "execution_count": 81,
      "outputs": [
        {
          "output_type": "execute_result",
          "data": {
            "text/plain": [
              "{'accuracy': 75.59055118110236,\n",
              " 'f1': 0.7535524954357875,\n",
              " 'precison': 0.7573698742202679,\n",
              " 'recall': 0.7559055118110236}"
            ]
          },
          "metadata": {
            "tags": []
          },
          "execution_count": 81
        }
      ]
    },
    {
      "cell_type": "markdown",
      "metadata": {
        "id": "KkKsSy8nmxhJ"
      },
      "source": [
        "### Model 6: TensorFlow Hub Pretrained Sentences Encoder\n",
        "\n",
        "Now we've built a few of our own models, let's try and use transfer learning for NLP, specifically using TensorFlow Hub's Universal Sentence Encoder: https://tfhub.dev/google/universal-sentence-encoder/4\n",
        "\n",
        "See how the USE was created here: https://arxiv.org/abs/1803.11175"
      ]
    },
    {
      "cell_type": "code",
      "metadata": {
        "colab": {
          "base_uri": "https://localhost:8080/"
        },
        "id": "XsvTEAF4oMEk",
        "outputId": "b2d6e6b4-fc25-4090-c8d6-b84023323927"
      },
      "source": [
        "import tensorflow_hub as hub\n",
        "embed = hub.load(\"https://tfhub.dev/google/universal-sentence-encoder/4\")\n",
        "embed_samples = embed([sample_sentence,\n",
        "                       \"When you can the universal sentence encoder on a sentence, it turns it into numbers.\"])\n",
        "print(embed_samples[0][:50])"
      ],
      "execution_count": 82,
      "outputs": [
        {
          "output_type": "stream",
          "text": [
            "tf.Tensor(\n",
            "[-0.01157027  0.0248591   0.02878048 -0.012715    0.03971538  0.0882776\n",
            "  0.02680985  0.05589838 -0.01068729 -0.00597292  0.00639323 -0.0181952\n",
            "  0.00030814  0.09105888  0.05874645 -0.03180628  0.01512474 -0.05162929\n",
            "  0.00991367 -0.06865346 -0.04209305  0.0267898   0.03011008  0.00321069\n",
            " -0.00337971 -0.04787356  0.02266719 -0.00985925 -0.04063613 -0.01292093\n",
            " -0.04666384  0.056303   -0.03949255  0.00517688  0.02495828 -0.07014441\n",
            "  0.02871508  0.04947684 -0.00633978 -0.08960193  0.02807117 -0.00808362\n",
            " -0.01360601  0.0599865  -0.10361787 -0.05195374  0.00232955 -0.0233253\n",
            " -0.03758105  0.03327729], shape=(50,), dtype=float32)\n"
          ],
          "name": "stdout"
        }
      ]
    },
    {
      "cell_type": "code",
      "metadata": {
        "colab": {
          "base_uri": "https://localhost:8080/"
        },
        "id": "UZAWM58srB1L",
        "outputId": "1c007be0-a85a-4276-f3be-6606fa0aca48"
      },
      "source": [
        "embed_samples"
      ],
      "execution_count": 83,
      "outputs": [
        {
          "output_type": "execute_result",
          "data": {
            "text/plain": [
              "<tf.Tensor: shape=(2, 512), dtype=float32, numpy=\n",
              "array([[-0.01157027,  0.0248591 ,  0.02878048, ..., -0.00186125,\n",
              "         0.02315824, -0.01485021],\n",
              "       [ 0.03485874, -0.08845595, -0.01677877, ..., -0.02750706,\n",
              "         0.03230237, -0.00820087]], dtype=float32)>"
            ]
          },
          "metadata": {
            "tags": []
          },
          "execution_count": 83
        }
      ]
    },
    {
      "cell_type": "code",
      "metadata": {
        "id": "qhYjW0parhG-"
      },
      "source": [
        "# Create a keras layer using the USE pretrained layer from tensorflow hub\n",
        "\n",
        "sentence_encoder_layer = hub.KerasLayer(\"https://tfhub.dev/google/universal-sentence-encoder/4\",\n",
        "                                        input_shape=[],\n",
        "                                        dtype=tf.string,\n",
        "                                        trainable=False,\n",
        "                                        name='USE')"
      ],
      "execution_count": 84,
      "outputs": []
    },
    {
      "cell_type": "code",
      "metadata": {
        "colab": {
          "base_uri": "https://localhost:8080/"
        },
        "id": "UFEI19_Nu9jp",
        "outputId": "6c4990fa-d3f4-4269-d93d-ac6f8c82e742"
      },
      "source": [
        "# Create model using the Sequential API\n",
        "model_6 = tf.keras.Sequential([\n",
        "    sentence_encoder_layer,\n",
        "    layers.Dense(64, activation='relu'),\n",
        "    layers.Dense(1, activation='sigmoid')\n",
        "], name='model_6_USE')\n",
        "\n",
        "# compile\n",
        "model_6.compile(loss='binary_crossentropy',\n",
        "                optimizer=tf.keras.optimizers.Adam(),\n",
        "                metrics=['accuracy'])\n",
        "\n",
        "model_6.summary()"
      ],
      "execution_count": 85,
      "outputs": [
        {
          "output_type": "stream",
          "text": [
            "Model: \"model_6_USE\"\n",
            "_________________________________________________________________\n",
            "Layer (type)                 Output Shape              Param #   \n",
            "=================================================================\n",
            "USE (KerasLayer)             (None, 512)               256797824 \n",
            "_________________________________________________________________\n",
            "dense_5 (Dense)              (None, 64)                32832     \n",
            "_________________________________________________________________\n",
            "dense_6 (Dense)              (None, 1)                 65        \n",
            "=================================================================\n",
            "Total params: 256,830,721\n",
            "Trainable params: 32,897\n",
            "Non-trainable params: 256,797,824\n",
            "_________________________________________________________________\n"
          ],
          "name": "stdout"
        }
      ]
    },
    {
      "cell_type": "code",
      "metadata": {
        "colab": {
          "base_uri": "https://localhost:8080/"
        },
        "id": "8JFI9jozwGus",
        "outputId": "2c25cea3-7809-4790-9229-efe948d22ec5"
      },
      "source": [
        "# Train a classifier on top of USE pretrained embeddings\n",
        "model_6_history = model_6.fit(train_sentences,\n",
        "                              train_labels,\n",
        "                              epochs=5,\n",
        "                              validation_data=(val_sentences, val_labels),\n",
        "                              callbacks=[create_tensorboard_callback(SAVE_DIR,\n",
        "                                                                     'tf_hub_sentence_encoder')])"
      ],
      "execution_count": 86,
      "outputs": [
        {
          "output_type": "stream",
          "text": [
            "Saving TensorBoard log files to: model_logs/tf_hub_sentence_encoder/20210814-021145\n",
            "Epoch 1/5\n",
            "215/215 [==============================] - 7s 23ms/step - loss: 0.5036 - accuracy: 0.7834 - val_loss: 0.4535 - val_accuracy: 0.7992\n",
            "Epoch 2/5\n",
            "215/215 [==============================] - 2s 12ms/step - loss: 0.4152 - accuracy: 0.8161 - val_loss: 0.4451 - val_accuracy: 0.8031\n",
            "Epoch 3/5\n",
            "215/215 [==============================] - 2s 11ms/step - loss: 0.4023 - accuracy: 0.8206 - val_loss: 0.4349 - val_accuracy: 0.8123\n",
            "Epoch 4/5\n",
            "215/215 [==============================] - 2s 11ms/step - loss: 0.3939 - accuracy: 0.8270 - val_loss: 0.4333 - val_accuracy: 0.8123\n",
            "Epoch 5/5\n",
            "215/215 [==============================] - 2s 11ms/step - loss: 0.3867 - accuracy: 0.8283 - val_loss: 0.4289 - val_accuracy: 0.8176\n"
          ],
          "name": "stdout"
        }
      ]
    },
    {
      "cell_type": "code",
      "metadata": {
        "colab": {
          "base_uri": "https://localhost:8080/"
        },
        "id": "v0UaVPyiwht0",
        "outputId": "a513e5c4-1ac5-4574-e051-683e9f42fc95"
      },
      "source": [
        "# Make predictions with USE TF Hub Model\n",
        "model_6_pred_probs =model_6.predict(val_sentences)\n",
        "model_6_pred_probs[:10]"
      ],
      "execution_count": 87,
      "outputs": [
        {
          "output_type": "execute_result",
          "data": {
            "text/plain": [
              "array([[0.19058311],\n",
              "       [0.81795454],\n",
              "       [0.98494   ],\n",
              "       [0.19549306],\n",
              "       [0.76407874],\n",
              "       [0.78138345],\n",
              "       [0.9815438 ],\n",
              "       [0.97956365],\n",
              "       [0.94874424],\n",
              "       [0.10624319]], dtype=float32)"
            ]
          },
          "metadata": {
            "tags": []
          },
          "execution_count": 87
        }
      ]
    },
    {
      "cell_type": "code",
      "metadata": {
        "colab": {
          "base_uri": "https://localhost:8080/"
        },
        "id": "KDbMcjZPwzrn",
        "outputId": "d41f4a79-8136-40a6-92cc-7f452d04f774"
      },
      "source": [
        "# Convert prediction probabilities to labels\n",
        "model_6_preds = tf.squeeze(tf.round(model_6_pred_probs))\n",
        "model_6_preds[:10]"
      ],
      "execution_count": 88,
      "outputs": [
        {
          "output_type": "execute_result",
          "data": {
            "text/plain": [
              "<tf.Tensor: shape=(10,), dtype=float32, numpy=array([0., 1., 1., 0., 1., 1., 1., 1., 1., 0.], dtype=float32)>"
            ]
          },
          "metadata": {
            "tags": []
          },
          "execution_count": 88
        }
      ]
    },
    {
      "cell_type": "code",
      "metadata": {
        "colab": {
          "base_uri": "https://localhost:8080/"
        },
        "id": "hRL6zXPww_1C",
        "outputId": "0ee0217f-8ead-4f2c-e8be-b4e96369b881"
      },
      "source": [
        "# Calculate model 6 performance metrics\n",
        "model_6_results = calculate_results(y_true=val_labels,\n",
        "                                    y_pred=model_6_preds)\n",
        "model_6_results"
      ],
      "execution_count": 89,
      "outputs": [
        {
          "output_type": "execute_result",
          "data": {
            "text/plain": [
              "{'accuracy': 81.75853018372703,\n",
              " 'f1': 0.8168602489629228,\n",
              " 'precison': 0.8179238046805183,\n",
              " 'recall': 0.8175853018372703}"
            ]
          },
          "metadata": {
            "tags": []
          },
          "execution_count": 89
        }
      ]
    },
    {
      "cell_type": "code",
      "metadata": {
        "id": "DkhiobPixYTc",
        "colab": {
          "base_uri": "https://localhost:8080/"
        },
        "outputId": "cc4e1069-74d1-43dd-ac61-997349479939"
      },
      "source": [
        "baseline_results"
      ],
      "execution_count": 90,
      "outputs": [
        {
          "output_type": "execute_result",
          "data": {
            "text/plain": [
              "{'accuracy': 79.26509186351706,\n",
              " 'f1': 0.7862189758049549,\n",
              " 'precison': 0.8111390004213173,\n",
              " 'recall': 0.7926509186351706}"
            ]
          },
          "metadata": {
            "tags": []
          },
          "execution_count": 90
        }
      ]
    },
    {
      "cell_type": "code",
      "metadata": {
        "colab": {
          "base_uri": "https://localhost:8080/"
        },
        "id": "zA1rn4jftN0r",
        "outputId": "3c0d4c44-07a9-4d14-a56b-0d36011858d7"
      },
      "source": [
        "len(train_sentences)"
      ],
      "execution_count": 91,
      "outputs": [
        {
          "output_type": "execute_result",
          "data": {
            "text/plain": [
              "6851"
            ]
          },
          "metadata": {
            "tags": []
          },
          "execution_count": 91
        }
      ]
    },
    {
      "cell_type": "code",
      "metadata": {
        "colab": {
          "base_uri": "https://localhost:8080/"
        },
        "id": "roymg_5KtpOh",
        "outputId": "2404acf6-cfe5-4e44-ec08-ff62545013cf"
      },
      "source": [
        "len(train_df_shuffled)"
      ],
      "execution_count": 92,
      "outputs": [
        {
          "output_type": "execute_result",
          "data": {
            "text/plain": [
              "7613"
            ]
          },
          "metadata": {
            "tags": []
          },
          "execution_count": 92
        }
      ]
    },
    {
      "cell_type": "markdown",
      "metadata": {
        "id": "15lxBq0Et_dA"
      },
      "source": [
        "### Model 7: TF Hub Pretrained USE but with 10% of training data\n",
        "\n",
        "Transfer learning rally helps when you don't have a large dataset.\n",
        "\n",
        "To see how our model performs on a smaller dataset, let's replicate `model_6` except we'll train it on 10% of the data."
      ]
    },
    {
      "cell_type": "markdown",
      "metadata": {
        "id": "shgyAv_B_KAB"
      },
      "source": [
        "> **Note**: Be *very* careful when creating training/val/test splits that you don't leak data across the datasets, otherwise your model evaluation metrics will be wrong. If something looks too good to be true (a model trained on 10% of data outperforming the same model trained on 100 % of data) trust your gut and go back through to find where the error may lie."
      ]
    },
    {
      "cell_type": "code",
      "metadata": {
        "id": "L-gaddWoutpu"
      },
      "source": [
        "## NOTE: Making data splits like below leads to data leakage (model_7 trained on 10% data, outperforms model_6 trained on 100% data)\n",
        "## DO NOT MAKE DATA SPLITS WHICH LEAK DATA VALIDATION/TEST SETS INTO TRAINING SET\n",
        "\n",
        "\n",
        "# # Create subsets of 10% of the training data\n",
        "# train_10_percent  = train_df_shuffled[['text', 'target']].sample(frac=0.1, random_state=42)\n",
        "# #train_10_percent.head(), len(train_10_percent)\n",
        "# train_sentences_10_percent = train_10_percent['text'].to_list()\n",
        "# train_labels_10_percent = train_10_percent['target'].to_list()\n",
        "# len(train_sentences_10_percent), len(train_labels_10_percent)"
      ],
      "execution_count": 93,
      "outputs": []
    },
    {
      "cell_type": "code",
      "metadata": {
        "id": "_Zp0QWHo7B6r"
      },
      "source": [
        "# Making a better dataset split (no data leakage)\n",
        "train_10_percent_split = int(0.1 * len(train_sentences))\n",
        "train_sentences_10_percent = train_sentences[:train_10_percent_split]\n",
        "train_labels_10_percent = train_labels[:train_10_percent_split]"
      ],
      "execution_count": 94,
      "outputs": []
    },
    {
      "cell_type": "code",
      "metadata": {
        "colab": {
          "base_uri": "https://localhost:8080/"
        },
        "id": "tKDlqhBb7prF",
        "outputId": "efbd23a6-cd97-4b4f-f7d5-8314299bc30c"
      },
      "source": [
        "# Check the number of each label in the updated training data\n",
        "pd.Series(np.array(train_labels_10_percent)).value_counts()"
      ],
      "execution_count": 95,
      "outputs": [
        {
          "output_type": "execute_result",
          "data": {
            "text/plain": [
              "0    406\n",
              "1    279\n",
              "dtype: int64"
            ]
          },
          "metadata": {
            "tags": []
          },
          "execution_count": 95
        }
      ]
    },
    {
      "cell_type": "code",
      "metadata": {
        "colab": {
          "base_uri": "https://localhost:8080/"
        },
        "id": "JCxM00F6wPSE",
        "outputId": "7b1be3db-b86d-4b79-8ea0-ac176b057490"
      },
      "source": [
        "# Check the number of targets in our subset of data\n",
        "train_df_shuffled['target'].value_counts()"
      ],
      "execution_count": 96,
      "outputs": [
        {
          "output_type": "execute_result",
          "data": {
            "text/plain": [
              "0    4342\n",
              "1    3271\n",
              "Name: target, dtype: int64"
            ]
          },
          "metadata": {
            "tags": []
          },
          "execution_count": 96
        }
      ]
    },
    {
      "cell_type": "code",
      "metadata": {
        "colab": {
          "base_uri": "https://localhost:8080/"
        },
        "id": "FI2_xN7mwI-3",
        "outputId": "9aa6cfae-3e68-44f2-fc17-2011d4b4ffff"
      },
      "source": [
        "# build model with transfer learning\n",
        "model_7 = tf.keras.Sequential([\n",
        "     sentence_encoder_layer,\n",
        "     layers.Dense(64, activation='relu'),\n",
        "     layers.Dense(1, activation='sigmoid')\n",
        "], name='model_7_USE')\n",
        "\n",
        "# compile the model\n",
        "model_7.compile(loss='binary_crossentropy',\n",
        "                optimizer='adam',\n",
        "                metrics=['accuracy'])\n",
        "\n",
        "# get summary\n",
        "model_7.summary()"
      ],
      "execution_count": 97,
      "outputs": [
        {
          "output_type": "stream",
          "text": [
            "Model: \"model_7_USE\"\n",
            "_________________________________________________________________\n",
            "Layer (type)                 Output Shape              Param #   \n",
            "=================================================================\n",
            "USE (KerasLayer)             (None, 512)               256797824 \n",
            "_________________________________________________________________\n",
            "dense_7 (Dense)              (None, 64)                32832     \n",
            "_________________________________________________________________\n",
            "dense_8 (Dense)              (None, 1)                 65        \n",
            "=================================================================\n",
            "Total params: 256,830,721\n",
            "Trainable params: 32,897\n",
            "Non-trainable params: 256,797,824\n",
            "_________________________________________________________________\n"
          ],
          "name": "stdout"
        }
      ]
    },
    {
      "cell_type": "code",
      "metadata": {
        "colab": {
          "base_uri": "https://localhost:8080/"
        },
        "id": "SHuRor-_xWH1",
        "outputId": "ba8d5504-6a28-4e71-bb5d-8219680ceae0"
      },
      "source": [
        "\n",
        "# Fit the model\n",
        "history_model_7 = model_7.fit(train_sentences_10_percent,\n",
        "                              train_labels_10_percent,\n",
        "                              epochs=5,\n",
        "                              validation_data=(val_sentences, val_labels),\n",
        "                              callbacks=[create_tensorboard_callback(SAVE_DIR,\n",
        "                                                                     \"tf_hub_sentence_encoder_10_percent_correct_split\")])"
      ],
      "execution_count": 98,
      "outputs": [
        {
          "output_type": "stream",
          "text": [
            "Saving TensorBoard log files to: model_logs/tf_hub_sentence_encoder_10_percent_correct_split/20210814-021203\n",
            "Epoch 1/5\n",
            "22/22 [==============================] - 3s 88ms/step - loss: 0.6664 - accuracy: 0.6934 - val_loss: 0.6456 - val_accuracy: 0.7244\n",
            "Epoch 2/5\n",
            "22/22 [==============================] - 1s 25ms/step - loss: 0.5968 - accuracy: 0.7956 - val_loss: 0.5900 - val_accuracy: 0.7677\n",
            "Epoch 3/5\n",
            "22/22 [==============================] - 1s 25ms/step - loss: 0.5226 - accuracy: 0.8234 - val_loss: 0.5377 - val_accuracy: 0.7743\n",
            "Epoch 4/5\n",
            "22/22 [==============================] - 0s 21ms/step - loss: 0.4628 - accuracy: 0.8292 - val_loss: 0.5058 - val_accuracy: 0.7782\n",
            "Epoch 5/5\n",
            "22/22 [==============================] - 0s 20ms/step - loss: 0.4223 - accuracy: 0.8263 - val_loss: 0.4898 - val_accuracy: 0.7769\n"
          ],
          "name": "stdout"
        }
      ]
    },
    {
      "cell_type": "code",
      "metadata": {
        "colab": {
          "base_uri": "https://localhost:8080/"
        },
        "id": "p5e4Cw0tx4A-",
        "outputId": "84e7e50f-18ac-4cf4-ebe1-4460d4f7fe92"
      },
      "source": [
        "# Make prediction\n",
        "model_7_pred_probs = model_7.predict(val_sentences)\n",
        "model_7_pred_probs[:10]"
      ],
      "execution_count": 99,
      "outputs": [
        {
          "output_type": "execute_result",
          "data": {
            "text/plain": [
              "array([[0.2199881 ],\n",
              "       [0.6230476 ],\n",
              "       [0.92296904],\n",
              "       [0.34425378],\n",
              "       [0.5419299 ],\n",
              "       [0.6867169 ],\n",
              "       [0.89622265],\n",
              "       [0.8270145 ],\n",
              "       [0.8573254 ],\n",
              "       [0.16655199]], dtype=float32)"
            ]
          },
          "metadata": {
            "tags": []
          },
          "execution_count": 99
        }
      ]
    },
    {
      "cell_type": "code",
      "metadata": {
        "colab": {
          "base_uri": "https://localhost:8080/"
        },
        "id": "MwE3VvdOyZ-9",
        "outputId": "d0473651-d96b-44b8-ba08-7b299419ba72"
      },
      "source": [
        "# squeeze the model\n",
        "model_7_preds = tf.squeeze(tf.round(model_7_pred_probs))\n",
        "model_7_preds[:10]"
      ],
      "execution_count": 100,
      "outputs": [
        {
          "output_type": "execute_result",
          "data": {
            "text/plain": [
              "<tf.Tensor: shape=(10,), dtype=float32, numpy=array([0., 1., 1., 0., 1., 1., 1., 1., 1., 0.], dtype=float32)>"
            ]
          },
          "metadata": {
            "tags": []
          },
          "execution_count": 100
        }
      ]
    },
    {
      "cell_type": "code",
      "metadata": {
        "colab": {
          "base_uri": "https://localhost:8080/"
        },
        "id": "VajZrpIjyxuN",
        "outputId": "47e3df3a-5686-429c-8234-8362c0d39e0f"
      },
      "source": [
        "# Calculate results\n",
        "model_7_results=calculate_results(val_labels, model_7_preds)\n",
        "model_7_results"
      ],
      "execution_count": 101,
      "outputs": [
        {
          "output_type": "execute_result",
          "data": {
            "text/plain": [
              "{'accuracy': 77.69028871391076,\n",
              " 'f1': 0.7761489754433515,\n",
              " 'precison': 0.7767062620296231,\n",
              " 'recall': 0.7769028871391076}"
            ]
          },
          "metadata": {
            "tags": []
          },
          "execution_count": 101
        }
      ]
    },
    {
      "cell_type": "code",
      "metadata": {
        "colab": {
          "base_uri": "https://localhost:8080/"
        },
        "id": "1KG_uRgY11RX",
        "outputId": "75f75e4f-3823-4273-eb9e-7129c07b3ed1"
      },
      "source": [
        "model_6_results"
      ],
      "execution_count": 102,
      "outputs": [
        {
          "output_type": "execute_result",
          "data": {
            "text/plain": [
              "{'accuracy': 81.75853018372703,\n",
              " 'f1': 0.8168602489629228,\n",
              " 'precison': 0.8179238046805183,\n",
              " 'recall': 0.8175853018372703}"
            ]
          },
          "metadata": {
            "tags": []
          },
          "execution_count": 102
        }
      ]
    },
    {
      "cell_type": "code",
      "metadata": {
        "colab": {
          "base_uri": "https://localhost:8080/"
        },
        "id": "L1E_k5Sz14Lf",
        "outputId": "37a958a9-909a-4df6-a4d3-fa057d1004f3"
      },
      "source": [
        "baseline_results"
      ],
      "execution_count": 103,
      "outputs": [
        {
          "output_type": "execute_result",
          "data": {
            "text/plain": [
              "{'accuracy': 79.26509186351706,\n",
              " 'f1': 0.7862189758049549,\n",
              " 'precison': 0.8111390004213173,\n",
              " 'recall': 0.7926509186351706}"
            ]
          },
          "metadata": {
            "tags": []
          },
          "execution_count": 103
        }
      ]
    },
    {
      "cell_type": "markdown",
      "metadata": {
        "id": "EweYdSkK0HVO"
      },
      "source": [
        "To recreate a model the same as a previous model you've created you can use the `tf.keras.clone_model()` method, see more here: https://www.tensorflow.org/api_docs/python/tf/keras/models/clone_model"
      ]
    },
    {
      "cell_type": "code",
      "metadata": {
        "id": "uWzFDnaPzLxk"
      },
      "source": [
        "# Let's build a model the same as model 6\n",
        "# model_7 = tf.keras.models.clone_model(model_6)\n",
        "\n",
        "# # compile model\n",
        "# model_7.compile(loss='binary_crossentropy',\n",
        "#                 optimizer=tf.keras.optimizers.Adam(),\n",
        "#                 metrics=['accuracy'])\n",
        "\n",
        "# # Get a summary\n",
        "# model_7.summary()"
      ],
      "execution_count": 104,
      "outputs": []
    },
    {
      "cell_type": "markdown",
      "metadata": {
        "id": "ySJ-Ek3rAPDQ"
      },
      "source": [
        "## Comparing the performance of each of our models"
      ]
    },
    {
      "cell_type": "code",
      "metadata": {
        "id": "0w_CwTDH07fT",
        "colab": {
          "base_uri": "https://localhost:8080/",
          "height": 300
        },
        "outputId": "ba18c34a-deb2-4a1f-9ce6-42f78a6e0263"
      },
      "source": [
        "# Combine model results into a DataFrame\n",
        "all_model_results = pd.DataFrame({\"baseline\": baseline_results,\n",
        "                                  \"1_simple_dense\": model_1_results,\n",
        "                                  \"2_lstm\": model_2_results,\n",
        "                                  \"3_gru\": model_3_results,\n",
        "                                  \"4_bidirectional\": model_4_results,\n",
        "                                  \"5_conv1d\": model_5_results,\n",
        "                                  \"6_tf_hub_use_encoder\": model_6_results,\n",
        "                                  \"7_tf_hub_use_encoder_10_percent\": model_7_results})\n",
        "all_model_results = all_model_results.transpose()\n",
        "all_model_results"
      ],
      "execution_count": 105,
      "outputs": [
        {
          "output_type": "execute_result",
          "data": {
            "text/html": [
              "<div>\n",
              "<style scoped>\n",
              "    .dataframe tbody tr th:only-of-type {\n",
              "        vertical-align: middle;\n",
              "    }\n",
              "\n",
              "    .dataframe tbody tr th {\n",
              "        vertical-align: top;\n",
              "    }\n",
              "\n",
              "    .dataframe thead th {\n",
              "        text-align: right;\n",
              "    }\n",
              "</style>\n",
              "<table border=\"1\" class=\"dataframe\">\n",
              "  <thead>\n",
              "    <tr style=\"text-align: right;\">\n",
              "      <th></th>\n",
              "      <th>accuracy</th>\n",
              "      <th>precison</th>\n",
              "      <th>recall</th>\n",
              "      <th>f1</th>\n",
              "    </tr>\n",
              "  </thead>\n",
              "  <tbody>\n",
              "    <tr>\n",
              "      <th>baseline</th>\n",
              "      <td>79.265092</td>\n",
              "      <td>0.811139</td>\n",
              "      <td>0.792651</td>\n",
              "      <td>0.786219</td>\n",
              "    </tr>\n",
              "    <tr>\n",
              "      <th>1_simple_dense</th>\n",
              "      <td>78.346457</td>\n",
              "      <td>0.788004</td>\n",
              "      <td>0.783465</td>\n",
              "      <td>0.780493</td>\n",
              "    </tr>\n",
              "    <tr>\n",
              "      <th>2_lstm</th>\n",
              "      <td>77.296588</td>\n",
              "      <td>0.784444</td>\n",
              "      <td>0.772966</td>\n",
              "      <td>0.767339</td>\n",
              "    </tr>\n",
              "    <tr>\n",
              "      <th>3_gru</th>\n",
              "      <td>77.821522</td>\n",
              "      <td>0.779199</td>\n",
              "      <td>0.778215</td>\n",
              "      <td>0.776621</td>\n",
              "    </tr>\n",
              "    <tr>\n",
              "      <th>4_bidirectional</th>\n",
              "      <td>77.296588</td>\n",
              "      <td>0.774276</td>\n",
              "      <td>0.772966</td>\n",
              "      <td>0.771095</td>\n",
              "    </tr>\n",
              "    <tr>\n",
              "      <th>5_conv1d</th>\n",
              "      <td>75.590551</td>\n",
              "      <td>0.757370</td>\n",
              "      <td>0.755906</td>\n",
              "      <td>0.753552</td>\n",
              "    </tr>\n",
              "    <tr>\n",
              "      <th>6_tf_hub_use_encoder</th>\n",
              "      <td>81.758530</td>\n",
              "      <td>0.817924</td>\n",
              "      <td>0.817585</td>\n",
              "      <td>0.816860</td>\n",
              "    </tr>\n",
              "    <tr>\n",
              "      <th>7_tf_hub_use_encoder_10_percent</th>\n",
              "      <td>77.690289</td>\n",
              "      <td>0.776706</td>\n",
              "      <td>0.776903</td>\n",
              "      <td>0.776149</td>\n",
              "    </tr>\n",
              "  </tbody>\n",
              "</table>\n",
              "</div>"
            ],
            "text/plain": [
              "                                  accuracy  precison    recall        f1\n",
              "baseline                         79.265092  0.811139  0.792651  0.786219\n",
              "1_simple_dense                   78.346457  0.788004  0.783465  0.780493\n",
              "2_lstm                           77.296588  0.784444  0.772966  0.767339\n",
              "3_gru                            77.821522  0.779199  0.778215  0.776621\n",
              "4_bidirectional                  77.296588  0.774276  0.772966  0.771095\n",
              "5_conv1d                         75.590551  0.757370  0.755906  0.753552\n",
              "6_tf_hub_use_encoder             81.758530  0.817924  0.817585  0.816860\n",
              "7_tf_hub_use_encoder_10_percent  77.690289  0.776706  0.776903  0.776149"
            ]
          },
          "metadata": {
            "tags": []
          },
          "execution_count": 105
        }
      ]
    },
    {
      "cell_type": "code",
      "metadata": {
        "colab": {
          "base_uri": "https://localhost:8080/",
          "height": 300
        },
        "id": "BNw9fX3hAh6p",
        "outputId": "9b35c3aa-83ec-42e5-af67-c77c0f9f8ab3"
      },
      "source": [
        "# Reduce the accuracy to the same scale as other metrics\n",
        "all_model_results[\"accuracy\"] = all_model_results[\"accuracy\"]/100\n",
        "all_model_results"
      ],
      "execution_count": 106,
      "outputs": [
        {
          "output_type": "execute_result",
          "data": {
            "text/html": [
              "<div>\n",
              "<style scoped>\n",
              "    .dataframe tbody tr th:only-of-type {\n",
              "        vertical-align: middle;\n",
              "    }\n",
              "\n",
              "    .dataframe tbody tr th {\n",
              "        vertical-align: top;\n",
              "    }\n",
              "\n",
              "    .dataframe thead th {\n",
              "        text-align: right;\n",
              "    }\n",
              "</style>\n",
              "<table border=\"1\" class=\"dataframe\">\n",
              "  <thead>\n",
              "    <tr style=\"text-align: right;\">\n",
              "      <th></th>\n",
              "      <th>accuracy</th>\n",
              "      <th>precison</th>\n",
              "      <th>recall</th>\n",
              "      <th>f1</th>\n",
              "    </tr>\n",
              "  </thead>\n",
              "  <tbody>\n",
              "    <tr>\n",
              "      <th>baseline</th>\n",
              "      <td>0.792651</td>\n",
              "      <td>0.811139</td>\n",
              "      <td>0.792651</td>\n",
              "      <td>0.786219</td>\n",
              "    </tr>\n",
              "    <tr>\n",
              "      <th>1_simple_dense</th>\n",
              "      <td>0.783465</td>\n",
              "      <td>0.788004</td>\n",
              "      <td>0.783465</td>\n",
              "      <td>0.780493</td>\n",
              "    </tr>\n",
              "    <tr>\n",
              "      <th>2_lstm</th>\n",
              "      <td>0.772966</td>\n",
              "      <td>0.784444</td>\n",
              "      <td>0.772966</td>\n",
              "      <td>0.767339</td>\n",
              "    </tr>\n",
              "    <tr>\n",
              "      <th>3_gru</th>\n",
              "      <td>0.778215</td>\n",
              "      <td>0.779199</td>\n",
              "      <td>0.778215</td>\n",
              "      <td>0.776621</td>\n",
              "    </tr>\n",
              "    <tr>\n",
              "      <th>4_bidirectional</th>\n",
              "      <td>0.772966</td>\n",
              "      <td>0.774276</td>\n",
              "      <td>0.772966</td>\n",
              "      <td>0.771095</td>\n",
              "    </tr>\n",
              "    <tr>\n",
              "      <th>5_conv1d</th>\n",
              "      <td>0.755906</td>\n",
              "      <td>0.757370</td>\n",
              "      <td>0.755906</td>\n",
              "      <td>0.753552</td>\n",
              "    </tr>\n",
              "    <tr>\n",
              "      <th>6_tf_hub_use_encoder</th>\n",
              "      <td>0.817585</td>\n",
              "      <td>0.817924</td>\n",
              "      <td>0.817585</td>\n",
              "      <td>0.816860</td>\n",
              "    </tr>\n",
              "    <tr>\n",
              "      <th>7_tf_hub_use_encoder_10_percent</th>\n",
              "      <td>0.776903</td>\n",
              "      <td>0.776706</td>\n",
              "      <td>0.776903</td>\n",
              "      <td>0.776149</td>\n",
              "    </tr>\n",
              "  </tbody>\n",
              "</table>\n",
              "</div>"
            ],
            "text/plain": [
              "                                 accuracy  precison    recall        f1\n",
              "baseline                         0.792651  0.811139  0.792651  0.786219\n",
              "1_simple_dense                   0.783465  0.788004  0.783465  0.780493\n",
              "2_lstm                           0.772966  0.784444  0.772966  0.767339\n",
              "3_gru                            0.778215  0.779199  0.778215  0.776621\n",
              "4_bidirectional                  0.772966  0.774276  0.772966  0.771095\n",
              "5_conv1d                         0.755906  0.757370  0.755906  0.753552\n",
              "6_tf_hub_use_encoder             0.817585  0.817924  0.817585  0.816860\n",
              "7_tf_hub_use_encoder_10_percent  0.776903  0.776706  0.776903  0.776149"
            ]
          },
          "metadata": {
            "tags": []
          },
          "execution_count": 106
        }
      ]
    },
    {
      "cell_type": "code",
      "metadata": {
        "colab": {
          "base_uri": "https://localhost:8080/",
          "height": 554
        },
        "id": "PjTSYADOB4tW",
        "outputId": "691aa465-6fb5-4a58-fa29-6cc07b55041d"
      },
      "source": [
        "# Plot and compare all of the model results\n",
        "all_model_results.plot(kind=\"bar\", figsize=(10,7)).legend(bbox_to_anchor=(1.0, 1.0));"
      ],
      "execution_count": 107,
      "outputs": [
        {
          "output_type": "display_data",
          "data": {
            "image/png": "[encoded data removed]",
            "text/plain": [
              "<Figure size 720x504 with 1 Axes>"
            ]
          },
          "metadata": {
            "tags": [],
            "needs_background": "light"
          }
        }
      ]
    },
    {
      "cell_type": "code",
      "metadata": {
        "colab": {
          "base_uri": "https://localhost:8080/",
          "height": 590
        },
        "id": "ub6l77PiCqSl",
        "outputId": "c61e3209-6dfb-480c-e359-e75f1e4f5493"
      },
      "source": [
        "# Sort model results by f1-socre\n",
        "all_model_results.sort_values(\"f1\", ascending=False)[\"f1\"].plot(kind='bar', figsize=(10,7));"
      ],
      "execution_count": 108,
      "outputs": [
        {
          "output_type": "display_data",
          "data": {
            "image/png": "[encoded data removed]",
            "text/plain": [
              "<Figure size 720x504 with 1 Axes>"
            ]
          },
          "metadata": {
            "tags": [],
            "needs_background": "light"
          }
        }
      ]
    },
    {
      "cell_type": "code",
      "metadata": {
        "id": "ypcNuuBrEEJQ"
      },
      "source": [
        "# EXercise\n",
        "\n",
        "## Uploading our model training logs to TensorBoard.dev\n",
        "# !tensorboard dev upload --logdir model_logs\\\n",
        "#      --name \"Natural Language Processing\""
      ],
      "execution_count": 109,
      "outputs": []
    },
    {
      "cell_type": "code",
      "metadata": {
        "id": "6VJMOP3_FS9E"
      },
      "source": [
        "# !tensorboard dev list"
      ],
      "execution_count": 110,
      "outputs": []
    },
    {
      "cell_type": "markdown",
      "metadata": {
        "id": "GBDGWPTbNDty"
      },
      "source": [
        "### Uploading our model training logs to TensorBoard.dev\n",
        "\n",
        "We can further inspect our model' s performance using TensorBoard.dev: https://tensorboard.dev/"
      ]
    },
    {
      "cell_type": "code",
      "metadata": {
        "id": "t10Ocs9UF8gS",
        "colab": {
          "base_uri": "https://localhost:8080/"
        },
        "outputId": "47055294-1edd-4b46-9a95-28524c842d43"
      },
      "source": [
        "# View TensorBoard logs of transfer learning modelling experiments (plus all of our models)\n",
        "# Upload TensorBoard dev records\n",
        "!tensorboard dev upload --logdir ./model_logs/ \\\n",
        "  --name \"NLP Modelling Experiments ZTM TF Course Video\" \\\n",
        "  --description \"Comparing multiple different types of model architectures on tha Kaggle Tweets text classsification dataset\" \\\n",
        "  --one_shot # exit the uploader once uploading is finished"
      ],
      "execution_count": 111,
      "outputs": [
        {
          "output_type": "stream",
          "text": [
            "2021-08-14 02:12:10.873329: I tensorflow/stream_executor/platform/default/dso_loader.cc:53] Successfully opened dynamic library libcudart.so.11.0\n",
            "\n",
            "***** TensorBoard Uploader *****\n",
            "\n",
            "This will upload your TensorBoard logs to https://tensorboard.dev/ from\n",
            "the following directory:\n",
            "\n",
            "./model_logs/\n",
            "\n",
            "This TensorBoard will be visible to everyone. Do not upload sensitive\n",
            "data.\n",
            "\n",
            "Your use of this service is subject to Google's Terms of Service\n",
            "<https://policies.google.com/terms> and Privacy Policy\n",
            "<https://policies.google.com/privacy>, and TensorBoard.dev's Terms of Service\n",
            "<https://tensorboard.dev/policy/terms/>.\n",
            "\n",
            "This notice will not be shown again while you are logged into the uploader.\n",
            "To log out, run `tensorboard dev auth revoke`.\n",
            "\n",
            "Continue? (yes/NO) no\n"
          ],
          "name": "stdout"
        }
      ]
    },
    {
      "cell_type": "markdown",
      "metadata": {
        "id": "9ONkCRZOOwMf"
      },
      "source": [
        "Now I've ran the cell above, my modelling experiment are visible on TensorBoard dev: https://tensorboard.dev/experiment/477mP8r0S0q1glLJAF6Kfw/\n",
        "\n",
        "> 📝**Resource:** TensorBoard is greate for quickly tracking experiments but for larger scale expereiment tracking optins, check out Weights & Biases: https://wand.ai/site"
      ]
    },
    {
      "cell_type": "code",
      "metadata": {
        "id": "TQqZMdjzP-9V"
      },
      "source": [
        "# # See the previous TensoBoard Dev experiments you've run..\n",
        "# !tensorboard dev list"
      ],
      "execution_count": 112,
      "outputs": []
    },
    {
      "cell_type": "code",
      "metadata": {
        "id": "odHkegtnO73g"
      },
      "source": [
        "# # If you need to delete an experiment from TensorBoard, you can run the following:\n",
        "# !tensorboard dev delete --experiment_id xgdsgaesfadaweg"
      ],
      "execution_count": 113,
      "outputs": []
    },
    {
      "cell_type": "code",
      "metadata": {
        "id": "rtBhpNEWQlX4"
      },
      "source": [
        "## Exericse\n",
        "model_6.save(\"best_performing_model.h5\")"
      ],
      "execution_count": 114,
      "outputs": []
    },
    {
      "cell_type": "markdown",
      "metadata": {
        "id": "i69tJY_1R5pp"
      },
      "source": [
        "## Saving and Loading a trained model\n",
        "\n",
        "There are two main formats to save model to in TensorFlow:\n",
        "1. The HDF5 format\n",
        "2. The `SavedMOdel` format (this is the default when using TensorFlow)"
      ]
    },
    {
      "cell_type": "code",
      "metadata": {
        "id": "SGd8U-4ORvCl"
      },
      "source": [
        "# Save TF Hub sentence Encoder model to HDF5 format\n",
        "model_6.save(\"model_6.h5\")"
      ],
      "execution_count": 115,
      "outputs": []
    },
    {
      "cell_type": "code",
      "metadata": {
        "id": "DaDQN6cwSSBA"
      },
      "source": [
        "# Load model with custom Hub Layer (required HDF5 format)\n",
        "import tensorflow_hub as hub\n",
        "loaded_model_6 = tf.keras.models.load_model(\"model_6.h5\",\n",
        "                                            custom_objects={\"KerasLayer\": hub.KerasLayer})"
      ],
      "execution_count": 116,
      "outputs": []
    },
    {
      "cell_type": "code",
      "metadata": {
        "colab": {
          "base_uri": "https://localhost:8080/"
        },
        "id": "yExvK5JJS-L1",
        "outputId": "92595a8d-6bc4-4b97-d6c1-3f3ed2779b23"
      },
      "source": [
        "# How does our loaded model perform?\n",
        "loaded_model_6.evaluate(val_sentences, val_labels)"
      ],
      "execution_count": 117,
      "outputs": [
        {
          "output_type": "stream",
          "text": [
            "24/24 [==============================] - 1s 9ms/step - loss: 0.4289 - accuracy: 0.8176\n"
          ],
          "name": "stdout"
        },
        {
          "output_type": "execute_result",
          "data": {
            "text/plain": [
              "[0.42893290519714355, 0.817585289478302]"
            ]
          },
          "metadata": {
            "tags": []
          },
          "execution_count": 117
        }
      ]
    },
    {
      "cell_type": "markdown",
      "metadata": {
        "id": "0WcYOgZ3TijJ"
      },
      "source": [
        "Exercise : Read Documentation in TensorFlow : https://www.tensorflow.org/tutorials/keras/save_and_load"
      ]
    },
    {
      "cell_type": "markdown",
      "metadata": {
        "id": "pr4SDhy4TXJw"
      },
      "source": [
        "Now let's save to the `SavedModel` format..(see more on this here:https://www.tensorflow.org/tutorials/keras/save_and_load)"
      ]
    },
    {
      "cell_type": "code",
      "metadata": {
        "colab": {
          "base_uri": "https://localhost:8080/"
        },
        "id": "Ve7gkITNT4su",
        "outputId": "a2532ad8-5ab4-4aec-bdaf-db4ba5a59ecf"
      },
      "source": [
        "# Save TF Hub sentences Encoder model to SavedModel format (default)\n",
        "model_6.save(\"model_6_SavedMOdel_format\")"
      ],
      "execution_count": 118,
      "outputs": [
        {
          "output_type": "stream",
          "text": [
            "WARNING:absl:Function `_wrapped_model` contains input name(s) USE_input with unsupported characters which will be renamed to use_input in the SavedModel.\n"
          ],
          "name": "stderr"
        },
        {
          "output_type": "stream",
          "text": [
            "INFO:tensorflow:Assets written to: model_6_SavedMOdel_format/assets\n"
          ],
          "name": "stdout"
        },
        {
          "output_type": "stream",
          "text": [
            "INFO:tensorflow:Assets written to: model_6_SavedMOdel_format/assets\n"
          ],
          "name": "stderr"
        }
      ]
    },
    {
      "cell_type": "code",
      "metadata": {
        "id": "2pRLjbUeUFF0"
      },
      "source": [
        "# Load in a modelfrom the SavedModel format.\n",
        "loaded_model_6_SavedMOdel_format = tf.keras.models.load_model(\"model_6_SavedMOdel_format\")\n"
      ],
      "execution_count": 119,
      "outputs": []
    },
    {
      "cell_type": "code",
      "metadata": {
        "colab": {
          "base_uri": "https://localhost:8080/"
        },
        "id": "dyQDyCLaU2A8",
        "outputId": "572dc7cf-94ff-4b47-ac15-99b523439cd0"
      },
      "source": [
        "# Evaluate model in SavedModel format\n",
        "loaded_model_6_SavedMOdel_format.evaluate(val_sentences, val_labels)"
      ],
      "execution_count": 120,
      "outputs": [
        {
          "output_type": "stream",
          "text": [
            "24/24 [==============================] - 1s 10ms/step - loss: 0.4289 - accuracy: 0.8176\n"
          ],
          "name": "stdout"
        },
        {
          "output_type": "execute_result",
          "data": {
            "text/plain": [
              "[0.42893290519714355, 0.817585289478302]"
            ]
          },
          "metadata": {
            "tags": []
          },
          "execution_count": 120
        }
      ]
    },
    {
      "cell_type": "markdown",
      "metadata": {
        "id": "YyOODcQRVGB9"
      },
      "source": [
        "## Finding the most wrong examples\n",
        "\n",
        "* If our best model still isn't perfect, what examples is it getting wrong?\n",
        "* And of these wrong examples which ones is it getting *most* wrong (those will prediction probabilities closest to the opposite class)\n",
        "\n",
        "For example if a sample should have a label of 0 but our model predicts a prediction probability of 0.999 (really close to 1) and vice versa."
      ]
    },
    {
      "cell_type": "code",
      "metadata": {
        "colab": {
          "base_uri": "https://localhost:8080/"
        },
        "id": "psxkaP28MMl-",
        "outputId": "546ccc59-ef23-4253-b9f7-58f4f7a29045"
      },
      "source": [
        "# Download a pretrained model from Google Storage\n",
        "!wget https://storage.googleapis.com/ztm_tf_course/08_model_6_USE_feature_extractor.zip\n",
        "\n",
        "!unzip 08_model_6_USE_feature_extractor.zip"
      ],
      "execution_count": 121,
      "outputs": [
        {
          "output_type": "stream",
          "text": [
            "--2021-08-14 02:15:52--  https://storage.googleapis.com/ztm_tf_course/08_model_6_USE_feature_extractor.zip\n",
            "Resolving storage.googleapis.com (storage.googleapis.com)... 142.250.101.128, 142.250.141.128, 142.251.2.128, ...\n",
            "Connecting to storage.googleapis.com (storage.googleapis.com)|142.250.101.128|:443... connected.\n",
            "HTTP request sent, awaiting response... 200 OK\n",
            "Length: 960779165 (916M) [application/zip]\n",
            "Saving to: ‘08_model_6_USE_feature_extractor.zip’\n",
            "\n",
            "08_model_6_USE_feat 100%[===================>] 916.27M  36.1MB/s    in 16s     \n",
            "\n",
            "2021-08-14 02:16:08 (57.5 MB/s) - ‘08_model_6_USE_feature_extractor.zip’ saved [960779165/960779165]\n",
            "\n",
            "Archive:  08_model_6_USE_feature_extractor.zip\n",
            "   creating: 08_model_6_USE_feature_extractor/\n",
            "   creating: 08_model_6_USE_feature_extractor/assets/\n",
            "   creating: 08_model_6_USE_feature_extractor/variables/\n",
            "  inflating: 08_model_6_USE_feature_extractor/variables/variables.data-00000-of-00001  \n",
            "  inflating: 08_model_6_USE_feature_extractor/variables/variables.index  \n",
            "  inflating: 08_model_6_USE_feature_extractor/saved_model.pb  \n"
          ],
          "name": "stdout"
        }
      ]
    },
    {
      "cell_type": "code",
      "metadata": {
        "colab": {
          "base_uri": "https://localhost:8080/"
        },
        "id": "VYZhFQZhMsWd",
        "outputId": "ae297be6-99cf-4dae-a82c-f860f146f979"
      },
      "source": [
        "# Import previously trained model from Google Storage\n",
        "model_6_pretrained = tf.keras.models.load_model(\"08_model_6_USE_feature_extractor\")\n",
        "model_6_pretrained.evaluate(val_sentences, val_labels)"
      ],
      "execution_count": 122,
      "outputs": [
        {
          "output_type": "stream",
          "text": [
            "WARNING:tensorflow:SavedModel saved prior to TF 2.5 detected when loading Keras model. Please ensure that you are saving the model with model.save() or tf.keras.models.save_model(), *NOT* tf.saved_model.save(). To confirm, there should be a file named \"keras_metadata.pb\" in the SavedModel directory.\n"
          ],
          "name": "stdout"
        },
        {
          "output_type": "stream",
          "text": [
            "WARNING:tensorflow:SavedModel saved prior to TF 2.5 detected when loading Keras model. Please ensure that you are saving the model with model.save() or tf.keras.models.save_model(), *NOT* tf.saved_model.save(). To confirm, there should be a file named \"keras_metadata.pb\" in the SavedModel directory.\n"
          ],
          "name": "stderr"
        },
        {
          "output_type": "stream",
          "text": [
            "24/24 [==============================] - 1s 10ms/step - loss: 0.4272 - accuracy: 0.8163\n"
          ],
          "name": "stdout"
        },
        {
          "output_type": "execute_result",
          "data": {
            "text/plain": [
              "[0.42723122239112854, 0.8162729740142822]"
            ]
          },
          "metadata": {
            "tags": []
          },
          "execution_count": 122
        }
      ]
    },
    {
      "cell_type": "code",
      "metadata": {
        "colab": {
          "base_uri": "https://localhost:8080/"
        },
        "id": "_2sBwFY7NWT0",
        "outputId": "cf1c94ef-adea-4903-c494-db7917874489"
      },
      "source": [
        "# Make predictions with the loaded model from GS\n",
        "model_6_pretrained_pred_probs = model_6_pretrained.predict(val_sentences)\n",
        "model_6_pretrained_preds = tf.squeeze(tf.round(model_6_pretrained_pred_probs))\n",
        "model_6_pretrained_preds[:10] # these should be in label format"
      ],
      "execution_count": 123,
      "outputs": [
        {
          "output_type": "execute_result",
          "data": {
            "text/plain": [
              "<tf.Tensor: shape=(10,), dtype=float32, numpy=array([0., 1., 1., 0., 1., 1., 1., 1., 1., 0.], dtype=float32)>"
            ]
          },
          "metadata": {
            "tags": []
          },
          "execution_count": 123
        }
      ]
    },
    {
      "cell_type": "code",
      "metadata": {
        "colab": {
          "base_uri": "https://localhost:8080/",
          "height": 206
        },
        "id": "9dMj3ci0Lxyv",
        "outputId": "35e65a76-eb58-4d20-8588-22a0968227e3"
      },
      "source": [
        "# Create DataFrame with validation sentences, validation labels and best performing model prediction labels + probabilities\n",
        "val_df = pd.DataFrame({\"text\": val_sentences,\n",
        "                       \"target\": val_labels,\n",
        "                       \"pred\": model_6_pretrained_preds,\n",
        "                       \"pred_prob\": tf.squeeze(model_6_pretrained_pred_probs)})\n",
        "\n",
        "val_df.head()"
      ],
      "execution_count": 124,
      "outputs": [
        {
          "output_type": "execute_result",
          "data": {
            "text/html": [
              "<div>\n",
              "<style scoped>\n",
              "    .dataframe tbody tr th:only-of-type {\n",
              "        vertical-align: middle;\n",
              "    }\n",
              "\n",
              "    .dataframe tbody tr th {\n",
              "        vertical-align: top;\n",
              "    }\n",
              "\n",
              "    .dataframe thead th {\n",
              "        text-align: right;\n",
              "    }\n",
              "</style>\n",
              "<table border=\"1\" class=\"dataframe\">\n",
              "  <thead>\n",
              "    <tr style=\"text-align: right;\">\n",
              "      <th></th>\n",
              "      <th>text</th>\n",
              "      <th>target</th>\n",
              "      <th>pred</th>\n",
              "      <th>pred_prob</th>\n",
              "    </tr>\n",
              "  </thead>\n",
              "  <tbody>\n",
              "    <tr>\n",
              "      <th>0</th>\n",
              "      <td>DFR EP016 Monthly Meltdown - On Dnbheaven 2015...</td>\n",
              "      <td>0</td>\n",
              "      <td>0.0</td>\n",
              "      <td>0.159757</td>\n",
              "    </tr>\n",
              "    <tr>\n",
              "      <th>1</th>\n",
              "      <td>FedEx no longer to transport bioterror germs i...</td>\n",
              "      <td>0</td>\n",
              "      <td>1.0</td>\n",
              "      <td>0.747162</td>\n",
              "    </tr>\n",
              "    <tr>\n",
              "      <th>2</th>\n",
              "      <td>Gunmen kill four in El Salvador bus attack: Su...</td>\n",
              "      <td>1</td>\n",
              "      <td>1.0</td>\n",
              "      <td>0.988749</td>\n",
              "    </tr>\n",
              "    <tr>\n",
              "      <th>3</th>\n",
              "      <td>@camilacabello97 Internally and externally scr...</td>\n",
              "      <td>1</td>\n",
              "      <td>0.0</td>\n",
              "      <td>0.196229</td>\n",
              "    </tr>\n",
              "    <tr>\n",
              "      <th>4</th>\n",
              "      <td>Radiation emergency #preparedness starts with ...</td>\n",
              "      <td>1</td>\n",
              "      <td>1.0</td>\n",
              "      <td>0.707808</td>\n",
              "    </tr>\n",
              "  </tbody>\n",
              "</table>\n",
              "</div>"
            ],
            "text/plain": [
              "                                                text  target  pred  pred_prob\n",
              "0  DFR EP016 Monthly Meltdown - On Dnbheaven 2015...       0   0.0   0.159757\n",
              "1  FedEx no longer to transport bioterror germs i...       0   1.0   0.747162\n",
              "2  Gunmen kill four in El Salvador bus attack: Su...       1   1.0   0.988749\n",
              "3  @camilacabello97 Internally and externally scr...       1   0.0   0.196229\n",
              "4  Radiation emergency #preparedness starts with ...       1   1.0   0.707808"
            ]
          },
          "metadata": {
            "tags": []
          },
          "execution_count": 124
        }
      ]
    },
    {
      "cell_type": "code",
      "metadata": {
        "colab": {
          "base_uri": "https://localhost:8080/",
          "height": 363
        },
        "id": "QJ0wPJjBOgXm",
        "outputId": "4ee06411-6a6c-4c07-c16a-037adcc0dd74"
      },
      "source": [
        "# Find the wrong predictions and sort by prediction probabilities\n",
        "most_wrong = val_df[val_df[\"target\"] != val_df[\"pred\"]].sort_values(\"pred_prob\", ascending=False)\n",
        "most_wrong[:10] # these are false positive"
      ],
      "execution_count": 125,
      "outputs": [
        {
          "output_type": "execute_result",
          "data": {
            "text/html": [
              "<div>\n",
              "<style scoped>\n",
              "    .dataframe tbody tr th:only-of-type {\n",
              "        vertical-align: middle;\n",
              "    }\n",
              "\n",
              "    .dataframe tbody tr th {\n",
              "        vertical-align: top;\n",
              "    }\n",
              "\n",
              "    .dataframe thead th {\n",
              "        text-align: right;\n",
              "    }\n",
              "</style>\n",
              "<table border=\"1\" class=\"dataframe\">\n",
              "  <thead>\n",
              "    <tr style=\"text-align: right;\">\n",
              "      <th></th>\n",
              "      <th>text</th>\n",
              "      <th>target</th>\n",
              "      <th>pred</th>\n",
              "      <th>pred_prob</th>\n",
              "    </tr>\n",
              "  </thead>\n",
              "  <tbody>\n",
              "    <tr>\n",
              "      <th>31</th>\n",
              "      <td>? High Skies - Burning Buildings ? http://t.co...</td>\n",
              "      <td>0</td>\n",
              "      <td>1.0</td>\n",
              "      <td>0.910196</td>\n",
              "    </tr>\n",
              "    <tr>\n",
              "      <th>759</th>\n",
              "      <td>FedEx will no longer transport bioterror patho...</td>\n",
              "      <td>0</td>\n",
              "      <td>1.0</td>\n",
              "      <td>0.876982</td>\n",
              "    </tr>\n",
              "    <tr>\n",
              "      <th>628</th>\n",
              "      <td>@noah_anyname That's where the concentration c...</td>\n",
              "      <td>0</td>\n",
              "      <td>1.0</td>\n",
              "      <td>0.852300</td>\n",
              "    </tr>\n",
              "    <tr>\n",
              "      <th>209</th>\n",
              "      <td>Ashes 2015: AustraliaÛªs collapse at Trent Br...</td>\n",
              "      <td>0</td>\n",
              "      <td>1.0</td>\n",
              "      <td>0.835454</td>\n",
              "    </tr>\n",
              "    <tr>\n",
              "      <th>251</th>\n",
              "      <td>@AshGhebranious civil rights continued in the ...</td>\n",
              "      <td>0</td>\n",
              "      <td>1.0</td>\n",
              "      <td>0.827213</td>\n",
              "    </tr>\n",
              "    <tr>\n",
              "      <th>393</th>\n",
              "      <td>@SonofLiberty357 all illuminated by the bright...</td>\n",
              "      <td>0</td>\n",
              "      <td>1.0</td>\n",
              "      <td>0.814816</td>\n",
              "    </tr>\n",
              "    <tr>\n",
              "      <th>109</th>\n",
              "      <td>[55436] 1950 LIONEL TRAINS SMOKE LOCOMOTIVES W...</td>\n",
              "      <td>0</td>\n",
              "      <td>1.0</td>\n",
              "      <td>0.810840</td>\n",
              "    </tr>\n",
              "    <tr>\n",
              "      <th>49</th>\n",
              "      <td>@madonnamking RSPCA site multiple 7 story high...</td>\n",
              "      <td>0</td>\n",
              "      <td>1.0</td>\n",
              "      <td>0.803122</td>\n",
              "    </tr>\n",
              "    <tr>\n",
              "      <th>119</th>\n",
              "      <td>@freefromwolves GodsLove &amp;amp; #thankU brother...</td>\n",
              "      <td>0</td>\n",
              "      <td>1.0</td>\n",
              "      <td>0.766901</td>\n",
              "    </tr>\n",
              "    <tr>\n",
              "      <th>344</th>\n",
              "      <td>Air Group is here to the rescue! We have 24/7 ...</td>\n",
              "      <td>0</td>\n",
              "      <td>1.0</td>\n",
              "      <td>0.766625</td>\n",
              "    </tr>\n",
              "  </tbody>\n",
              "</table>\n",
              "</div>"
            ],
            "text/plain": [
              "                                                  text  target  pred  pred_prob\n",
              "31   ? High Skies - Burning Buildings ? http://t.co...       0   1.0   0.910196\n",
              "759  FedEx will no longer transport bioterror patho...       0   1.0   0.876982\n",
              "628  @noah_anyname That's where the concentration c...       0   1.0   0.852300\n",
              "209  Ashes 2015: AustraliaÛªs collapse at Trent Br...       0   1.0   0.835454\n",
              "251  @AshGhebranious civil rights continued in the ...       0   1.0   0.827213\n",
              "393  @SonofLiberty357 all illuminated by the bright...       0   1.0   0.814816\n",
              "109  [55436] 1950 LIONEL TRAINS SMOKE LOCOMOTIVES W...       0   1.0   0.810840\n",
              "49   @madonnamking RSPCA site multiple 7 story high...       0   1.0   0.803122\n",
              "119  @freefromwolves GodsLove &amp; #thankU brother...       0   1.0   0.766901\n",
              "344  Air Group is here to the rescue! We have 24/7 ...       0   1.0   0.766625"
            ]
          },
          "metadata": {
            "tags": []
          },
          "execution_count": 125
        }
      ]
    },
    {
      "cell_type": "markdown",
      "metadata": {
        "id": "F39ps28pPrif"
      },
      "source": [
        "Let's remind ourselves of the target labels...\n",
        "* 0 = not disaster\n",
        "* 1 = disaster"
      ]
    },
    {
      "cell_type": "code",
      "metadata": {
        "colab": {
          "base_uri": "https://localhost:8080/",
          "height": 206
        },
        "id": "8PgSw8H1Pc10",
        "outputId": "7b0e9be8-fd42-4ace-f4e0-660638ef0184"
      },
      "source": [
        "most_wrong.tail() # these are false negative"
      ],
      "execution_count": 126,
      "outputs": [
        {
          "output_type": "execute_result",
          "data": {
            "text/html": [
              "<div>\n",
              "<style scoped>\n",
              "    .dataframe tbody tr th:only-of-type {\n",
              "        vertical-align: middle;\n",
              "    }\n",
              "\n",
              "    .dataframe tbody tr th {\n",
              "        vertical-align: top;\n",
              "    }\n",
              "\n",
              "    .dataframe thead th {\n",
              "        text-align: right;\n",
              "    }\n",
              "</style>\n",
              "<table border=\"1\" class=\"dataframe\">\n",
              "  <thead>\n",
              "    <tr style=\"text-align: right;\">\n",
              "      <th></th>\n",
              "      <th>text</th>\n",
              "      <th>target</th>\n",
              "      <th>pred</th>\n",
              "      <th>pred_prob</th>\n",
              "    </tr>\n",
              "  </thead>\n",
              "  <tbody>\n",
              "    <tr>\n",
              "      <th>411</th>\n",
              "      <td>@SoonerMagic_ I mean I'm a fan but I don't nee...</td>\n",
              "      <td>1</td>\n",
              "      <td>0.0</td>\n",
              "      <td>0.043918</td>\n",
              "    </tr>\n",
              "    <tr>\n",
              "      <th>233</th>\n",
              "      <td>I get to smoke my shit in peace</td>\n",
              "      <td>1</td>\n",
              "      <td>0.0</td>\n",
              "      <td>0.042087</td>\n",
              "    </tr>\n",
              "    <tr>\n",
              "      <th>38</th>\n",
              "      <td>Why are you deluged with low self-image? Take ...</td>\n",
              "      <td>1</td>\n",
              "      <td>0.0</td>\n",
              "      <td>0.038998</td>\n",
              "    </tr>\n",
              "    <tr>\n",
              "      <th>244</th>\n",
              "      <td>Reddit Will Now QuarantineÛ_ http://t.co/pkUA...</td>\n",
              "      <td>1</td>\n",
              "      <td>0.0</td>\n",
              "      <td>0.038949</td>\n",
              "    </tr>\n",
              "    <tr>\n",
              "      <th>23</th>\n",
              "      <td>Ron &amp;amp; Fez - Dave's High School Crush https...</td>\n",
              "      <td>1</td>\n",
              "      <td>0.0</td>\n",
              "      <td>0.037186</td>\n",
              "    </tr>\n",
              "  </tbody>\n",
              "</table>\n",
              "</div>"
            ],
            "text/plain": [
              "                                                  text  target  pred  pred_prob\n",
              "411  @SoonerMagic_ I mean I'm a fan but I don't nee...       1   0.0   0.043918\n",
              "233                    I get to smoke my shit in peace       1   0.0   0.042087\n",
              "38   Why are you deluged with low self-image? Take ...       1   0.0   0.038998\n",
              "244  Reddit Will Now QuarantineÛ_ http://t.co/pkUA...       1   0.0   0.038949\n",
              "23   Ron &amp; Fez - Dave's High School Crush https...       1   0.0   0.037186"
            ]
          },
          "metadata": {
            "tags": []
          },
          "execution_count": 126
        }
      ]
    },
    {
      "cell_type": "code",
      "metadata": {
        "colab": {
          "base_uri": "https://localhost:8080/"
        },
        "id": "qJSrdX2yP80C",
        "outputId": "725f444f-1cfc-49a5-f284-9a6e7a4464e8"
      },
      "source": [
        "# Check the false positives (model predicted 1 when should've been 0)\n",
        "for row in most_wrong[:10].itertuples():\n",
        "  _, text, target, pred, pred_prob = row\n",
        "  print(f\"Target: {target}, Pred: {pred}, Prob: {pred_prob}\")\n",
        "  print(f\"Text:\\n{text}\\n\")\n",
        "  print(\"-----\\n\")"
      ],
      "execution_count": 127,
      "outputs": [
        {
          "output_type": "stream",
          "text": [
            "Target: 0, Pred: 1.0, Prob: 0.9101957678794861\n",
            "Text:\n",
            "? High Skies - Burning Buildings ? http://t.co/uVq41i3Kx2 #nowplaying\n",
            "\n",
            "-----\n",
            "\n",
            "Target: 0, Pred: 1.0, Prob: 0.8769821524620056\n",
            "Text:\n",
            "FedEx will no longer transport bioterror pathogens in wake of anthrax lab mishaps http://t.co/lHpgxc4b8J\n",
            "\n",
            "-----\n",
            "\n",
            "Target: 0, Pred: 1.0, Prob: 0.8523001074790955\n",
            "Text:\n",
            "@noah_anyname That's where the concentration camps and mass murder come in. \n",
            " \n",
            "EVERY. FUCKING. TIME.\n",
            "\n",
            "-----\n",
            "\n",
            "Target: 0, Pred: 1.0, Prob: 0.8354544043540955\n",
            "Text:\n",
            "Ashes 2015: AustraliaÛªs collapse at Trent Bridge among worst in history: England bundled out Australia for 60 ... http://t.co/t5TrhjUAU0\n",
            "\n",
            "-----\n",
            "\n",
            "Target: 0, Pred: 1.0, Prob: 0.8272132873535156\n",
            "Text:\n",
            "@AshGhebranious civil rights continued in the 60s. And what about trans-generational trauma? if anything we should listen to the Americans.\n",
            "\n",
            "-----\n",
            "\n",
            "Target: 0, Pred: 1.0, Prob: 0.814815878868103\n",
            "Text:\n",
            "@SonofLiberty357 all illuminated by the brightly burning buildings all around the town!\n",
            "\n",
            "-----\n",
            "\n",
            "Target: 0, Pred: 1.0, Prob: 0.8108397126197815\n",
            "Text:\n",
            "[55436] 1950 LIONEL TRAINS SMOKE LOCOMOTIVES WITH MAGNE-TRACTION INSTRUCTIONS http://t.co/xEZBs3sq0y http://t.co/C2x0QoKGlY\n",
            "\n",
            "-----\n",
            "\n",
            "Target: 0, Pred: 1.0, Prob: 0.80312180519104\n",
            "Text:\n",
            "@madonnamking RSPCA site multiple 7 story high rise buildings next to low density character residential in an area that floods\n",
            "\n",
            "-----\n",
            "\n",
            "Target: 0, Pred: 1.0, Prob: 0.7669008374214172\n",
            "Text:\n",
            "@freefromwolves GodsLove &amp; #thankU brother Danny for RT of NEW VIDEO http://t.co/cybKsXHF7d The Coming Apocalyptic US Earthquake &amp; Tsunami\n",
            "\n",
            "-----\n",
            "\n",
            "Target: 0, Pred: 1.0, Prob: 0.7666252851486206\n",
            "Text:\n",
            "Air Group is here to the rescue! We have 24/7 Emergency Service! Learn more about it here - http://t.co/9lyx7zMtHE http://t.co/5PbC96rTMJ\n",
            "\n",
            "-----\n",
            "\n"
          ],
          "name": "stdout"
        }
      ]
    },
    {
      "cell_type": "code",
      "metadata": {
        "colab": {
          "base_uri": "https://localhost:8080/"
        },
        "id": "Vsh04jrbRu9x",
        "outputId": "6b0c7021-1822-4c2d-9efd-d18094884775"
      },
      "source": [
        "# Check the false negatives (model predicted 0 when should've been 1)\n",
        "for row in most_wrong[-10:].itertuples():\n",
        "  _, text, target, pred, pred_prob = row\n",
        "  print(f\"Target: {target}, Pred: {pred}, Prob: {pred_prob}\")\n",
        "  print(f\"Text:\\n{text}\\n\")\n",
        "  print(\"-----\\n\")"
      ],
      "execution_count": 128,
      "outputs": [
        {
          "output_type": "stream",
          "text": [
            "Target: 1, Pred: 0.0, Prob: 0.06730346381664276\n",
            "Text:\n",
            "@DavidVonderhaar At least you were sincere ??\n",
            "\n",
            "-----\n",
            "\n",
            "Target: 1, Pred: 0.0, Prob: 0.055075809359550476\n",
            "Text:\n",
            "@willienelson We need help! Horses will die!Please RT &amp; sign petition!Take a stand &amp; be a voice for them! #gilbert23 https://t.co/e8dl1lNCVu\n",
            "\n",
            "-----\n",
            "\n",
            "Target: 1, Pred: 0.0, Prob: 0.05460337549448013\n",
            "Text:\n",
            "Lucas Duda is Ghost Rider. Not the Nic Cage version but an actual 'engulfed in flames' badass. #Mets\n",
            "\n",
            "-----\n",
            "\n",
            "Target: 1, Pred: 0.0, Prob: 0.054596975445747375\n",
            "Text:\n",
            "going to redo my nails and watch behind the scenes of desolation of smaug ayyy\n",
            "\n",
            "-----\n",
            "\n",
            "Target: 1, Pred: 0.0, Prob: 0.049637261778116226\n",
            "Text:\n",
            "You can never escape me. Bullets don't harm me. Nothing harms me. But I know pain. I know pain. Sometimes I share it. With someone like you.\n",
            "\n",
            "-----\n",
            "\n",
            "Target: 1, Pred: 0.0, Prob: 0.043918490409851074\n",
            "Text:\n",
            "@SoonerMagic_ I mean I'm a fan but I don't need a girl sounding off like a damn siren\n",
            "\n",
            "-----\n",
            "\n",
            "Target: 1, Pred: 0.0, Prob: 0.042086850851774216\n",
            "Text:\n",
            "I get to smoke my shit in peace\n",
            "\n",
            "-----\n",
            "\n",
            "Target: 1, Pred: 0.0, Prob: 0.03899792954325676\n",
            "Text:\n",
            "Why are you deluged with low self-image? Take the quiz: http://t.co/XsPqdOrIqj http://t.co/CQYvFR4UCy\n",
            "\n",
            "-----\n",
            "\n",
            "Target: 1, Pred: 0.0, Prob: 0.038949452340602875\n",
            "Text:\n",
            "Reddit Will Now QuarantineÛ_ http://t.co/pkUAMXw6pm #onlinecommunities #reddit #amageddon #freespeech #Business http://t.co/PAWvNJ4sAP\n",
            "\n",
            "-----\n",
            "\n",
            "Target: 1, Pred: 0.0, Prob: 0.03718579187989235\n",
            "Text:\n",
            "Ron &amp; Fez - Dave's High School Crush https://t.co/aN3W16c8F6 via @YouTube\n",
            "\n",
            "-----\n",
            "\n"
          ],
          "name": "stdout"
        }
      ]
    },
    {
      "cell_type": "markdown",
      "metadata": {
        "id": "buSbwovNSwJ4"
      },
      "source": [
        "## Making predictions on the test dataset"
      ]
    },
    {
      "cell_type": "code",
      "metadata": {
        "colab": {
          "base_uri": "https://localhost:8080/"
        },
        "id": "RpfYmvIxdKfo",
        "outputId": "d649bba7-fded-40c5-f406-3fe4d2197849"
      },
      "source": [
        "# Making predictions on the test dataset and visualizing them \n",
        "test_sentences = test_df['text'].to_list()\n",
        "test_samples = random.sample(test_sentences, 10)\n",
        "for test_samples in test_samples:\n",
        "  pred_prob = tf.squeeze(model_6_pretrained.predict([test_samples])) # our model expects as input\n",
        "  pred = tf.round(pred_prob)\n",
        "  print(f\"Pred: {int(pred)}, Prob: {pred_prob}\")\n",
        "  print(f\"Text:\\n{test_samples}\\n\")\n",
        "  print(\"---\\n\")"
      ],
      "execution_count": 131,
      "outputs": [
        {
          "output_type": "stream",
          "text": [
            "Pred: 1, Prob: 0.6952428221702576\n",
            "Text:\n",
            "Refugees as citizens - The Hindu http://t.co/GJSaAf3U6K\n",
            "\n",
            "---\n",
            "\n",
            "Pred: 0, Prob: 0.2506030797958374\n",
            "Text:\n",
            "Next up: a charity program for disadvantaged people displaced by the tech boom in SF based on Tinder technology.  https://t.co/yNVz1WrgtN\n",
            "\n",
            "---\n",
            "\n",
            "Pred: 1, Prob: 0.8823904395103455\n",
            "Text:\n",
            "New warning for Central Hills 1' hail 60 mph winds. NOT affecting Sturgis but could later tonight. #KOTAWeather http://t.co/E8oUxVKuTE\n",
            "\n",
            "---\n",
            "\n",
            "Pred: 0, Prob: 0.09878772497177124\n",
            "Text:\n",
            "?????? FREE!!! ÛÏThis book will blow your mindÛ_Û ??????\n",
            "\n",
            "'Suspense danger anger love and (most importantly)... http://t.co/nzN5nTPn75\n",
            "\n",
            "---\n",
            "\n",
            "Pred: 1, Prob: 0.5278408527374268\n",
            "Text:\n",
            "@davej798 @JohnEJefferson remind me when SomaliaEritrea &amp; Nigeria were bombed by UK 28% of asylum applicants to UK 2014 were from S &amp; E\n",
            "\n",
            "---\n",
            "\n",
            "Pred: 0, Prob: 0.47166600823402405\n",
            "Text:\n",
            "Fotoset: ÛÏYou are the person who survived a bunch of rainstorms and kept walking. I now believe that pain... http://t.co/xEGNtXnH3B\n",
            "\n",
            "---\n",
            "\n",
            "Pred: 0, Prob: 0.09467310458421707\n",
            "Text:\n",
            "I collapsed in the bathroom bcuz of Michael.\n",
            "\n",
            "---\n",
            "\n",
            "Pred: 1, Prob: 0.9632819294929504\n",
            "Text:\n",
            "International News Û¢åÊ'Nigeria suicide bomb kills at least seven at market ' via @233liveOnline. Full story at http://t.co/MtTdvy6141\n",
            "\n",
            "---\n",
            "\n",
            "Pred: 0, Prob: 0.22697019577026367\n",
            "Text:\n",
            "new name: mudslide\n",
            "\n",
            "---\n",
            "\n",
            "Pred: 0, Prob: 0.36917752027511597\n",
            "Text:\n",
            "Swansea ?plot hijack transfer move for Southampton target Virgil van Dijk? http://t.co/UOq87SP5JP\n",
            "\n",
            "---\n",
            "\n"
          ],
          "name": "stdout"
        }
      ]
    },
    {
      "cell_type": "markdown",
      "metadata": {
        "id": "F_L12KFpd-Jr"
      },
      "source": [
        "### Your challenge...predictiong on Tweets from the wild\n",
        "\n",
        "Go to your favourite Twitter account and Copy one of their latest Tweets.\n",
        "\n",
        "Then pass that Tweet through our trained model\n",
        "\n",
        "Is that Tweet a disaster or not disaster( according to the model)? Is the model right or wrong?"
      ]
    },
    {
      "cell_type": "code",
      "metadata": {
        "colab": {
          "base_uri": "https://localhost:8080/"
        },
        "id": "v3eT80Qaf3Kq",
        "outputId": "2371c23e-0d80-48ce-dca0-fd504fa9f502"
      },
      "source": [
        "tweet = \"Draft number 5 of my first novel finished and printed.It’s called Charlie Walks.And it’s about a machine learning engineer who wants to be a writer.These words are very close to what’ll be in the final version.Coming soon.\"\n",
        "model_pred_probs = tf.squeeze(model_6_pretrained.predict([tweet]))\n",
        "model_preds = tf.round(model_pred_probs)\n",
        "print(f\"Pred: {int(model_preds)}, Prob: {model_pred_probs}\")\n",
        "print(\"---\\n\")"
      ],
      "execution_count": 134,
      "outputs": [
        {
          "output_type": "stream",
          "text": [
            "Pred: 0, Prob: 0.06341584771871567\n",
            "---\n",
            "\n"
          ],
          "name": "stdout"
        }
      ]
    },
    {
      "cell_type": "code",
      "metadata": {
        "colab": {
          "base_uri": "https://localhost:8080/"
        },
        "id": "xFqtpZTbhP6E",
        "outputId": "a891cfd7-5489-4a9a-97f5-9dd74f14fa93"
      },
      "source": [
        "tweet= 'when you fix a tensor shape issue'\n",
        "model_pred_probs = tf.squeeze(model_6_pretrained.predict([tweet]))\n",
        "model_preds = tf.round(model_preds_probs)\n",
        "print(f\"Pred: {int(model_preds)}, prob:{model_pred_probs}\")"
      ],
      "execution_count": 138,
      "outputs": [
        {
          "output_type": "stream",
          "text": [
            "Pred: 0, prob:0.09635080397129059\n"
          ],
          "name": "stdout"
        }
      ]
    },
    {
      "cell_type": "code",
      "metadata": {
        "colab": {
          "base_uri": "https://localhost:8080/"
        },
        "id": "KUk81rOUh5H7",
        "outputId": "6cd1fd4e-766e-4f64-b9d1-f41cf4457ba6"
      },
      "source": [
        "tweet = \"Found a YouTube channel dedicated to raising a pet seagull.Great alternative to college\"\n",
        "model_pred_probs = tf.squeeze(model_6_pretrained.predict([tweet]))\n",
        "model_preds = tf.round(model_preds_probs)\n",
        "print(f\"Pred: {int(model_preds)}, prob:{model_pred_probs}\")"
      ],
      "execution_count": 137,
      "outputs": [
        {
          "output_type": "stream",
          "text": [
            "Pred: 0, prob:0.03306401148438454\n"
          ],
          "name": "stdout"
        }
      ]
    },
    {
      "cell_type": "code",
      "metadata": {
        "colab": {
          "base_uri": "https://localhost:8080/"
        },
        "id": "gOtA8uKfijN-",
        "outputId": "f79d4a59-5735-4fd2-9209-2471b43e7784"
      },
      "source": [
        "def tweet_disaster(tweets, model):\n",
        "  model_preds_probs = tf.squeeze(model.predict([tweets]))\n",
        "  model_preds = tf.round(model_preds_probs)\n",
        "  print(f\"Prediction: {int(model_preds)}, Prediction_Probabilities: {model_preds_probs}\")\n",
        "\n",
        "\n",
        "tweet_1 = \"Neeraj Chopra of #IND takes #gold in the #Athletics men’s javelin final on his Olympic debut!\"\n",
        "tweet = tweet_disaster(tweets=tweet_1, model=model_6_pretrained)\n",
        "\n",
        "tweet_2 = \"\""
      ],
      "execution_count": 142,
      "outputs": [
        {
          "output_type": "stream",
          "text": [
            "Prediction: 0, Prediction_Probabilities: 0.11184557527303696\n"
          ],
          "name": "stdout"
        }
      ]
    },
    {
      "cell_type": "markdown",
      "metadata": {
        "id": "Ln0xAc7jfxna"
      },
      "source": [
        "## The speed/score tradeoff"
      ]
    },
    {
      "cell_type": "code",
      "metadata": {
        "id": "GDJTl6NViNjk"
      },
      "source": [
        "# Let's make a function to measure the time of prediction \n",
        "import time\n",
        "def pred_timer(model, samples):\n",
        "  \"\"\"\n",
        "  Times how long a model takes to make predictions on samples.\n",
        "\n",
        "  \"\"\"\n",
        "\n",
        "  start_time = time.perf_counter() # get start time\n",
        "  model.predict(samples) # make predictions\n",
        "  end_time = time.perf_counter() # get finish time\n",
        "  total_time = end_time - start_time # Calculate how long predictions took to make predictions\n",
        "  time_per_pred = total_time/len(samples)\n",
        "  return total_time, time_per_pred"
      ],
      "execution_count": 143,
      "outputs": []
    },
    {
      "cell_type": "code",
      "metadata": {
        "colab": {
          "base_uri": "https://localhost:8080/"
        },
        "id": "6XUct4Ucl_ZJ",
        "outputId": "66bf0ad2-672b-450f-8718-e78d032d91c3"
      },
      "source": [
        "# Calculate TF Hub Sentence Encoder time per pred\n",
        "model_6_total_pred_time, model_6_time_per_pred = pred_timer(model=model_6_pretrained,\n",
        "                                                           samples=val_sentences)\n",
        "model_6_total_pred_time, model_6_time_per_pred"
      ],
      "execution_count": 145,
      "outputs": [
        {
          "output_type": "execute_result",
          "data": {
            "text/plain": [
              "(0.22265197500018985, 0.00029219419291363495)"
            ]
          },
          "metadata": {
            "tags": []
          },
          "execution_count": 145
        }
      ]
    },
    {
      "cell_type": "code",
      "metadata": {
        "colab": {
          "base_uri": "https://localhost:8080/"
        },
        "id": "7ja4_g9TmV17",
        "outputId": "064d1c85-b03b-47c4-a80c-bb454a1f3319"
      },
      "source": [
        "# Calculate our baseline model times per pred\n",
        "baseline_total_pred_time, baseline_time_per_pred = pred_timer(model_0, val_sentences)\n",
        "baseline_total_pred_time, baseline_time_per_pred"
      ],
      "execution_count": 146,
      "outputs": [
        {
          "output_type": "execute_result",
          "data": {
            "text/plain": [
              "(0.017391057000168075, 2.282290944903947e-05)"
            ]
          },
          "metadata": {
            "tags": []
          },
          "execution_count": 146
        }
      ]
    },
    {
      "cell_type": "code",
      "metadata": {
        "colab": {
          "base_uri": "https://localhost:8080/"
        },
        "id": "umN3-kq8m8IU",
        "outputId": "10498d63-26d8-4aec-b32a-2f97528ddcaa"
      },
      "source": [
        "# Get results for pretrained GS model\n",
        "model_6_pretrained_results = calculate_results(y_true=val_labels,\n",
        "                                       y_pred = model_6_pretrained_preds)\n",
        "model_6_pretrained_results"
      ],
      "execution_count": 151,
      "outputs": [
        {
          "output_type": "execute_result",
          "data": {
            "text/plain": [
              "{'accuracy': 81.62729658792651,\n",
              " 'f1': 0.8148082644367335,\n",
              " 'precison': 0.818446310697231,\n",
              " 'recall': 0.8162729658792651}"
            ]
          },
          "metadata": {
            "tags": []
          },
          "execution_count": 151
        }
      ]
    },
    {
      "cell_type": "code",
      "metadata": {
        "colab": {
          "base_uri": "https://localhost:8080/",
          "height": 458
        },
        "id": "Bmyg3E16mtsR",
        "outputId": "a7ddb00f-5bca-4640-aa2e-9d1f9271ea58"
      },
      "source": [
        "import matplotlib.pyplot as plt\n",
        "\n",
        "plt.figure(figsize=(10,7))\n",
        "plt.scatter(baseline_time_per_pred, baseline_results['f1'], label='baseline')\n",
        "plt.scatter(model_6_time_per_pred, model_6_pretrained_results[\"f1\"], label=\"tf_hub_sentence_encoder\")\n",
        "plt.legend()\n",
        "plt.title(\"F1-score versus time per prediction\")\n",
        "plt.xlabel(\"Time per prediction\")\n",
        "plt.ylabel(\"F1-score\");"
      ],
      "execution_count": 152,
      "outputs": [
        {
          "output_type": "display_data",
          "data": {
            "image/png": "[encoded data removed]",
            "text/plain": [
              "<Figure size 720x504 with 1 Axes>"
            ]
          },
          "metadata": {
            "tags": [],
            "needs_background": "light"
          }
        }
      ]
    },
    {
      "cell_type": "code",
      "metadata": {
        "id": "nU_mn-XTnry3"
      },
      "source": [
        ""
      ],
      "execution_count": null,
      "outputs": []
    }
  ]
}